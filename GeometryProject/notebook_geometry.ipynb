{
 "cells": [
  {
   "cell_type": "markdown",
   "id": "01df5a4c-8eeb-414a-9a1f-44f6a01e1f4d",
   "metadata": {},
   "source": [
    "# Geometry POO"
   ]
  },
  {
   "cell_type": "code",
   "execution_count": 1,
   "id": "08684a3c-8bb0-4b5f-8982-619b9cd9a80a",
   "metadata": {},
   "outputs": [],
   "source": [
    "# https://ipython.org/ipython-doc/3/config/extensions/autoreload.html\n",
    "%load_ext autoreload\n",
    "%autoreload 2"
   ]
  },
  {
   "cell_type": "code",
   "execution_count": 2,
   "id": "5f92fa7d-3a93-4957-bb28-57f0980065aa",
   "metadata": {},
   "outputs": [],
   "source": [
    "from geometry import (\n",
    "    Shape, \n",
    "    Point, ColoredPoint, WeightedPoint, ColoredWeightedPoint,\n",
    "    Segment,\n",
    "    Circle,\n",
    "    Polygon,\n",
    ")    "
   ]
  },
  {
   "cell_type": "markdown",
   "id": "48963121-94ed-4965-a055-a40fc9501223",
   "metadata": {},
   "source": [
    "## Build individual data"
   ]
  },
  {
   "cell_type": "code",
   "execution_count": 3,
   "id": "edd243cd-2daa-4321-b983-9d50e8b65e39",
   "metadata": {},
   "outputs": [],
   "source": [
    "# points\n",
    "p0 = Point()\n",
    "pA = Point(\n",
    "    name=\"A\", \n",
    "    x=3.5, \n",
    "    y=5.8\n",
    ")\n",
    "p2 = Point(\n",
    "    x=5.5,\n",
    "    y=12.5\n",
    ")"
   ]
  },
  {
   "cell_type": "code",
   "execution_count": 4,
   "id": "21a8fc03-f4dd-4b1e-8f5e-df42bbed9679",
   "metadata": {},
   "outputs": [],
   "source": [
    "# specialized points\n",
    "cpB = ColoredPoint(\n",
    "    name=\"B\", \n",
    "    x=6.5, \n",
    "    y=9.8, \n",
    "    color=\"red\"\n",
    ")\n",
    "wpC = WeightedPoint(\n",
    "    name=\"C\", \n",
    "    x=3.5, y=9.8, \n",
    "    weight=1E3\n",
    ")\n",
    "cwpD = ColoredWeightedPoint(\n",
    "    name=\"D\", \n",
    "    x=7.125, y=12.25, \n",
    "    color=\"blue\", \n",
    "    weight=1.5E3\n",
    ")"
   ]
  },
  {
   "cell_type": "code",
   "execution_count": 5,
   "id": "5a49c4d7-0457-466f-a4e2-075676c6d7e7",
   "metadata": {},
   "outputs": [],
   "source": [
    "s1 = Segment(\n",
    "    name=\"AB\",\n",
    "    ends=(pA, cpB)\n",
    ")\n",
    "s0 = Segment()\n",
    "# s2 = Segment.from_ends(p0, p1)\n",
    "# s2 = Segment.from_name_and_ends(\"AB\", p0, p1)"
   ]
  },
  {
   "cell_type": "code",
   "execution_count": 6,
   "id": "781607f3-2a50-48d7-a82e-678fe9588312",
   "metadata": {},
   "outputs": [],
   "source": [
    "c0 = Circle() # default circle\n",
    "c1 = Circle(\n",
    "    name=\"C1\",\n",
    "    radius=4.5,\n",
    "    center=pA\n",
    ")"
   ]
  },
  {
   "cell_type": "code",
   "execution_count": 7,
   "id": "ddcbd00d-5942-4dff-b2ad-b3c681c50ce8",
   "metadata": {},
   "outputs": [],
   "source": [
    "poly0 = Polygon() # default Polygon\n",
    "poly1 = Polygon(\n",
    "    name=\"P1\",\n",
    "    vertices=(pA, cpB, wpC, cwpD)\n",
    ")\n",
    "poly2 = Polygon(vertices=(p0, pA, p2))\n",
    "# poly3 = Polygon.from_vertices(pA, p2, p0)\n",
    "# poly4 = Polygon.from_name_and_vertices(\"P4\", p2, p0, pA)"
   ]
  },
  {
   "cell_type": "markdown",
   "id": "fb931863-8048-467c-9637-41bec5282d55",
   "metadata": {},
   "source": [
    "## List of shapes"
   ]
  },
  {
   "cell_type": "code",
   "execution_count": 8,
   "id": "5ced330c-a958-4f41-b41f-0e63f343955f",
   "metadata": {},
   "outputs": [],
   "source": [
    "shapes: list[Shape] = [\n",
    "    p0, pA, p2, \n",
    "    cpB, wpC, cwpD, \n",
    "    s0, s1, \n",
    "    # c0, c1, \n",
    "    poly1, poly0, poly2, \n",
    "    # poly3, poly4,\n",
    "]\n",
    "    "
   ]
  },
  {
   "cell_type": "markdown",
   "id": "4f3e785c-1afb-4c6e-9737-72d3618d6497",
   "metadata": {},
   "source": [
    "### repr vs str"
   ]
  },
  {
   "cell_type": "code",
   "execution_count": 9,
   "id": "76082f0f-8ff6-4343-8014-5cb1040ce2fc",
   "metadata": {},
   "outputs": [
    {
     "name": "stdout",
     "output_type": "stream",
     "text": [
      "(0.0, 0.0)\n",
      "Point(name=None, x=0.0, y=0.0)\n",
      "- name: None\n",
      "\n",
      "A(3.5, 5.8)\n",
      "Point(name='A', x=3.5, y=5.8)\n",
      "- name: A\n",
      "\n",
      "(5.5, 12.5)\n",
      "Point(name=None, x=5.5, y=12.5)\n",
      "- name: None\n",
      "\n",
      "B(6.5, 9.8)@red\n",
      "ColoredPoint(name='B', x=6.5, y=9.8, color='red')\n",
      "- name: B\n",
      "\n",
      "C(3.5, 9.8)$1000.000\n",
      "WeightedPoint(name='C', x=3.5, y=9.8, weight=1000.0)\n",
      "- name: C\n",
      "\n",
      "D(7.125, 12.25)$1500.000@blue\n",
      "ColoredWeightedPoint(name='D', x=7.125, y=12.25, weight=1500.0, color='blue')\n",
      "- name: D\n",
      "\n",
      "#[(0.0, 0.0) - (0.0, 0.0)]\n",
      "Segment(name=None, ends=(Point(name=None, x=0.0, y=0.0), Point(name=None, x=0.0, y=0.0)))\n",
      "- name: None\n",
      "\n",
      "AB#[A(3.5, 5.8) - B(6.5, 9.8)@red]\n",
      "Segment(name='AB', ends=(Point(name='A', x=3.5, y=5.8), ColoredPoint(name='B', x=6.5, y=9.8, color='red')))\n",
      "- name: AB\n",
      "\n",
      "P1~4(A, B, C, D)\n",
      "Polygon(name='P1', vertices=(Point(name='A', x=3.5, y=5.8), ColoredPoint(name='B', x=6.5, y=9.8, color='red'), WeightedPoint(name='C', x=3.5, y=9.8, weight=1000.0), ColoredWeightedPoint(name='D', x=7.125, y=12.25, weight=1500.0, color='blue')))\n",
      "- name: P1\n",
      "\n",
      "~3(?, ?, ?)\n",
      "Polygon(name=None, vertices=(Point(name=None, x=0.0, y=0.0), Point(name=None, x=0.0, y=0.0), Point(name=None, x=0.0, y=0.0)))\n",
      "- name: None\n",
      "\n",
      "~3(?, A, ?)\n",
      "Polygon(name=None, vertices=(Point(name=None, x=0.0, y=0.0), Point(name='A', x=3.5, y=5.8), Point(name=None, x=5.5, y=12.5)))\n",
      "- name: None\n",
      "\n"
     ]
    }
   ],
   "source": [
    "for shape in shapes:\n",
    "    print(shape)\n",
    "    print(repr(shape))\n",
    "    print(f\"- name: {shape.name}\")\n",
    "    print()"
   ]
  },
  {
   "cell_type": "markdown",
   "id": "bd2ad8b7-c2b1-445e-9bed-6c777c9dc752",
   "metadata": {},
   "source": [
    "### translate every shape"
   ]
  },
  {
   "cell_type": "code",
   "execution_count": 10,
   "id": "e72f45f7-c834-407c-b9b7-9c91f4a8daf1",
   "metadata": {},
   "outputs": [
    {
     "name": "stdout",
     "output_type": "stream",
     "text": [
      "[Point(name=None, x=0.0, y=0.0), Point(name='A', x=3.5, y=5.8), Point(name=None, x=5.5, y=12.5), ColoredPoint(name='B', x=6.5, y=9.8, color='red'), WeightedPoint(name='C', x=3.5, y=9.8, weight=1000.0), ColoredWeightedPoint(name='D', x=7.125, y=12.25, weight=1500.0, color='blue'), Segment(name=None, ends=(Point(name=None, x=0.0, y=0.0), Point(name=None, x=0.0, y=0.0))), Segment(name='AB', ends=(Point(name='A', x=3.5, y=5.8), ColoredPoint(name='B', x=6.5, y=9.8, color='red'))), Polygon(name='P1', vertices=(Point(name='A', x=3.5, y=5.8), ColoredPoint(name='B', x=6.5, y=9.8, color='red'), WeightedPoint(name='C', x=3.5, y=9.8, weight=1000.0), ColoredWeightedPoint(name='D', x=7.125, y=12.25, weight=1500.0, color='blue'))), Polygon(name=None, vertices=(Point(name=None, x=0.0, y=0.0), Point(name=None, x=0.0, y=0.0), Point(name=None, x=0.0, y=0.0))), Polygon(name=None, vertices=(Point(name=None, x=0.0, y=0.0), Point(name='A', x=3.5, y=5.8), Point(name=None, x=5.5, y=12.5)))]\n",
      "\n",
      "[Point(name=None, x=2.0, y=-2.0), Point(name='A', x=7.5, y=1.7999999999999998), Point(name=None, x=7.5, y=10.5), ColoredPoint(name='B', x=9.5, y=6.800000000000001, color='red'), WeightedPoint(name='C', x=5.5, y=7.800000000000001, weight=1000.0), ColoredWeightedPoint(name='D', x=9.125, y=10.25, weight=1500.0, color='blue'), Segment(name=None, ends=(Point(name=None, x=1.0, y=-1.0), Point(name=None, x=1.0, y=-1.0))), Segment(name='AB', ends=(Point(name='A', x=7.5, y=1.7999999999999998), ColoredPoint(name='B', x=9.5, y=6.800000000000001, color='red'))), Polygon(name='P1', vertices=(Point(name='A', x=7.5, y=1.7999999999999998), ColoredPoint(name='B', x=9.5, y=6.800000000000001, color='red'), WeightedPoint(name='C', x=5.5, y=7.800000000000001, weight=1000.0), ColoredWeightedPoint(name='D', x=9.125, y=10.25, weight=1500.0, color='blue'))), Polygon(name=None, vertices=(Point(name=None, x=1.0, y=-1.0), Point(name=None, x=1.0, y=-1.0), Point(name=None, x=1.0, y=-1.0))), Polygon(name=None, vertices=(Point(name=None, x=2.0, y=-2.0), Point(name='A', x=7.5, y=1.7999999999999998), Point(name=None, x=7.5, y=10.5)))]\n"
     ]
    }
   ],
   "source": [
    "print(shapes)\n",
    "for shape in shapes:\n",
    "    shape.translate(1, -1)\n",
    "print()\n",
    "print(shapes)"
   ]
  },
  {
   "cell_type": "markdown",
   "id": "a331afc2-1751-4de5-ac12-cb1a0fbd653a",
   "metadata": {},
   "source": [
    "## MRO"
   ]
  },
  {
   "cell_type": "code",
   "execution_count": 11,
   "id": "4efaab56-0d53-4bae-a720-7361452d43ae",
   "metadata": {},
   "outputs": [
    {
     "data": {
      "text/plain": [
       "[geometry.point.ColoredWeightedPoint,\n",
       " geometry.point.ColoredPoint,\n",
       " geometry.point.WeightedPoint,\n",
       " geometry.point.Point,\n",
       " geometry.shape.Shape,\n",
       " abc.ABC,\n",
       " object]"
      ]
     },
     "execution_count": 11,
     "metadata": {},
     "output_type": "execute_result"
    }
   ],
   "source": [
    "ColoredWeightedPoint.mro()"
   ]
  },
  {
   "cell_type": "code",
   "execution_count": 12,
   "id": "07905a45-3d30-4bb1-9d49-4f4fcfd813c4",
   "metadata": {},
   "outputs": [
    {
     "data": {
      "text/plain": [
       "[geometry.point.ColoredPoint,\n",
       " geometry.point.Point,\n",
       " geometry.shape.Shape,\n",
       " abc.ABC,\n",
       " object]"
      ]
     },
     "execution_count": 12,
     "metadata": {},
     "output_type": "execute_result"
    }
   ],
   "source": [
    "ColoredPoint.mro()"
   ]
  },
  {
   "cell_type": "markdown",
   "id": "00331f79-4825-40e8-8c4f-bffc6c6eab2a",
   "metadata": {},
   "source": [
    "## Interfaces"
   ]
  },
  {
   "cell_type": "code",
   "execution_count": 13,
   "id": "4a6b11f8-3ba8-4301-9dc5-a8a0eaad2b81",
   "metadata": {},
   "outputs": [
    {
     "data": {
      "text/plain": [
       "5.385164807134505"
      ]
     },
     "execution_count": 13,
     "metadata": {},
     "output_type": "execute_result"
    }
   ],
   "source": [
    "s1.length()"
   ]
  },
  {
   "cell_type": "code",
   "execution_count": 14,
   "id": "e471512e-0f59-47d4-84d5-08ca4e7743e3",
   "metadata": {},
   "outputs": [
    {
     "ename": "TypeError",
     "evalue": "'float' object cannot be interpreted as an integer",
     "output_type": "error",
     "traceback": [
      "\u001b[31m---------------------------------------------------------------------------\u001b[39m",
      "\u001b[31mTypeError\u001b[39m                                 Traceback (most recent call last)",
      "\u001b[36mCell\u001b[39m\u001b[36m \u001b[39m\u001b[32mIn[14]\u001b[39m\u001b[32m, line 1\u001b[39m\n\u001b[32m----> \u001b[39m\u001b[32m1\u001b[39m \u001b[38;5;28;43mlen\u001b[39;49m\u001b[43m(\u001b[49m\u001b[43ms1\u001b[49m\u001b[43m)\u001b[49m\n",
      "\u001b[31mTypeError\u001b[39m: 'float' object cannot be interpreted as an integer"
     ]
    }
   ],
   "source": [
    "len(s1)"
   ]
  }
 ],
 "metadata": {
  "kernelspec": {
   "display_name": "Python 3 (ipykernel)",
   "language": "python",
   "name": "python3"
  },
  "language_info": {
   "codemirror_mode": {
    "name": "ipython",
    "version": 3
   },
   "file_extension": ".py",
   "mimetype": "text/x-python",
   "name": "python",
   "nbconvert_exporter": "python",
   "pygments_lexer": "ipython3",
   "version": "3.13.2"
  }
 },
 "nbformat": 4,
 "nbformat_minor": 5
}
