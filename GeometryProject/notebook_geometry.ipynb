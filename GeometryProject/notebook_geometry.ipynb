{
 "cells": [
  {
   "cell_type": "markdown",
   "id": "01df5a4c-8eeb-414a-9a1f-44f6a01e1f4d",
   "metadata": {},
   "source": [
    "# Geometry POO"
   ]
  },
  {
   "cell_type": "code",
   "execution_count": 1,
   "id": "08684a3c-8bb0-4b5f-8982-619b9cd9a80a",
   "metadata": {},
   "outputs": [],
   "source": [
    "# https://ipython.org/ipython-doc/3/config/extensions/autoreload.html\n",
    "%load_ext autoreload\n",
    "%autoreload 2"
   ]
  },
  {
   "cell_type": "code",
   "execution_count": 10,
   "id": "5f92fa7d-3a93-4957-bb28-57f0980065aa",
   "metadata": {},
   "outputs": [],
   "source": [
    "from geometry import (\n",
    "    Shape, \n",
    "    Point, ColoredPoint, WeightedPoint, ColoredWeightedPoint,\n",
    "    Segment,\n",
    "    Circle,\n",
    "    Polygon\n",
    ")    "
   ]
  },
  {
   "cell_type": "code",
   "execution_count": 11,
   "id": "5250bbf8-1919-400e-9371-39f5c2d5b3f7",
   "metadata": {},
   "outputs": [],
   "source": [
    "pA = Point(\n",
    "    name=\"A\", \n",
    "    x=3.5, \n",
    "    y=5.8\n",
    ")\n",
    "cpB = ColoredPoint(\n",
    "    name=\"B\", \n",
    "    x=6.5, \n",
    "    y=9.8, \n",
    "    # color=\"red\"\n",
    ")\n",
    "wpC = WeightedPoint(\n",
    "    name=\"B\", \n",
    "    x=3.5, y=9.8, \n",
    "    # weigth=1E3\n",
    ")\n",
    "cwpD = ColoredWeightedPoint(\n",
    "    name=\"D\", \n",
    "    x=7.125, y=12.25, \n",
    "    # color=\"blue\", \n",
    "    # weight=1.5E3\n",
    ")\n",
    "s = Segment(\n",
    "    name=\"AB\",\n",
    "    # ends=(pA, cpB)\n",
    ")\n",
    "c1 = Circle(\n",
    "    name=\"C1\",\n",
    "    # radius=4.5,\n",
    "    # center=pA\n",
    ")\n",
    "p1 = Polygon(\n",
    "    name=\"P1\",\n",
    "    # vertices=(pA, cpB, wpC, cwpD)\n",
    ")\n",
    "shapes: list[Shape] = [\n",
    "    pA, cpB, wpC, cwpD, \n",
    "    s, c1, p1\n",
    "]\n",
    "    "
   ]
  },
  {
   "cell_type": "code",
   "execution_count": 14,
   "id": "76082f0f-8ff6-4343-8014-5cb1040ce2fc",
   "metadata": {},
   "outputs": [
    {
     "name": "stdout",
     "output_type": "stream",
     "text": [
      "(3.5, 5.8)\n",
      "Point(name='A', x=3.5, y=5.8)\n",
      "- name: A\n",
      "\n",
      "(6.5, 9.8)\n",
      "ColoredPoint(name='B', x=6.5, y=9.8)\n",
      "- name: B\n",
      "\n",
      "(3.5, 9.8)\n",
      "WeightedPoint(name='B', x=3.5, y=9.8)\n",
      "- name: B\n",
      "\n",
      "(7.125, 12.25)\n",
      "ColoredWeightedPoint(name='D', x=7.125, y=12.25)\n",
      "- name: D\n",
      "\n",
      "Segment(name='AB')\n",
      "Segment(name='AB')\n",
      "- name: AB\n",
      "\n",
      "Circle(name='C1')\n",
      "Circle(name='C1')\n",
      "- name: C1\n",
      "\n",
      "Polygon(name='P1')\n",
      "Polygon(name='P1')\n",
      "- name: P1\n",
      "\n"
     ]
    }
   ],
   "source": [
    "for shape in shapes:\n",
    "    print(shape)\n",
    "    print(repr(shape))\n",
    "    print(f\"- name: {shape.name}\")\n",
    "    print()"
   ]
  },
  {
   "cell_type": "code",
   "execution_count": 13,
   "id": "e72f45f7-c834-407c-b9b7-9c91f4a8daf1",
   "metadata": {},
   "outputs": [
    {
     "name": "stdout",
     "output_type": "stream",
     "text": [
      "[Point(name='A', x=3.5, y=5.8), ColoredPoint(name='B', x=6.5, y=9.8), WeightedPoint(name='B', x=3.5, y=9.8), ColoredWeightedPoint(name='D', x=7.125, y=12.25), Segment(name='AB'), Circle(name='C1'), Polygon(name='P1')]\n",
      "[Point(name='A', x=3.5, y=5.8), ColoredPoint(name='B', x=6.5, y=9.8), WeightedPoint(name='B', x=3.5, y=9.8), ColoredWeightedPoint(name='D', x=7.125, y=12.25), Segment(name='AB'), Circle(name='C1'), Polygon(name='P1')]\n"
     ]
    }
   ],
   "source": [
    "print(shapes)\n",
    "for shape in shapes:\n",
    "    pass\n",
    "    # shape.translate(1, -1)\n",
    "print(shapes)"
   ]
  }
 ],
 "metadata": {
  "kernelspec": {
   "display_name": "Python 3 (ipykernel)",
   "language": "python",
   "name": "python3"
  },
  "language_info": {
   "codemirror_mode": {
    "name": "ipython",
    "version": 3
   },
   "file_extension": ".py",
   "mimetype": "text/x-python",
   "name": "python",
   "nbconvert_exporter": "python",
   "pygments_lexer": "ipython3",
   "version": "3.13.2"
  }
 },
 "nbformat": 4,
 "nbformat_minor": 5
}
