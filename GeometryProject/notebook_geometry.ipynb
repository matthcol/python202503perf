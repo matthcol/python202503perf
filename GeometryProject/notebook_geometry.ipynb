{
 "cells": [
  {
   "cell_type": "markdown",
   "id": "01df5a4c-8eeb-414a-9a1f-44f6a01e1f4d",
   "metadata": {},
   "source": [
    "# Geometry POO"
   ]
  },
  {
   "cell_type": "code",
   "execution_count": 1,
   "id": "08684a3c-8bb0-4b5f-8982-619b9cd9a80a",
   "metadata": {},
   "outputs": [],
   "source": [
    "# https://ipython.org/ipython-doc/3/config/extensions/autoreload.html\n",
    "%load_ext autoreload\n",
    "%autoreload 2"
   ]
  },
  {
   "cell_type": "code",
   "execution_count": 3,
   "id": "5f92fa7d-3a93-4957-bb28-57f0980065aa",
   "metadata": {},
   "outputs": [],
   "source": [
    "from geometry import (\n",
    "    Shape, \n",
    "    Point, ColoredPoint, WeightedPoint, ColoredWeightedPoint,\n",
    "    Segment,\n",
    "    Polygon\n",
    ")    "
   ]
  },
  {
   "cell_type": "code",
   "execution_count": 5,
   "id": "5250bbf8-1919-400e-9371-39f5c2d5b3f7",
   "metadata": {},
   "outputs": [],
   "source": [
    "pA = Point(\n",
    "    name=\"A\", \n",
    "    x=3.5, \n",
    "    y=5.8\n",
    ")\n",
    "cpB = ColoredPoint(\n",
    "    name=\"B\", \n",
    "    x=6.5, \n",
    "    y=9.8, \n",
    "    # color=\"red\"\n",
    ")\n",
    "wpC = WeightedPoint(\n",
    "    name=\"B\", \n",
    "    x=3.5, y=9.8, \n",
    "    # weigth=1E3\n",
    ")\n",
    "cwpD = ColoredWeightedPoint(\n",
    "    name=\"D\", \n",
    "    x=7.125, y=12.25, \n",
    "    # color=\"blue\", \n",
    "    # weight=1.5E3\n",
    ")"
   ]
  }
 ],
 "metadata": {
  "kernelspec": {
   "display_name": "Python 3 (ipykernel)",
   "language": "python",
   "name": "python3"
  },
  "language_info": {
   "codemirror_mode": {
    "name": "ipython",
    "version": 3
   },
   "file_extension": ".py",
   "mimetype": "text/x-python",
   "name": "python",
   "nbconvert_exporter": "python",
   "pygments_lexer": "ipython3",
   "version": "3.13.2"
  }
 },
 "nbformat": 4,
 "nbformat_minor": 5
}
