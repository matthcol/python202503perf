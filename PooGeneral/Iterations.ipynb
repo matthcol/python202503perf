{
 "cells": [
  {
   "cell_type": "markdown",
   "id": "1b0d3fcf-dd1e-4a41-9ed2-71f84ab8b2c0",
   "metadata": {},
   "source": [
    "# Iterator / Iterable\n",
    "Iterable objects in python ecosystem:\n",
    "- builtin collections and strings: list, tuple, set, dict, str\n",
    "- scientific data: numpy.ndarray, pandas.DataFrame|Series\n",
    "- your data\n",
    "\n",
    "Mechanism:\n",
    "- builtin iter() => `__iter__()`  (abstract class Iterable)\n",
    "- builtin next() => `__next__()`  (abstract class Iterator which inherits Iterable)"
   ]
  },
  {
   "cell_type": "code",
   "execution_count": 203,
   "id": "2c3423e1-c2f2-442f-8b05-7341a74a16bd",
   "metadata": {},
   "outputs": [],
   "source": [
    "import numpy as np\n",
    "import pandas as pd\n",
    "from collections.abc import Iterable, Iterator, Sized"
   ]
  },
  {
   "cell_type": "code",
   "execution_count": 3,
   "id": "f3036b81-ff04-41fc-bdf8-50b1ee3c5f6d",
   "metadata": {},
   "outputs": [
    {
     "data": {
      "text/plain": [
       "['Toulouse',\n",
       " 'Nice',\n",
       " 'Lyon',\n",
       " 'Lille',\n",
       " 'Pau',\n",
       " 'Montpellier',\n",
       " 'Narbonne',\n",
       " 'Marseille']"
      ]
     },
     "execution_count": 3,
     "metadata": {},
     "output_type": "execute_result"
    }
   ],
   "source": [
    "cities: list[str] = [\"Toulouse\", \"Nice\", \"Pau\"]\n",
    "cities.append('Montpellier')\n",
    "cities.extend(['Narbonne', 'Marseille'])\n",
    "cities[2:2] = ['Lyon', 'Lille']\n",
    "cities"
   ]
  },
  {
   "cell_type": "code",
   "execution_count": 4,
   "id": "7e4204dc-40fa-4a75-8fc3-6398b2a11744",
   "metadata": {},
   "outputs": [
    {
     "data": {
      "text/plain": [
       "['Toulouse', 'Nice', 'Lyon']"
      ]
     },
     "execution_count": 4,
     "metadata": {},
     "output_type": "execute_result"
    }
   ],
   "source": [
    "del cities[3:]\n",
    "cities"
   ]
  },
  {
   "cell_type": "markdown",
   "id": "f935de97-8ed6-4aea-a34f-705ea057f4d2",
   "metadata": {},
   "source": [
    "update list:\n",
    "- methods: append, pop, extend, insert, remove, clear\n",
    "- instruction: del\n",
    "- operator[] with index or slice"
   ]
  },
  {
   "cell_type": "code",
   "execution_count": 6,
   "id": "c56f851d-683d-46b5-b0a3-32c427e6cb3e",
   "metadata": {},
   "outputs": [
    {
     "name": "stdout",
     "output_type": "stream",
     "text": [
      "Toulouse TOULOUSE 8\n",
      "Nice NICE 4\n",
      "Lyon LYON 4\n"
     ]
    }
   ],
   "source": [
    "for city in cities:\n",
    "    print(city, city.upper(), len(city))"
   ]
  },
  {
   "cell_type": "code",
   "execution_count": 7,
   "id": "614bd1ba-f848-438d-9cba-fc2b0f5aa3bf",
   "metadata": {},
   "outputs": [],
   "source": [
    "# everything is not iterable\n",
    "# for x in 1234:\n",
    "#     print(x)\n",
    "# TypeError: 'int' object is not iterable"
   ]
  },
  {
   "cell_type": "code",
   "execution_count": 8,
   "id": "63d13da0-fab6-4410-99ac-6adea4996ce5",
   "metadata": {},
   "outputs": [
    {
     "data": {
      "text/plain": [
       "array([ 9.76734732,  9.91082219,  6.37252333, ...,  8.99853937,\n",
       "       10.97762653,  8.6005564 ])"
      ]
     },
     "execution_count": 8,
     "metadata": {},
     "output_type": "execute_result"
    }
   ],
   "source": [
    "data = np.random.normal(10, 2.5, 1_000_000)\n",
    "data"
   ]
  },
  {
   "cell_type": "code",
   "execution_count": 9,
   "id": "cd797edf-0600-46c9-8f12-58d3ffc0664a",
   "metadata": {},
   "outputs": [
    {
     "data": {
      "text/plain": [
       "10002683.125113327"
      ]
     },
     "execution_count": 9,
     "metadata": {},
     "output_type": "execute_result"
    }
   ],
   "source": [
    "# NB:not the best way, but it works\n",
    "sum(data)"
   ]
  },
  {
   "cell_type": "code",
   "execution_count": 10,
   "id": "1fd345a0-458c-437e-9d14-a1400c770478",
   "metadata": {},
   "outputs": [
    {
     "data": {
      "text/plain": [
       "list"
      ]
     },
     "execution_count": 10,
     "metadata": {},
     "output_type": "execute_result"
    }
   ],
   "source": [
    "type(cities)"
   ]
  },
  {
   "cell_type": "code",
   "execution_count": 11,
   "id": "f9f4dfe8-9c13-46f3-a5be-7850a416113a",
   "metadata": {},
   "outputs": [
    {
     "data": {
      "text/plain": [
       "numpy.ndarray"
      ]
     },
     "execution_count": 11,
     "metadata": {},
     "output_type": "execute_result"
    }
   ],
   "source": [
    "type(data)"
   ]
  },
  {
   "cell_type": "code",
   "execution_count": 12,
   "id": "590ce588-fd33-4840-9dab-822c14bd4aa1",
   "metadata": {},
   "outputs": [
    {
     "data": {
      "text/plain": [
       "<method-wrapper '__iter__' of numpy.ndarray object at 0x000001D0385F3030>"
      ]
     },
     "execution_count": 12,
     "metadata": {},
     "output_type": "execute_result"
    }
   ],
   "source": [
    "data.__iter__"
   ]
  },
  {
   "cell_type": "code",
   "execution_count": 13,
   "id": "9fb6a8c4-f7f3-483e-bdb7-67bc65247bbc",
   "metadata": {},
   "outputs": [
    {
     "data": {
      "text/plain": [
       "<method-wrapper '__iter__' of list object at 0x000001D03B03F880>"
      ]
     },
     "execution_count": 13,
     "metadata": {},
     "output_type": "execute_result"
    }
   ],
   "source": [
    "cities.__iter__"
   ]
  },
  {
   "cell_type": "code",
   "execution_count": 14,
   "id": "8215800d-0c51-4b9c-ba83-759caa0ce250",
   "metadata": {},
   "outputs": [
    {
     "data": {
      "text/plain": [
       "<list_iterator at 0x1d03b027970>"
      ]
     },
     "execution_count": 14,
     "metadata": {},
     "output_type": "execute_result"
    }
   ],
   "source": [
    "it = iter(cities) # call __iter__\n",
    "it"
   ]
  },
  {
   "cell_type": "code",
   "execution_count": 15,
   "id": "12c613a7-f577-4458-98c3-d589ad9cf7c0",
   "metadata": {},
   "outputs": [],
   "source": [
    "assert isinstance(cities, list)\n",
    "assert isinstance(cities, Iterable)\n",
    "assert isinstance(data, np.ndarray)\n",
    "assert isinstance(data, Iterable)\n",
    "assert isinstance(it, Iterable)\n",
    "assert isinstance(it, Iterator)"
   ]
  },
  {
   "cell_type": "code",
   "execution_count": 16,
   "id": "87d3e27f-f40b-4bb1-8f9e-8cee4f2b6af1",
   "metadata": {},
   "outputs": [
    {
     "data": {
      "text/plain": [
       "8"
      ]
     },
     "execution_count": 16,
     "metadata": {},
     "output_type": "execute_result"
    }
   ],
   "source": [
    "it = iter(cities)\n",
    "next(it)\n",
    "sum(len(city) for city in it) # an iterator is iterable"
   ]
  },
  {
   "cell_type": "code",
   "execution_count": 17,
   "id": "4f0eef82-6fd6-4206-8cb2-548cd8c2f5f7",
   "metadata": {},
   "outputs": [
    {
     "data": {
      "text/plain": [
       "<function len(obj, /)>"
      ]
     },
     "execution_count": 17,
     "metadata": {},
     "output_type": "execute_result"
    }
   ],
   "source": [
    "len"
   ]
  },
  {
   "cell_type": "code",
   "execution_count": 18,
   "id": "d24e3d10-83aa-473a-9670-e2ed1f19c016",
   "metadata": {},
   "outputs": [
    {
     "name": "stdout",
     "output_type": "stream",
     "text": [
      "- 01: Toulouse\n",
      "- 02: Nice\n",
      "- 03: Lyon\n"
     ]
    }
   ],
   "source": [
    "for i, city in enumerate(cities, start=1):\n",
    "    print(f\"- {i:02d}: {city}\")  # f-string"
   ]
  },
  {
   "cell_type": "code",
   "execution_count": 19,
   "id": "8efa728a-4628-469f-8d5a-83f8e7d5de11",
   "metadata": {},
   "outputs": [
    {
     "data": {
      "text/plain": [
       "<zip at 0x1d03b06af00>"
      ]
     },
     "execution_count": 19,
     "metadata": {},
     "output_type": "execute_result"
    }
   ],
   "source": [
    "# lazy object: wait for iteration\n",
    "zip(cities, range(100), 'abcdefghijklmnopqrstuvwxyz')"
   ]
  },
  {
   "cell_type": "code",
   "execution_count": 20,
   "id": "c7b85116-3557-4d53-a883-79dd79bb5f1d",
   "metadata": {},
   "outputs": [
    {
     "data": {
      "text/plain": [
       "[('Toulouse', 0, 'a'), ('Nice', 1, 'b'), ('Lyon', 2, 'c')]"
      ]
     },
     "execution_count": 20,
     "metadata": {},
     "output_type": "execute_result"
    }
   ],
   "source": [
    "list(zip(cities, range(100), 'abcdefghijklmnopqrstuvwxyz'))"
   ]
  },
  {
   "cell_type": "code",
   "execution_count": 21,
   "id": "7e799afe-c873-4048-b9f5-d33c37eb5e5f",
   "metadata": {},
   "outputs": [
    {
     "name": "stdout",
     "output_type": "stream",
     "text": [
      "a - 0 - Toulouse\n",
      "b - 1 - Nice\n",
      "c - 2 - Lyon\n"
     ]
    }
   ],
   "source": [
    "for city, i, letter in zip(cities, range(100), 'abcdefghijklmnopqrstuvwxyz'):\n",
    "    print(f\"{letter} - {i} - {city}\")"
   ]
  },
  {
   "cell_type": "code",
   "execution_count": 22,
   "id": "dc8bce66-b405-4818-a391-c6aeabca47d7",
   "metadata": {},
   "outputs": [
    {
     "data": {
      "text/plain": [
       "<zip at 0x1d03b064500>"
      ]
     },
     "execution_count": 22,
     "metadata": {},
     "output_type": "execute_result"
    }
   ],
   "source": [
    "it = iter(zip(cities, range(100), 'abcdefghijklmnopqrstuvwxyz'))\n",
    "it"
   ]
  },
  {
   "cell_type": "code",
   "execution_count": 23,
   "id": "75017322-4b8b-4b61-9fd6-fd6864cbc25b",
   "metadata": {},
   "outputs": [
    {
     "data": {
      "text/plain": [
       "('Toulouse', 0, 'a')"
      ]
     },
     "execution_count": 23,
     "metadata": {},
     "output_type": "execute_result"
    }
   ],
   "source": [
    "# 1 step\n",
    "next(it)"
   ]
  },
  {
   "cell_type": "code",
   "execution_count": 24,
   "id": "e40511fb-28be-449e-9ceb-8091058fca91",
   "metadata": {},
   "outputs": [
    {
     "name": "stdout",
     "output_type": "stream",
     "text": [
      "b - 1 - Nice\n"
     ]
    }
   ],
   "source": [
    "# 2nd step\n",
    "# focus on the unpack mechanism\n",
    "city, i, letter = next(it)\n",
    "print(f\"{letter} - {i} - {city}\")"
   ]
  },
  {
   "cell_type": "code",
   "execution_count": 25,
   "id": "4426edd0-3a32-49c9-9e13-26e7390b27a7",
   "metadata": {},
   "outputs": [
    {
     "data": {
      "text/plain": [
       "('Lyon', 2, 'c')"
      ]
     },
     "execution_count": 25,
     "metadata": {},
     "output_type": "execute_result"
    }
   ],
   "source": [
    "# without unpack, less readable code\n",
    "next_element = next(it)\n",
    "next_element"
   ]
  },
  {
   "cell_type": "code",
   "execution_count": 26,
   "id": "8bfad89b-ab2e-4a79-b100-bbaea573df49",
   "metadata": {},
   "outputs": [
    {
     "name": "stdout",
     "output_type": "stream",
     "text": [
      "c - 2 - Lyon\n"
     ]
    }
   ],
   "source": [
    "print(f\"{next_element[2]} - {next_element[1]} - {next_element[0]}\")"
   ]
  },
  {
   "cell_type": "code",
   "execution_count": 27,
   "id": "c4fa336a-087e-438f-aff6-22c2d78d4fa7",
   "metadata": {},
   "outputs": [
    {
     "name": "stdout",
     "output_type": "stream",
     "text": [
      "I stop with exception: StopIteration\n"
     ]
    }
   ],
   "source": [
    "# NB: done by loop for and all low-level functions doing iterations\n",
    "try: \n",
    "    next(it)\n",
    "except StopIteration:\n",
    "    print(\"I stop with exception: StopIteration\")"
   ]
  },
  {
   "cell_type": "code",
   "execution_count": 28,
   "id": "ca7a4dbe-7a97-41e5-9026-0b181a475ecd",
   "metadata": {},
   "outputs": [
    {
     "name": "stdout",
     "output_type": "stream",
     "text": [
      "<zip object at 0x000001D03B066FC0>\n",
      "<zip object at 0x000001D03B066FC0>\n"
     ]
    }
   ],
   "source": [
    "z = zip(cities, range(100), 'abcdefghijklmnopqrstuvwxyz')\n",
    "it = iter(z)\n",
    "print(z)\n",
    "print(it)\n",
    "assert z is it\n",
    "assert iter(iter(iter(it))) is z"
   ]
  },
  {
   "cell_type": "code",
   "execution_count": 29,
   "id": "c98f59ae-5797-4721-b935-cb06df66bae1",
   "metadata": {},
   "outputs": [
    {
     "name": "stdout",
     "output_type": "stream",
     "text": [
      "-1.5914648517894996\n",
      "21.704464082038854\n",
      "10002683.125113327\n"
     ]
    }
   ],
   "source": [
    "print(min(data))\n",
    "print(max(data))\n",
    "print(sum(data))"
   ]
  },
  {
   "cell_type": "code",
   "execution_count": 30,
   "id": "8657bef7-c3b3-46e3-84f6-975f67ad7989",
   "metadata": {},
   "outputs": [
    {
     "name": "stdout",
     "output_type": "stream",
     "text": [
      "-1.5914648517894996\n",
      "21.704464082038854\n",
      "10002683.12511321\n"
     ]
    }
   ],
   "source": [
    "print(np.min(data))\n",
    "print(np.max(data))\n",
    "print(np.sum(data))"
   ]
  },
  {
   "cell_type": "code",
   "execution_count": 31,
   "id": "03b3372e-808c-46ab-b656-182068317058",
   "metadata": {},
   "outputs": [
    {
     "name": "stdout",
     "output_type": "stream",
     "text": [
      "-1.5914648517894996\n",
      "-1.5914648517894996\n",
      "10002683.12511321\n"
     ]
    }
   ],
   "source": [
    "print(data.min())\n",
    "print(data.min())\n",
    "print(data.sum())"
   ]
  },
  {
   "cell_type": "code",
   "execution_count": 32,
   "id": "0a48ccfb-6a29-4fb9-8776-08020dbf6569",
   "metadata": {},
   "outputs": [
    {
     "name": "stdout",
     "output_type": "stream",
     "text": [
      "tuple: ('Pau', '64000', 77000)\n",
      "1st element: Pau\n",
      "last element: 77000\n",
      "slice: ('Pau', '64000')\n",
      "type: <class 'tuple'>\n",
      "length: 3\n",
      "is iterable: True\n",
      "\n",
      "tuple: ('Toulouse', '31000', 500000)\n",
      "1st element: Toulouse\n",
      "last element: 500000\n",
      "slice: ('Toulouse', '31000')\n",
      "type: <class 'tuple'>\n",
      "length: 3\n",
      "is iterable: True\n",
      "\n",
      "tuple: ('Nice', '06000', 200000)\n",
      "1st element: Nice\n",
      "last element: 200000\n",
      "slice: ('Nice', '06000')\n",
      "type: <class 'tuple'>\n",
      "length: 3\n",
      "is iterable: True\n",
      "\n"
     ]
    }
   ],
   "source": [
    "t1 = 'Pau', '64000', 77_000\n",
    "t2 = ('Toulouse', '31000', 500_000)\n",
    "t3: tuple[str, str, int] = 'Nice', '06000', 200_000\n",
    "for t in t1, t2, t3:\n",
    "    print('tuple:', t)\n",
    "    print('1st element:', t[0])\n",
    "    print('last element:', t[-1])\n",
    "    print('slice:', t[:2])\n",
    "    print('type:', type(t))\n",
    "    print('length:', len(t))\n",
    "    print('is iterable:', isinstance(t, Iterable))\n",
    "    print()"
   ]
  },
  {
   "cell_type": "code",
   "execution_count": 65,
   "id": "b221d9ca-efa0-4059-a111-9d27f0888fc5",
   "metadata": {},
   "outputs": [],
   "source": [
    "# t1[0] = None\n",
    "# TypeError: 'tuple' object does not support item assignment"
   ]
  },
  {
   "cell_type": "code",
   "execution_count": 67,
   "id": "b9aabc52-21b2-4e8e-83fd-f0dc7ece4a89",
   "metadata": {},
   "outputs": [
    {
     "data": {
      "text/plain": [
       "{'Lyon', 'Nice', 'Toulouse'}"
      ]
     },
     "execution_count": 67,
     "metadata": {},
     "output_type": "execute_result"
    }
   ],
   "source": [
    "set_city = set(cities)\n",
    "set_city"
   ]
  },
  {
   "cell_type": "code",
   "execution_count": 73,
   "id": "7a2c50f4-3912-4e10-944e-13261478e1c9",
   "metadata": {},
   "outputs": [
    {
     "name": "stdout",
     "output_type": "stream",
     "text": [
      "length: 3\n",
      "Lyon\n",
      "Nice\n",
      "Toulouse\n"
     ]
    }
   ],
   "source": [
    "assert isinstance(set_city, Iterable)\n",
    "print('length:', len(set_city))\n",
    "for city in set_city:\n",
    "    print(city)"
   ]
  },
  {
   "cell_type": "code",
   "execution_count": 77,
   "id": "c5105131-fada-44c8-a448-330a7d26239f",
   "metadata": {},
   "outputs": [],
   "source": [
    "# TypeError: 'set' object is not subscriptable\n",
    "# set_city[0]"
   ]
  },
  {
   "cell_type": "code",
   "execution_count": 81,
   "id": "925b55e6-124a-4266-8e06-f6900727ec60",
   "metadata": {},
   "outputs": [
    {
     "data": {
      "text/plain": [
       "{'Lyon', 'Nice', 'Pau', 'Toulouse'}"
      ]
     },
     "execution_count": 81,
     "metadata": {},
     "output_type": "execute_result"
    }
   ],
   "source": [
    "# no doubles\n",
    "set_city.add('Lyon')\n",
    "set_city.add('Pau')\n",
    "set_city"
   ]
  },
  {
   "cell_type": "code",
   "execution_count": 83,
   "id": "9e66fb99-2173-4259-9eab-22cf3ebcf9ab",
   "metadata": {},
   "outputs": [
    {
     "data": {
      "text/plain": [
       "['Lyon', 'Nice', 'Pau', 'Toulouse']"
      ]
     },
     "execution_count": 83,
     "metadata": {},
     "output_type": "execute_result"
    }
   ],
   "source": [
    "cities2 = sorted(set_city)\n",
    "cities2"
   ]
  },
  {
   "cell_type": "markdown",
   "id": "f3f8a3f4-ba78-4a4d-a364-5a7aeb6acbde",
   "metadata": {},
   "source": [
    "## generators"
   ]
  },
  {
   "cell_type": "markdown",
   "id": "3252326f-a5af-47df-b378-346a8abfbbdf",
   "metadata": {},
   "source": [
    "### expression for, map/reduce"
   ]
  },
  {
   "cell_type": "code",
   "execution_count": 124,
   "id": "4512e35c-482b-447e-a724-c4e3ee4990f5",
   "metadata": {},
   "outputs": [
    {
     "data": {
      "text/plain": [
       "<generator object <genexpr> at 0x000001D03D5F20C0>"
      ]
     },
     "execution_count": 124,
     "metadata": {},
     "output_type": "execute_result"
    }
   ],
   "source": [
    "# expression for = generator\n",
    "g = (len(city) for city in set_city)\n",
    "g"
   ]
  },
  {
   "cell_type": "code",
   "execution_count": 125,
   "id": "b00cf306-e342-414e-b1ea-ea5778ea5af7",
   "metadata": {},
   "outputs": [
    {
     "data": {
      "text/plain": [
       "19"
      ]
     },
     "execution_count": 125,
     "metadata": {},
     "output_type": "execute_result"
    }
   ],
   "source": [
    "# expression is the only paramatyer\n",
    "sum(len(city) for city in set_city)"
   ]
  },
  {
   "cell_type": "code",
   "execution_count": 126,
   "id": "2aead2d0-690c-4a9a-863a-2abd2a4eeecf",
   "metadata": {},
   "outputs": [
    {
     "data": {
      "text/plain": [
       "119"
      ]
     },
     "execution_count": 126,
     "metadata": {},
     "output_type": "execute_result"
    }
   ],
   "source": [
    "# if other parameters, keep parenthesis\n",
    "sum((len(city) for city in set_city), 100)"
   ]
  },
  {
   "cell_type": "code",
   "execution_count": 127,
   "id": "03c32a3c-0ff9-4568-a328-1e63cfbb4d45",
   "metadata": {},
   "outputs": [],
   "source": [
    "assert isinstance(g, Iterable)\n",
    "assert isinstance(g, Iterator)\n",
    "assert not isinstance(g, Sized)\n",
    "\n",
    "assert iter(g) is g"
   ]
  },
  {
   "cell_type": "code",
   "execution_count": 128,
   "id": "e049e72b-0ad5-43e4-b387-05ea1564aefb",
   "metadata": {},
   "outputs": [
    {
     "data": {
      "text/plain": [
       "4"
      ]
     },
     "execution_count": 128,
     "metadata": {},
     "output_type": "execute_result"
    }
   ],
   "source": [
    "next(g)"
   ]
  },
  {
   "cell_type": "code",
   "execution_count": 136,
   "id": "086d419f-534d-4bd8-b7da-e117fb54438c",
   "metadata": {},
   "outputs": [
    {
     "data": {
      "text/plain": [
       "[4, 4, 8, 3]"
      ]
     },
     "execution_count": 136,
     "metadata": {},
     "output_type": "execute_result"
    }
   ],
   "source": [
    "# list comprehension\n",
    "lengths = [len(city) for city in set_city]\n",
    "lengths"
   ]
  },
  {
   "cell_type": "code",
   "execution_count": 144,
   "id": "8a1904b4-f7af-4b38-a662-1bec727194f8",
   "metadata": {},
   "outputs": [
    {
     "data": {
      "text/plain": [
       "{'Lyon': 4, 'Nice': 4, 'Toulouse': 8, 'Pau': 3}"
      ]
     },
     "execution_count": 144,
     "metadata": {},
     "output_type": "execute_result"
    }
   ],
   "source": [
    "# dict comprehension\n",
    "dict_city_length ={city: len(city) for city in set_city}\n",
    "dict_city_length"
   ]
  },
  {
   "cell_type": "code",
   "execution_count": 158,
   "id": "f8ed2214-3c25-44c8-ab7d-f87d48132197",
   "metadata": {},
   "outputs": [
    {
     "data": {
      "text/plain": [
       "[442.0084319356163,\n",
       " 470.8017009308806,\n",
       " 441.69167166113687,\n",
       " 444.6650120271503,\n",
       " 471.0837610885147,\n",
       " 441.77482278273726]"
      ]
     },
     "execution_count": 158,
     "metadata": {},
     "output_type": "execute_result"
    }
   ],
   "source": [
    "# expression for with filter\n",
    "[x**2 for x in data if x > 21]"
   ]
  },
  {
   "cell_type": "code",
   "execution_count": 162,
   "id": "a6f99a94-65fa-42be-a33c-63ea1b8853ea",
   "metadata": {},
   "outputs": [
    {
     "data": {
      "text/plain": [
       "[442.0084319356163,\n",
       " 470.8017009308806,\n",
       " 441.69167166113687,\n",
       " 444.6650120271503,\n",
       " 471.0837610885147,\n",
       " 441.77482278273726]"
      ]
     },
     "execution_count": 162,
     "metadata": {},
     "output_type": "execute_result"
    }
   ],
   "source": [
    "list(\n",
    "    map(lambda x: x**2,\n",
    "        filter(lambda x: x>21, data)\n",
    "    )\n",
    ")"
   ]
  },
  {
   "cell_type": "code",
   "execution_count": 164,
   "id": "11b39f17-3992-48a4-bb30-e6b8f8bfae3c",
   "metadata": {},
   "outputs": [],
   "source": [
    "def filter_greater20(x) -> bool:\n",
    "    return x > 20\n",
    "\n",
    "def compute(x):\n",
    "    return x**2 + 1"
   ]
  },
  {
   "cell_type": "code",
   "execution_count": 168,
   "id": "5e7f3927-9a22-4861-b2b1-8e4004470926",
   "metadata": {},
   "outputs": [
    {
     "data": {
      "text/plain": [
       "[440.36539654634163,\n",
       " 438.10204342427073,\n",
       " 408.1677507150128,\n",
       " 412.3029211950237,\n",
       " 401.89084265646386,\n",
       " 436.4509994862474,\n",
       " 416.90129516910713,\n",
       " 405.8441677846338,\n",
       " 436.84545575858283,\n",
       " 404.88445550291897,\n",
       " 443.0084319356163,\n",
       " 403.90904320096155,\n",
       " 413.31610451716904,\n",
       " 405.8465230171499,\n",
       " 422.7798507653327,\n",
       " 471.8017009308806,\n",
       " 401.0666463907652,\n",
       " 401.72584313116806,\n",
       " 442.69167166113687,\n",
       " 414.5458007819649,\n",
       " 401.585711311246,\n",
       " 403.272893949475,\n",
       " 411.71487213310473,\n",
       " 405.7471459058514,\n",
       " 402.2906901479315,\n",
       " 445.6650120271503,\n",
       " 403.56934583691697,\n",
       " 405.9129830031492,\n",
       " 416.97664082729926,\n",
       " 436.7789565864773,\n",
       " 407.7258324142892,\n",
       " 404.49392766621804,\n",
       " 402.3074054678494,\n",
       " 407.18963941256266,\n",
       " 417.36534086906437,\n",
       " 422.1072556564673,\n",
       " 435.17971236861194,\n",
       " 418.8244945004565,\n",
       " 472.0837610885147,\n",
       " 442.77482278273726,\n",
       " 408.4269563015705]"
      ]
     },
     "execution_count": 168,
     "metadata": {},
     "output_type": "execute_result"
    }
   ],
   "source": [
    "list(map(compute, filter(filter_greater20, data)))"
   ]
  },
  {
   "cell_type": "markdown",
   "id": "05660505-8ea4-4e49-9acb-664fbeb4f9c8",
   "metadata": {},
   "source": [
    "### yield"
   ]
  },
  {
   "cell_type": "code",
   "execution_count": 173,
   "id": "f108a77e-9bb4-4097-9702-de138d14945e",
   "metadata": {},
   "outputs": [],
   "source": [
    "def gen0():\n",
    "    yield 1\n",
    "    yield 11\n",
    "    yield 111\n",
    "    "
   ]
  },
  {
   "cell_type": "code",
   "execution_count": 175,
   "id": "d163a0a0-479f-4300-8d62-3629fe942905",
   "metadata": {},
   "outputs": [
    {
     "name": "stdout",
     "output_type": "stream",
     "text": [
      "1\n",
      "11\n",
      "111\n"
     ]
    }
   ],
   "source": [
    "for v in gen0():\n",
    "    print(v)"
   ]
  },
  {
   "cell_type": "code",
   "execution_count": 177,
   "id": "366f628e-81e7-4058-8540-6b9ae8e66770",
   "metadata": {},
   "outputs": [
    {
     "data": {
      "text/plain": [
       "<generator object gen0 at 0x000001D03D616A30>"
      ]
     },
     "execution_count": 177,
     "metadata": {},
     "output_type": "execute_result"
    }
   ],
   "source": [
    "g = gen0()\n",
    "g"
   ]
  },
  {
   "cell_type": "code",
   "execution_count": 179,
   "id": "bbb35bea-8c5f-41c7-923a-2c3446abffc3",
   "metadata": {},
   "outputs": [
    {
     "data": {
      "text/plain": [
       "1"
      ]
     },
     "execution_count": 179,
     "metadata": {},
     "output_type": "execute_result"
    }
   ],
   "source": [
    "next(g)"
   ]
  },
  {
   "cell_type": "code",
   "execution_count": 181,
   "id": "5e8365ee-4c5e-47cf-b2ac-3f3b25676984",
   "metadata": {},
   "outputs": [
    {
     "data": {
      "text/plain": [
       "11"
      ]
     },
     "execution_count": 181,
     "metadata": {},
     "output_type": "execute_result"
    }
   ],
   "source": [
    "next(g)"
   ]
  },
  {
   "cell_type": "code",
   "execution_count": 183,
   "id": "32d93689-7a45-45c1-bb86-18e39fa454ed",
   "metadata": {},
   "outputs": [],
   "source": [
    "## infinite generator\n",
    "def gen1():\n",
    "    v = 1\n",
    "    while(True):\n",
    "        yield v\n",
    "        v *= 11\n",
    "    "
   ]
  },
  {
   "cell_type": "code",
   "execution_count": 191,
   "id": "f9844481-a426-46f0-83bb-4e793de1d8d5",
   "metadata": {},
   "outputs": [
    {
     "name": "stdout",
     "output_type": "stream",
     "text": [
      "1\n",
      "11\n",
      "121\n",
      "1331\n",
      "14641\n",
      "161051\n",
      "1771561\n",
      "19487171\n",
      "214358881\n",
      "2357947691\n"
     ]
    }
   ],
   "source": [
    "for v, _ in zip(gen1(), range(10)):\n",
    "    print(v)"
   ]
  },
  {
   "cell_type": "code",
   "execution_count": 201,
   "id": "581b85c4-22ae-4b12-b4c9-c7622d2f011c",
   "metadata": {},
   "outputs": [
    {
     "data": {
      "text/plain": [
       "246993291800582633412408838508522147770973338523839623486918295183073939037543317536786611645694619197380356118903652336353379872657100896124379265553665528220182035787267332290114824345321175602006762454560941121206341730768120481737776346551122263516794281631817742460092735816338891085469504107057764204554056096300420792693834808697903542373273993323507704275035472909572960251675189632059885760836786547524486311452139154898594385815477588441892776828466367851244156551719415694631275354677116399125252801773216239953649744506634886843876251036619104011808075158068925447606803462004764642231512364311962720553137169418879440812026712050032577529364541633523001427857828127286345008514534912472747622329888765518316746571333772325818264907257286162515070374703055073634758941628560636752152452966576390353798993551087465742036142680406864326280090191628507696617417685435105518374007876389195177545202178122506636167059391700121503283983891147604484038866344368451773502203995748191872669778982789430340829258425832809072414149648446000"
      ]
     },
     "execution_count": 201,
     "metadata": {},
     "output_type": "execute_result"
    }
   ],
   "source": [
    "s = sum(v for v, _ in zip(gen1(), range(1000)))\n",
    "s"
   ]
  },
  {
   "cell_type": "code",
   "execution_count": 207,
   "id": "0808ed17-850e-4aad-8517-c4917e66b3c4",
   "metadata": {},
   "outputs": [],
   "source": [
    "def gen2():\n",
    "    yield 1\n",
    "    yield 11\n",
    "    yield 111\n",
    "    yield from [1111, 11111, 111111]"
   ]
  },
  {
   "cell_type": "code",
   "execution_count": 209,
   "id": "65caf085-f56d-40d1-b282-deb8ceb3cf82",
   "metadata": {},
   "outputs": [
    {
     "data": {
      "text/plain": [
       "[1, 11, 111, 1111, 11111, 111111]"
      ]
     },
     "execution_count": 209,
     "metadata": {},
     "output_type": "execute_result"
    }
   ],
   "source": [
    "list(gen2())"
   ]
  },
  {
   "cell_type": "markdown",
   "id": "add1bbd7-931e-4b2f-9bce-c5c9165b9bde",
   "metadata": {},
   "source": [
    "### Exercise: Fibonacci\n",
    "yield series 0 1 1 2 3 5 8 ... (no limit or limit number of terms)"
   ]
  },
  {
   "cell_type": "code",
   "execution_count": 239,
   "id": "3f695d2a-7911-44b7-8d9a-9b0c6ccf5b48",
   "metadata": {},
   "outputs": [],
   "source": [
    "def fibo_inf():\n",
    "    n1 = 0\n",
    "    n2 = 1\n",
    "    yield n1\n",
    "    yield n2\n",
    "    while True:\n",
    "        n1, n2 = n2, n1 + n2\n",
    "        yield n2\n",
    "\n",
    "def fibo(n: int):\n",
    "    yield from (v for v, _ in zip(fibo_inf(), range(n)))\n",
    "\n",
    "def fibo2(n: int):\n",
    "    g = fibo_inf()\n",
    "    for _ in range(n):\n",
    "        yield next(g)\n",
    "\n",
    "def fibo3(n: int):\n",
    "    n1 = 0\n",
    "    n2 = 1\n",
    "    if n > 0:\n",
    "        yield n1\n",
    "    if n > 1:\n",
    "        yield n2\n",
    "    for _ in range(n-2):\n",
    "        n1, n2 = n2, n1 + n2\n",
    "        yield n2"
   ]
  },
  {
   "cell_type": "code",
   "execution_count": 215,
   "id": "6add15d1-2fcf-4500-8cfb-f5c090f5f4af",
   "metadata": {},
   "outputs": [
    {
     "name": "stdout",
     "output_type": "stream",
     "text": [
      "0\n",
      "1\n",
      "1\n",
      "2\n",
      "3\n",
      "5\n",
      "8\n",
      "13\n",
      "21\n",
      "34\n"
     ]
    }
   ],
   "source": [
    "# call generator function => Generator\n",
    "g = fibo_inf()\n",
    "\n",
    "# consume generator (iterate)\n",
    "for _ in range(10):\n",
    "    print(next(g))"
   ]
  },
  {
   "cell_type": "code",
   "execution_count": 227,
   "id": "94f3890e-90d0-4d1d-844d-8ed985aea366",
   "metadata": {},
   "outputs": [
    {
     "data": {
      "text/plain": [
       "<generator object fibo at 0x000001D03D450120>"
      ]
     },
     "execution_count": 227,
     "metadata": {},
     "output_type": "execute_result"
    }
   ],
   "source": [
    "fibo(10)"
   ]
  },
  {
   "cell_type": "code",
   "execution_count": 233,
   "id": "3eff61c6-173b-43fc-a426-427461837d2e",
   "metadata": {},
   "outputs": [
    {
     "data": {
      "text/plain": [
       "[0, 1, 1, 2, 3, 5, 8, 13, 21, 34]"
      ]
     },
     "execution_count": 233,
     "metadata": {},
     "output_type": "execute_result"
    }
   ],
   "source": [
    "list(fibo(10))"
   ]
  },
  {
   "cell_type": "code",
   "execution_count": 235,
   "id": "6033fabf-1224-47b6-9a21-a45482372be7",
   "metadata": {},
   "outputs": [
    {
     "data": {
      "text/plain": [
       "<generator object fibo2 at 0x000001D03D891620>"
      ]
     },
     "execution_count": 235,
     "metadata": {},
     "output_type": "execute_result"
    }
   ],
   "source": [
    "fibo2(10)"
   ]
  },
  {
   "cell_type": "code",
   "execution_count": 241,
   "id": "6c15e959-e474-4e8d-a88d-13479b0a4f13",
   "metadata": {},
   "outputs": [
    {
     "data": {
      "text/plain": [
       "[0, 1, 1, 2, 3, 5, 8, 13, 21, 34]"
      ]
     },
     "execution_count": 241,
     "metadata": {},
     "output_type": "execute_result"
    }
   ],
   "source": [
    "list(fibo2(10))"
   ]
  },
  {
   "cell_type": "code",
   "execution_count": 243,
   "id": "d5b95f05-4fbd-4d80-9b85-494c90bebdb1",
   "metadata": {},
   "outputs": [
    {
     "data": {
      "text/plain": [
       "[0, 1, 1, 2, 3, 5, 8, 13, 21, 34]"
      ]
     },
     "execution_count": 243,
     "metadata": {},
     "output_type": "execute_result"
    }
   ],
   "source": [
    "list(fibo3(10))"
   ]
  }
 ],
 "metadata": {
  "kernelspec": {
   "display_name": "Python 3 (ipykernel)",
   "language": "python",
   "name": "python3"
  },
  "language_info": {
   "codemirror_mode": {
    "name": "ipython",
    "version": 3
   },
   "file_extension": ".py",
   "mimetype": "text/x-python",
   "name": "python",
   "nbconvert_exporter": "python",
   "pygments_lexer": "ipython3",
   "version": "3.13.2"
  }
 },
 "nbformat": 4,
 "nbformat_minor": 5
}
