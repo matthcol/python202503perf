{
 "cells": [
  {
   "cell_type": "markdown",
   "id": "4e0086b6-f638-4a88-b0a4-09023f5e2de7",
   "metadata": {},
   "source": [
    "# Python Object Mechanisms"
   ]
  },
  {
   "cell_type": "markdown",
   "id": "8550c2f7-9382-40fc-95ef-b2e3d30c53c3",
   "metadata": {},
   "source": [
    "## Builtin functions\n",
    "For all objects\n",
    "- str => implemented by `__str__`\n",
    "- repr => implemented by `__repr__`\n",
    "- type => implemented by attribute `__class__`\n",
    "- help, ? => implmented by attribute `__doc__`\n",
    "\n",
    "For some objects (cf notebook iterable/iterator)\n",
    "- next => implemented by `__next__`\n",
    "- iter => implemented by `__iter__`\n",
    "- len => implemented by `__len__`\n",
    "\n",
    "Hashable objects\n",
    "- hash => implemented by `__hash__`"
   ]
  },
  {
   "cell_type": "code",
   "execution_count": 1,
   "id": "75d0c269-a846-4179-b2a1-2e88d6041282",
   "metadata": {},
   "outputs": [],
   "source": [
    "import numpy as np"
   ]
  },
  {
   "cell_type": "code",
   "execution_count": 9,
   "id": "923e0041-b2a1-40e8-9186-ffc088af84e1",
   "metadata": {},
   "outputs": [
    {
     "name": "stdout",
     "output_type": "stream",
     "text": [
      "[17.21885099  8.03616455  7.91692342 ... 12.50038037  8.62060919\n",
      " 11.81193395]\n"
     ]
    }
   ],
   "source": [
    "data = np.random.normal(10.0, 2.5, 1_000_000)\n",
    "print(data) # call builtin str => __str__"
   ]
  },
  {
   "cell_type": "code",
   "execution_count": 11,
   "id": "868ca2be-4ec6-43af-9508-7085ceafdf87",
   "metadata": {},
   "outputs": [
    {
     "data": {
      "text/plain": [
       "array([17.21885099,  8.03616455,  7.91692342, ..., 12.50038037,\n",
       "        8.62060919, 11.81193395])"
      ]
     },
     "execution_count": 11,
     "metadata": {},
     "output_type": "execute_result"
    }
   ],
   "source": [
    "data # call builtin repr => __repr__"
   ]
  },
  {
   "cell_type": "code",
   "execution_count": 13,
   "id": "15ace244-a838-41e5-888a-793a4c53f2a4",
   "metadata": {},
   "outputs": [
    {
     "name": "stdout",
     "output_type": "stream",
     "text": [
      "Toulouse\n",
      "'Toulouse'\n"
     ]
    }
   ],
   "source": [
    "city = 'Toulouse'\n",
    "print(str(city))\n",
    "print(repr(city))"
   ]
  },
  {
   "cell_type": "code",
   "execution_count": 19,
   "id": "74dd79ba-f2fa-4c92-a9fa-30863dd61c90",
   "metadata": {},
   "outputs": [
    {
     "name": "stdout",
     "output_type": "stream",
     "text": [
      "<__main__.City object at 0x000001B4F631B6E0>\n"
     ]
    },
    {
     "data": {
      "text/plain": [
       "<__main__.City at 0x1b4f631b6e0>"
      ]
     },
     "execution_count": 19,
     "metadata": {},
     "output_type": "execute_result"
    }
   ],
   "source": [
    "# default str and repr:\n",
    "class City:\n",
    "    pass\n",
    "\n",
    "c = City()\n",
    "print(c)\n",
    "c"
   ]
  },
  {
   "cell_type": "code",
   "execution_count": 24,
   "id": "ecd6ac38-3b36-4fe8-a772-979f241b0a75",
   "metadata": {},
   "outputs": [
    {
     "data": {
      "text/plain": [
       "(123, 315488702502446116)"
      ]
     },
     "execution_count": 24,
     "metadata": {},
     "output_type": "execute_result"
    }
   ],
   "source": [
    "hash(123), hash('city')"
   ]
  },
  {
   "cell_type": "code",
   "execution_count": 26,
   "id": "1abd5ce1-23bd-44dd-8754-7928c4dedf94",
   "metadata": {},
   "outputs": [],
   "source": [
    "x = 123"
   ]
  },
  {
   "cell_type": "code",
   "execution_count": 28,
   "id": "6faef506-5a76-4c9a-8a78-404e0c35b1ec",
   "metadata": {},
   "outputs": [
    {
     "data": {
      "text/plain": [
       "123"
      ]
     },
     "execution_count": 28,
     "metadata": {},
     "output_type": "execute_result"
    }
   ],
   "source": [
    "x.__hash__()"
   ]
  },
  {
   "cell_type": "code",
   "execution_count": 32,
   "id": "0d757c4f-5c3d-463c-ad45-2da64d8600fb",
   "metadata": {},
   "outputs": [],
   "source": [
    "l = []\n",
    "# hash(l) # TypeError: unhashable type: 'list'"
   ]
  },
  {
   "cell_type": "code",
   "execution_count": 40,
   "id": "03f58324-525a-4ea7-a707-8984f40880de",
   "metadata": {},
   "outputs": [
    {
     "data": {
      "text/plain": [
       "True"
      ]
     },
     "execution_count": 40,
     "metadata": {},
     "output_type": "execute_result"
    }
   ],
   "source": [
    "l.__hash__ is None"
   ]
  },
  {
   "cell_type": "markdown",
   "id": "fecf39b4-476d-4681-8b54-6d541e1d61c2",
   "metadata": {},
   "source": [
    "## Operators\n",
    "- `==` implemented by `__eq__`  (!= :  `__ne__`)\n",
    "- order comparison (<, <=, >, >=): `__lt__, __le_, __gt__, __ge__`\n",
    "- `+` implemented by `__add__` then `__radd__` (idem with `-, *, /, //, %, **`)\n",
    "- `+=` implemented by `__iadd__` then `__add__` (idem with `-=, *=, /=, //=, %=, **=`)\n",
    "- `[]`implemented by `__getitem__`, `__setitem__`\n",
    "- operators bitwise: `&, |, ^, ~, <<, >>`\n",
    "- `()` implemented by `__call__`\n",
    "\n",
    "Nb: no overload for: `=, is, not, and, or`"
   ]
  },
  {
   "cell_type": "code",
   "execution_count": 105,
   "id": "567798bc-f3c7-4b68-96bc-654686499f7b",
   "metadata": {},
   "outputs": [
    {
     "data": {
      "text/plain": [
       "(3.6666666666666665, 3, 2)"
      ]
     },
     "execution_count": 105,
     "metadata": {},
     "output_type": "execute_result"
    }
   ],
   "source": [
    "11 / 3, 11 // 3, 11 % 3"
   ]
  },
  {
   "cell_type": "code",
   "execution_count": 109,
   "id": "3753a883-6253-4b0e-bb29-6a61d1920f83",
   "metadata": {},
   "outputs": [
    {
     "data": {
      "text/plain": [
       "(3, 2)"
      ]
     },
     "execution_count": 109,
     "metadata": {},
     "output_type": "execute_result"
    }
   ],
   "source": [
    "divmod(11, 3) # calls __divmod__"
   ]
  },
  {
   "cell_type": "code",
   "execution_count": 46,
   "id": "ca2f5f94-8a63-4363-959c-b199a9da407a",
   "metadata": {},
   "outputs": [
    {
     "name": "stdout",
     "output_type": "stream",
     "text": [
      "125\n",
      "125\n"
     ]
    }
   ],
   "source": [
    "print(x + 2)\n",
    "print(x.__add__(2))"
   ]
  },
  {
   "cell_type": "code",
   "execution_count": 48,
   "id": "58401ca1-5501-4f60-9c2b-768d9082b495",
   "metadata": {},
   "outputs": [
    {
     "data": {
      "text/plain": [
       "(1, 22, 3, 55, 66)"
      ]
     },
     "execution_count": 48,
     "metadata": {},
     "output_type": "execute_result"
    }
   ],
   "source": [
    "(1, 22, 3) + (55, 66)"
   ]
  },
  {
   "cell_type": "code",
   "execution_count": 50,
   "id": "73a9131b-4087-4c85-a2f7-322e58d27436",
   "metadata": {},
   "outputs": [
    {
     "ename": "TypeError",
     "evalue": "can only concatenate str (not \"int\") to str",
     "output_type": "error",
     "traceback": [
      "\u001b[1;31m---------------------------------------------------------------------------\u001b[0m",
      "\u001b[1;31mTypeError\u001b[0m                                 Traceback (most recent call last)",
      "Cell \u001b[1;32mIn[50], line 1\u001b[0m\n\u001b[1;32m----> 1\u001b[0m \u001b[38;5;124m\"\u001b[39m\u001b[38;5;124mpopulation: \u001b[39m\u001b[38;5;124m\"\u001b[39m \u001b[38;5;241m+\u001b[39m \u001b[38;5;241m77_000\u001b[39m\n",
      "\u001b[1;31mTypeError\u001b[0m: can only concatenate str (not \"int\") to str"
     ]
    }
   ],
   "source": [
    "\"population: \" + 77_000 "
   ]
  },
  {
   "cell_type": "code",
   "execution_count": 52,
   "id": "02d1f810-1998-4b63-ac4c-b36467e89389",
   "metadata": {},
   "outputs": [
    {
     "ename": "TypeError",
     "evalue": "can only concatenate list (not \"int\") to list",
     "output_type": "error",
     "traceback": [
      "\u001b[1;31m---------------------------------------------------------------------------\u001b[0m",
      "\u001b[1;31mTypeError\u001b[0m                                 Traceback (most recent call last)",
      "Cell \u001b[1;32mIn[52], line 1\u001b[0m\n\u001b[1;32m----> 1\u001b[0m [\u001b[38;5;241m1\u001b[39m, \u001b[38;5;241m2\u001b[39m, \u001b[38;5;241m3\u001b[39m] \u001b[38;5;241m+\u001b[39m \u001b[38;5;241m4\u001b[39m\n",
      "\u001b[1;31mTypeError\u001b[0m: can only concatenate list (not \"int\") to list"
     ]
    }
   ],
   "source": [
    "[1, 2, 3] + 4"
   ]
  },
  {
   "cell_type": "code",
   "execution_count": 58,
   "id": "795ff116-b584-4edc-a92b-9887b3d7f7d1",
   "metadata": {},
   "outputs": [
    {
     "ename": "TypeError",
     "evalue": "unsupported operand type(s) for +: 'list_iterator' and 'int'",
     "output_type": "error",
     "traceback": [
      "\u001b[1;31m---------------------------------------------------------------------------\u001b[0m",
      "\u001b[1;31mTypeError\u001b[0m                                 Traceback (most recent call last)",
      "Cell \u001b[1;32mIn[58], line 1\u001b[0m\n\u001b[1;32m----> 1\u001b[0m \u001b[38;5;28miter\u001b[39m([]) \u001b[38;5;241m+\u001b[39m \u001b[38;5;241m4\u001b[39m\n",
      "\u001b[1;31mTypeError\u001b[0m: unsupported operand type(s) for +: 'list_iterator' and 'int'"
     ]
    }
   ],
   "source": [
    "iter([]) + 4"
   ]
  },
  {
   "cell_type": "code",
   "execution_count": 60,
   "id": "6957138a-2d06-4a3a-9243-d4fbb6dc6069",
   "metadata": {},
   "outputs": [
    {
     "ename": "TypeError",
     "evalue": "unsupported operand type(s) for +: 'int' and 'list_iterator'",
     "output_type": "error",
     "traceback": [
      "\u001b[1;31m---------------------------------------------------------------------------\u001b[0m",
      "\u001b[1;31mTypeError\u001b[0m                                 Traceback (most recent call last)",
      "Cell \u001b[1;32mIn[60], line 1\u001b[0m\n\u001b[1;32m----> 1\u001b[0m \u001b[38;5;241m4\u001b[39m \u001b[38;5;241m+\u001b[39m \u001b[38;5;28miter\u001b[39m([])\n",
      "\u001b[1;31mTypeError\u001b[0m: unsupported operand type(s) for +: 'int' and 'list_iterator'"
     ]
    }
   ],
   "source": [
    "4 + iter([])"
   ]
  },
  {
   "cell_type": "code",
   "execution_count": 66,
   "id": "1a056ef5-7f2c-4a2d-95d1-3b4033318298",
   "metadata": {},
   "outputs": [
    {
     "data": {
      "text/plain": [
       "array([21.21885099, 12.03616455, 11.91692342, ..., 16.50038037,\n",
       "       12.62060919, 15.81193395])"
      ]
     },
     "execution_count": 66,
     "metadata": {},
     "output_type": "execute_result"
    }
   ],
   "source": [
    "data + 4"
   ]
  },
  {
   "cell_type": "code",
   "execution_count": 70,
   "id": "17e5ef1d-d60e-46a5-a0fd-d9b077772c87",
   "metadata": {},
   "outputs": [
    {
     "data": {
      "text/plain": [
       "array([21.21885099, 12.03616455, 11.91692342, ..., 16.50038037,\n",
       "       12.62060919, 15.81193395])"
      ]
     },
     "execution_count": 70,
     "metadata": {},
     "output_type": "execute_result"
    }
   ],
   "source": [
    "data.__add__(4)"
   ]
  },
  {
   "cell_type": "code",
   "execution_count": 72,
   "id": "89fe844b-a5fd-431c-babe-1166e1e63967",
   "metadata": {},
   "outputs": [
    {
     "data": {
      "text/plain": [
       "array([21.21885099, 12.03616455, 11.91692342, ..., 16.50038037,\n",
       "       12.62060919, 15.81193395])"
      ]
     },
     "execution_count": 72,
     "metadata": {},
     "output_type": "execute_result"
    }
   ],
   "source": [
    "4 + data"
   ]
  },
  {
   "cell_type": "code",
   "execution_count": 74,
   "id": "7739039d-a0b0-4e55-b616-19088970527d",
   "metadata": {},
   "outputs": [
    {
     "data": {
      "text/plain": [
       "NotImplemented"
      ]
     },
     "execution_count": 74,
     "metadata": {},
     "output_type": "execute_result"
    }
   ],
   "source": [
    "x = 4\n",
    "x.__add__(data)"
   ]
  },
  {
   "cell_type": "code",
   "execution_count": 76,
   "id": "9ff18cf5-3771-4799-95f1-863f7368da15",
   "metadata": {},
   "outputs": [
    {
     "data": {
      "text/plain": [
       "array([21.21885099, 12.03616455, 11.91692342, ..., 16.50038037,\n",
       "       12.62060919, 15.81193395])"
      ]
     },
     "execution_count": 76,
     "metadata": {},
     "output_type": "execute_result"
    }
   ],
   "source": [
    "data.__radd__(4)"
   ]
  },
  {
   "cell_type": "code",
   "execution_count": 88,
   "id": "2c1b1335-e826-406a-8ae2-32e2005ecb27",
   "metadata": {},
   "outputs": [
    {
     "name": "stdout",
     "output_type": "stream",
     "text": [
      "NotImplemented\n",
      "True\n",
      "True\n",
      "True\n"
     ]
    }
   ],
   "source": [
    "xi = 4\n",
    "xf = 4.0\n",
    "print(xi.__eq__(xf))\n",
    "print(xf.__eq__(xi))\n",
    "print(4 == 4.0)\n",
    "print(4.0 == 4)"
   ]
  },
  {
   "cell_type": "code",
   "execution_count": 92,
   "id": "4632df5e-2f28-49f5-a959-01d558c760c6",
   "metadata": {},
   "outputs": [
    {
     "data": {
      "text/plain": [
       "array([False, False, False, ..., False, False, False])"
      ]
     },
     "execution_count": 92,
     "metadata": {},
     "output_type": "execute_result"
    }
   ],
   "source": [
    "data >= 20 # calls data.__ge__"
   ]
  },
  {
   "cell_type": "code",
   "execution_count": 96,
   "id": "e4cc9ea4-f2f8-400a-8dab-1289345e5524",
   "metadata": {},
   "outputs": [
    {
     "data": {
      "text/plain": [
       "array([20.79794097, 20.15105978, 20.10642843, 20.14800016, 21.53307888,\n",
       "       20.0368142 , 20.37606694, 20.56132111, 20.28434208, 21.39980996,\n",
       "       20.37786576, 20.26987056, 20.21996826, 21.3160532 , 20.18190581,\n",
       "       21.48312782, 20.43970547, 20.79283342, 20.94969176, 20.08784365,\n",
       "       21.13534682, 20.06307223, 21.54056755, 20.39686174, 20.40435678,\n",
       "       21.46646439, 20.03941674, 20.02475469, 20.66862518, 20.03160511,\n",
       "       20.23520899, 20.28101488, 21.84913663, 20.10160598, 20.08355838])"
      ]
     },
     "execution_count": 96,
     "metadata": {},
     "output_type": "execute_result"
    }
   ],
   "source": [
    "data[data >= 20]  # calls  data.__getitem__"
   ]
  },
  {
   "cell_type": "code",
   "execution_count": 113,
   "id": "255c1523-ca7a-491d-b1de-c91acd7b637a",
   "metadata": {},
   "outputs": [
    {
     "data": {
      "text/plain": [
       "array([27.21885099, 18.03616455, 17.91692342, ..., 22.50038037,\n",
       "       18.62060919, 21.81193395])"
      ]
     },
     "execution_count": 113,
     "metadata": {},
     "output_type": "execute_result"
    }
   ],
   "source": [
    "# keep a reference on data\n",
    "ref_data = data\n",
    "\n",
    "# add inplace\n",
    "data += 10\n",
    "data"
   ]
  },
  {
   "cell_type": "code",
   "execution_count": 117,
   "id": "870914a4-af23-4a3a-995d-703d29da5d64",
   "metadata": {},
   "outputs": [
    {
     "data": {
      "text/plain": [
       "True"
      ]
     },
     "execution_count": 117,
     "metadata": {},
     "output_type": "execute_result"
    }
   ],
   "source": [
    "ref_data is data # same object in memory"
   ]
  },
  {
   "cell_type": "code",
   "execution_count": 119,
   "id": "38910fe3-1488-4da7-aaa1-39e914a19d2f",
   "metadata": {},
   "outputs": [
    {
     "data": {
      "text/plain": [
       "False"
      ]
     },
     "execution_count": 119,
     "metadata": {},
     "output_type": "execute_result"
    }
   ],
   "source": [
    "data2 = data.copy()\n",
    "data2 is data"
   ]
  },
  {
   "cell_type": "code",
   "execution_count": 121,
   "id": "afe3c254-b109-4a46-8dd0-51ce15f91924",
   "metadata": {},
   "outputs": [
    {
     "data": {
      "text/plain": [
       "False"
      ]
     },
     "execution_count": 121,
     "metadata": {},
     "output_type": "execute_result"
    }
   ],
   "source": [
    "data3 = data + 10\n",
    "data3 is data"
   ]
  },
  {
   "cell_type": "code",
   "execution_count": 123,
   "id": "2ef92074-67b8-436a-83ee-8fca4de17fa3",
   "metadata": {},
   "outputs": [
    {
     "data": {
      "text/plain": [
       "'Toulouse, ville rose'"
      ]
     },
     "execution_count": 123,
     "metadata": {},
     "output_type": "execute_result"
    }
   ],
   "source": [
    "texte = \"Toulouse\"\n",
    "ref_texte = texte\n",
    "texte += ', ville rose'\n",
    "texte"
   ]
  },
  {
   "cell_type": "code",
   "execution_count": 125,
   "id": "60c594f2-3903-401e-9b86-9406c06895e7",
   "metadata": {},
   "outputs": [
    {
     "data": {
      "text/plain": [
       "False"
      ]
     },
     "execution_count": 125,
     "metadata": {},
     "output_type": "execute_result"
    }
   ],
   "source": [
    "texte is ref_texte"
   ]
  },
  {
   "cell_type": "code",
   "execution_count": 127,
   "id": "08cf9d70-6f26-484f-b44b-ce46166b0d01",
   "metadata": {},
   "outputs": [
    {
     "data": {
      "text/plain": [
       "'Toulouse'"
      ]
     },
     "execution_count": 127,
     "metadata": {},
     "output_type": "execute_result"
    }
   ],
   "source": [
    "ref_texte"
   ]
  },
  {
   "cell_type": "markdown",
   "id": "f77e1663-2ef0-47b1-b122-673e03ed9cc7",
   "metadata": {},
   "source": [
    "NB: pandas and numpy use 'element wise' overloads to combine filters, masks"
   ]
  },
  {
   "cell_type": "code",
   "execution_count": 156,
   "id": "8bafaad9-8e21-48dc-be31-ed3ede6a6ce6",
   "metadata": {},
   "outputs": [
    {
     "data": {
      "text/plain": [
       "array([ 8.43580261, 31.53307888,  8.24646282, 31.39980996,  8.30851322,\n",
       "       31.3160532 , 31.48312782, 31.13534682, 31.54056755,  8.27039065,\n",
       "       31.46646439,  8.95002209,  8.36829615,  8.23718301, 31.84913663])"
      ]
     },
     "execution_count": 156,
     "metadata": {},
     "output_type": "execute_result"
    }
   ],
   "source": [
    "data[(data < 9) | (data > 31)]"
   ]
  },
  {
   "cell_type": "code",
   "execution_count": 158,
   "id": "358edf11-8ae4-47a0-bc92-365a1aefae02",
   "metadata": {},
   "outputs": [
    {
     "data": {
      "text/plain": [
       "array([ 8.43580261, 31.53307888,  8.24646282, 31.39980996,  8.30851322,\n",
       "       31.3160532 , 31.48312782, 31.13534682, 31.54056755,  8.27039065,\n",
       "       31.46646439,  8.95002209,  8.36829615,  8.23718301, 31.84913663])"
      ]
     },
     "execution_count": 158,
     "metadata": {},
     "output_type": "execute_result"
    }
   ],
   "source": [
    "mask = (data < 9) | (data > 31)\n",
    "data[mask]"
   ]
  },
  {
   "cell_type": "code",
   "execution_count": 160,
   "id": "ead426da-f3eb-441d-a3e1-ea4fe01ee128",
   "metadata": {},
   "outputs": [
    {
     "data": {
      "text/plain": [
       "array([27.21885099, 18.03616455, 17.91692342, ..., 22.50038037,\n",
       "       18.62060919, 21.81193395])"
      ]
     },
     "execution_count": 160,
     "metadata": {},
     "output_type": "execute_result"
    }
   ],
   "source": [
    "data[~mask]"
   ]
  },
  {
   "cell_type": "code",
   "execution_count": 162,
   "id": "5df0383d-a873-4278-9eb5-9d4de0d07c21",
   "metadata": {},
   "outputs": [],
   "source": [
    "data_list = [ -1, 2, 4, 23, 10, 15 ]"
   ]
  },
  {
   "cell_type": "code",
   "execution_count": 168,
   "id": "f9f998bb-d021-4c39-b118-d977585b1116",
   "metadata": {},
   "outputs": [
    {
     "data": {
      "text/plain": [
       "[-1, 23]"
      ]
     },
     "execution_count": 168,
     "metadata": {},
     "output_type": "execute_result"
    }
   ],
   "source": [
    "[x for x in data_list if (x < 0) or (x > 20)]"
   ]
  },
  {
   "cell_type": "code",
   "execution_count": 174,
   "id": "8517b379-6abd-42a5-a63c-05e16e2f992e",
   "metadata": {},
   "outputs": [
    {
     "data": {
      "text/plain": [
       "False"
      ]
     },
     "execution_count": 174,
     "metadata": {},
     "output_type": "execute_result"
    }
   ],
   "source": [
    "all(x >= 0 for x in data_list)"
   ]
  },
  {
   "cell_type": "code",
   "execution_count": 176,
   "id": "3603848d-a8b2-4fbc-9152-a5eabe12887f",
   "metadata": {},
   "outputs": [
    {
     "data": {
      "text/plain": [
       "True"
      ]
     },
     "execution_count": 176,
     "metadata": {},
     "output_type": "execute_result"
    }
   ],
   "source": [
    "any(x >= 0 for x in data_list)"
   ]
  },
  {
   "cell_type": "code",
   "execution_count": 180,
   "id": "02455d24-caea-45f1-9fc6-07fb78268349",
   "metadata": {},
   "outputs": [
    {
     "data": {
      "text/plain": [
       "True"
      ]
     },
     "execution_count": 180,
     "metadata": {},
     "output_type": "execute_result"
    }
   ],
   "source": [
    "np.any(data<10)"
   ]
  },
  {
   "cell_type": "markdown",
   "id": "d0186ab8-2eb0-4291-ba41-f8ac4ad9624b",
   "metadata": {},
   "source": [
    "## Context manager: with\n",
    "implemented by `__enter__`, `__exit__`\n",
    "\n",
    "Examples: file, connection, cursor (open/close), pool thread (start/shutdown) , mutex (lock/unlock)\n"
   ]
  },
  {
   "cell_type": "code",
   "execution_count": 9,
   "id": "d75b6635-376d-407d-8238-f5a1d970f35f",
   "metadata": {},
   "outputs": [
    {
     "data": {
      "text/plain": [
       "<_io.TextIOWrapper name='data/communes_france_2025.csv' mode='r' encoding='UTF-8'>"
      ]
     },
     "execution_count": 9,
     "metadata": {},
     "output_type": "execute_result"
    }
   ],
   "source": [
    "f = open('data/communes_france_2025.csv', encoding='UTF-8') # mode = 'rt'\n",
    "f"
   ]
  },
  {
   "cell_type": "code",
   "execution_count": 10,
   "id": "35153289-cf15-46b1-93cc-818bc78b5fdd",
   "metadata": {},
   "outputs": [
    {
     "data": {
      "text/plain": [
       "(<function TextIOWrapper.__enter__>, <function TextIOWrapper.__exit__>)"
      ]
     },
     "execution_count": 10,
     "metadata": {},
     "output_type": "execute_result"
    }
   ],
   "source": [
    " f.__enter__, f.__exit__"
   ]
  },
  {
   "cell_type": "code",
   "execution_count": 11,
   "id": "cc4bf154-4809-4946-be10-45e510b52ca8",
   "metadata": {},
   "outputs": [
    {
     "name": "stdout",
     "output_type": "stream",
     "text": [
      ",code_insee,nom_standard,nom_sans_pronom,nom_a,nom_de,nom_sans_accent,nom_standard_majuscule,typecom,typecom_texte,reg_code,reg_nom,dep_code,dep_nom,canton_code,canton_nom,epci_code,epci_nom,academie_code,academie_nom,code_postal,codes_postaux,zone_emploi,code_insee_centre_zone_emploi,code_unite_urbaine,nom_unite_urbaine,taille_unite_urbaine,type_commune_unite_urbaine,statut_commune_unite_urbaine,population,superficie_hectare,superficie_km2,densite,altitude_moyenne,altitude_minimale,altitude_maximale,latitude_mairie,longitude_mairie,latitude_centre,longitude_centre,grille_densite,grille_densite_texte,niveau_equipements_services,niveau_equipements_services_texte,gentile,url_wikipedia,url_villedereve\n",
      "\n",
      "0,01001,L'Abergement-Clémenciat,Abergement-Clémenciat,à Abergement-Clémenciat,de l'Abergement-Clémenciat,l-abergement-clemenciat,L'ABERGEMENT-CLÉMENCIAT,COM,commune,84,Auvergne-Rhône-Alpes,01,Ain,0108,Châtillon-sur-Chalaronne,200069193,CC de la Dombes,10,Lyon,01400,01400,08405,01053,01000,,0.0,HORS UNITE URBAINE,H,832,1565,16,53.0,242,206.0,272.0,46.151,4.921,46.153,4.926,6,Rural à habitat dispersé,0.0,communes non pôle,,https://fr.wikipedia.org/wiki/fr:L'Abergement-Clémenciat,https://villedereve.fr/ville/01001-l-abergement-clemenciat\n",
      "\n"
     ]
    }
   ],
   "source": [
    "for _ in range(2):\n",
    "    print(next(f))"
   ]
  },
  {
   "cell_type": "code",
   "execution_count": 12,
   "id": "78c3f966-3c92-41ea-8ff7-3ebbfec6edcc",
   "metadata": {},
   "outputs": [],
   "source": [
    "f.close()"
   ]
  },
  {
   "cell_type": "code",
   "execution_count": 20,
   "id": "7a9c20b1-2718-4e65-84de-2e741a1ab14f",
   "metadata": {},
   "outputs": [
    {
     "name": "stdout",
     "output_type": "stream",
     "text": [
      ",code_insee,nom_standard,nom_sans_pronom,nom_a,nom_de,nom_sans_accent,nom_standard_majuscule,typecom,typecom_texte,reg_code,reg_nom,dep_code,dep_nom,canton_code,canton_nom,epci_code,epci_nom,academie_code,academie_nom,code_postal,codes_postaux,zone_emploi,code_insee_centre_zone_emploi,code_unite_urbaine,nom_unite_urbaine,taille_unite_urbaine,type_commune_unite_urbaine,statut_commune_unite_urbaine,population,superficie_hectare,superficie_km2,densite,altitude_moyenne,altitude_minimale,altitude_maximale,latitude_mairie,longitude_mairie,latitude_centre,longitude_centre,grille_densite,grille_densite_texte,niveau_equipements_services,niveau_equipements_services_texte,gentile,url_wikipedia,url_villedereve\n",
      "\n",
      "0,01001,L'Abergement-Clémenciat,Abergement-Clémenciat,à Abergement-Clémenciat,de l'Abergement-Clémenciat,l-abergement-clemenciat,L'ABERGEMENT-CLÉMENCIAT,COM,commune,84,Auvergne-Rhône-Alpes,01,Ain,0108,Châtillon-sur-Chalaronne,200069193,CC de la Dombes,10,Lyon,01400,01400,08405,01053,01000,,0.0,HORS UNITE URBAINE,H,832,1565,16,53.0,242,206.0,272.0,46.151,4.921,46.153,4.926,6,Rural à habitat dispersé,0.0,communes non pôle,,https://fr.wikipedia.org/wiki/fr:L'Abergement-Clémenciat,https://villedereve.fr/ville/01001-l-abergement-clemenciat\n",
      "\n"
     ]
    }
   ],
   "source": [
    "with open('data/communes_france_2025.csv', encoding='UTF-8') as f:\n",
    "    for _ in range(2):\n",
    "        print(next(f))\n",
    "# auto close: f.__exit__()\n",
    "\n",
    "# check f is closed\n",
    "assert f.closed"
   ]
  },
  {
   "cell_type": "code",
   "execution_count": 21,
   "id": "c9979233-a364-4b6e-9bdc-65b669a5e7d8",
   "metadata": {},
   "outputs": [],
   "source": [
    "# f.readline()\n",
    "# ValueError: I/O operation on closed file."
   ]
  },
  {
   "cell_type": "code",
   "execution_count": 22,
   "id": "be519a9b-bbac-4cce-a4b7-ef158250312a",
   "metadata": {},
   "outputs": [
    {
     "name": "stdout",
     "output_type": "stream",
     "text": [
      ",code_insee,nom_standard,nom_sans_pronom,nom_a,nom_de,nom_sans_accent,nom_standard_majuscule,typecom,typecom_texte,reg_code,reg_nom,dep_code,dep_nom,canton_code,canton_nom,epci_code,epci_nom,academie_code,academie_nom,code_postal,codes_postaux,zone_emploi,code_insee_centre_zone_emploi,code_unite_urbaine,nom_unite_urbaine,taille_unite_urbaine,type_commune_unite_urbaine,statut_commune_unite_urbaine,population,superficie_hectare,superficie_km2,densite,altitude_moyenne,altitude_minimale,altitude_maximale,latitude_mairie,longitude_mairie,latitude_centre,longitude_centre,grille_densite,grille_densite_texte,niveau_equipements_services,niveau_equipements_services_texte,gentile,url_wikipedia,url_villedereve\n",
      "\n",
      "0,01001,L'Abergement-Clémenciat,Abergement-Clémenciat,à Abergement-Clémenciat,de l'Abergement-Clémenciat,l-abergement-clemenciat,L'ABERGEMENT-CLÉMENCIAT,COM,commune,84,Auvergne-Rhône-Alpes,01,Ain,0108,Châtillon-sur-Chalaronne,200069193,CC de la Dombes,10,Lyon,01400,01400,08405,01053,01000,,0.0,HORS UNITE URBAINE,H,832,1565,16,53.0,242,206.0,272.0,46.151,4.921,46.153,4.926,6,Rural à habitat dispersé,0.0,communes non pôle,,https://fr.wikipedia.org/wiki/fr:L'Abergement-Clémenciat,https://villedereve.fr/ville/01001-l-abergement-clemenciat\n",
      "\n"
     ]
    },
    {
     "ename": "ValueError",
     "evalue": "something is wrong with this data",
     "output_type": "error",
     "traceback": [
      "\u001b[1;31m---------------------------------------------------------------------------\u001b[0m",
      "\u001b[1;31mValueError\u001b[0m                                Traceback (most recent call last)",
      "Cell \u001b[1;32mIn[22], line 5\u001b[0m\n\u001b[0;32m      3\u001b[0m         \u001b[38;5;28mprint\u001b[39m(\u001b[38;5;28mnext\u001b[39m(f))\n\u001b[0;32m      4\u001b[0m     \u001b[38;5;66;03m# emulate an error\u001b[39;00m\n\u001b[1;32m----> 5\u001b[0m     \u001b[38;5;28;01mraise\u001b[39;00m \u001b[38;5;167;01mValueError\u001b[39;00m(\u001b[38;5;124m\"\u001b[39m\u001b[38;5;124msomething is wrong with this data\u001b[39m\u001b[38;5;124m\"\u001b[39m)\n\u001b[0;32m      6\u001b[0m     \u001b[38;5;28mprint\u001b[39m(\u001b[38;5;124m\"\u001b[39m\u001b[38;5;124munreachable code\u001b[39m\u001b[38;5;124m\"\u001b[39m)\n\u001b[0;32m      7\u001b[0m \u001b[38;5;66;03m# auto close: f.__exit__()\u001b[39;00m\n",
      "\u001b[1;31mValueError\u001b[0m: something is wrong with this data"
     ]
    }
   ],
   "source": [
    "with open('data/communes_france_2025.csv', encoding='UTF-8') as f:\n",
    "    for _ in range(2):\n",
    "        print(next(f))\n",
    "    # emulate an error\n",
    "    raise ValueError(\"something is wrong with this data\")\n",
    "    print(\"unreachable code\")\n",
    "# auto close: f.__exit__()\n",
    "\n",
    "# exception can be handled later "
   ]
  },
  {
   "cell_type": "code",
   "execution_count": 23,
   "id": "eba6e96d-6b79-4fef-a060-85319ec9446e",
   "metadata": {},
   "outputs": [],
   "source": [
    "assert f.closed"
   ]
  },
  {
   "cell_type": "code",
   "execution_count": 24,
   "id": "a8646dcc-97a4-46aa-ad78-ad86db265566",
   "metadata": {},
   "outputs": [
    {
     "name": "stdout",
     "output_type": "stream",
     "text": [
      ",code_insee,nom_standard,nom_sans_pronom,nom_a,nom_de,nom_sans_accent,nom_standard_majuscule,typecom,typecom_texte,reg_code,reg_nom,dep_code,dep_nom,canton_code,canton_nom,epci_code,epci_nom,academie_code,academie_nom,code_postal,codes_postaux,zone_emploi,code_insee_centre_zone_emploi,code_unite_urbaine,nom_unite_urbaine,taille_unite_urbaine,type_commune_unite_urbaine,statut_commune_unite_urbaine,population,superficie_hectare,superficie_km2,densite,altitude_moyenne,altitude_minimale,altitude_maximale,latitude_mairie,longitude_mairie,latitude_centre,longitude_centre,grille_densite,grille_densite_texte,niveau_equipements_services,niveau_equipements_services_texte,gentile,url_wikipedia,url_villedereve\n",
      "\n",
      "0,01001,L'Abergement-Clémenciat,Abergement-Clémenciat,à Abergement-Clémenciat,de l'Abergement-Clémenciat,l-abergement-clemenciat,L'ABERGEMENT-CLÉMENCIAT,COM,commune,84,Auvergne-Rhône-Alpes,01,Ain,0108,Châtillon-sur-Chalaronne,200069193,CC de la Dombes,10,Lyon,01400,01400,08405,01053,01000,,0.0,HORS UNITE URBAINE,H,832,1565,16,53.0,242,206.0,272.0,46.151,4.921,46.153,4.926,6,Rural à habitat dispersé,0.0,communes non pôle,,https://fr.wikipedia.org/wiki/fr:L'Abergement-Clémenciat,https://villedereve.fr/ville/01001-l-abergement-clemenciat\n",
      "\n"
     ]
    },
    {
     "ename": "ValueError",
     "evalue": "something is wrong with this data",
     "output_type": "error",
     "traceback": [
      "\u001b[1;31m---------------------------------------------------------------------------\u001b[0m",
      "\u001b[1;31mValueError\u001b[0m                                Traceback (most recent call last)",
      "Cell \u001b[1;32mIn[24], line 5\u001b[0m\n\u001b[0;32m      3\u001b[0m     \u001b[38;5;28mprint\u001b[39m(\u001b[38;5;28mnext\u001b[39m(f))\n\u001b[0;32m      4\u001b[0m \u001b[38;5;66;03m# emulate an error\u001b[39;00m\n\u001b[1;32m----> 5\u001b[0m \u001b[38;5;28;01mraise\u001b[39;00m \u001b[38;5;167;01mValueError\u001b[39;00m(\u001b[38;5;124m\"\u001b[39m\u001b[38;5;124msomething is wrong with this data\u001b[39m\u001b[38;5;124m\"\u001b[39m)\n\u001b[0;32m      6\u001b[0m \u001b[38;5;28mprint\u001b[39m(\u001b[38;5;124m\"\u001b[39m\u001b[38;5;124munreachable code\u001b[39m\u001b[38;5;124m\"\u001b[39m)\n\u001b[0;32m      7\u001b[0m f\u001b[38;5;241m.\u001b[39mclose()\n",
      "\u001b[1;31mValueError\u001b[0m: something is wrong with this data"
     ]
    }
   ],
   "source": [
    "f = open('data/communes_france_2025.csv', encoding='UTF-8')\n",
    "for _ in range(2):\n",
    "    print(next(f))\n",
    "# emulate an error\n",
    "raise ValueError(\"something is wrong with this data\")\n",
    "print(\"unreachable code\")\n",
    "f.close()"
   ]
  },
  {
   "cell_type": "code",
   "execution_count": 25,
   "id": "8f33fde2-c598-4548-8c27-24ca6e866b1d",
   "metadata": {},
   "outputs": [],
   "source": [
    "assert not f.closed"
   ]
  },
  {
   "cell_type": "code",
   "execution_count": 33,
   "id": "3047eebe-e4cd-4139-b21e-6f69327d3458",
   "metadata": {},
   "outputs": [],
   "source": [
    "class Resource:\n",
    "\n",
    "    def __enter__(self):\n",
    "        print(\"__enter__\")\n",
    "\n",
    "\n",
    "    def __exit__(self, exc_type, exc_value, traceback):\n",
    "        print(\"__exit__\")"
   ]
  },
  {
   "cell_type": "code",
   "execution_count": 34,
   "id": "c5e30468-786c-41e7-8ef5-d21d8a9d7627",
   "metadata": {},
   "outputs": [
    {
     "name": "stdout",
     "output_type": "stream",
     "text": [
      "__enter__\n",
      "Using resource: None\n",
      "__exit__\n",
      "I'm done with this resource: None\n"
     ]
    }
   ],
   "source": [
    "with Resource() as r:\n",
    "    print(\"Using resource:\", r)\n",
    "print(\"I'm done with this resource:\", r)"
   ]
  },
  {
   "cell_type": "code",
   "execution_count": 35,
   "id": "1cd86f36-0115-45a1-a5e4-a58aa382f418",
   "metadata": {},
   "outputs": [
    {
     "name": "stdout",
     "output_type": "stream",
     "text": [
      "__enter__\n",
      "Using resource: None\n",
      "__exit__\n"
     ]
    },
    {
     "ename": "ValueError",
     "evalue": "Pb!!!",
     "output_type": "error",
     "traceback": [
      "\u001b[1;31m---------------------------------------------------------------------------\u001b[0m",
      "\u001b[1;31mValueError\u001b[0m                                Traceback (most recent call last)",
      "Cell \u001b[1;32mIn[35], line 3\u001b[0m\n\u001b[0;32m      1\u001b[0m \u001b[38;5;28;01mwith\u001b[39;00m Resource() \u001b[38;5;28;01mas\u001b[39;00m r:\n\u001b[0;32m      2\u001b[0m     \u001b[38;5;28mprint\u001b[39m(\u001b[38;5;124m\"\u001b[39m\u001b[38;5;124mUsing resource:\u001b[39m\u001b[38;5;124m\"\u001b[39m, r)\n\u001b[1;32m----> 3\u001b[0m     \u001b[38;5;28;01mraise\u001b[39;00m \u001b[38;5;167;01mValueError\u001b[39;00m(\u001b[38;5;124m\"\u001b[39m\u001b[38;5;124mPb!!!\u001b[39m\u001b[38;5;124m\"\u001b[39m)\n\u001b[0;32m      4\u001b[0m     \u001b[38;5;28mprint\u001b[39m(\u001b[38;5;124m\"\u001b[39m\u001b[38;5;124mStill using resource ??\u001b[39m\u001b[38;5;124m\"\u001b[39m)\n\u001b[0;32m      5\u001b[0m \u001b[38;5;28mprint\u001b[39m(\u001b[38;5;124m\"\u001b[39m\u001b[38;5;124mI\u001b[39m\u001b[38;5;124m'\u001b[39m\u001b[38;5;124mm done with this resource:\u001b[39m\u001b[38;5;124m\"\u001b[39m, r)\n",
      "\u001b[1;31mValueError\u001b[0m: Pb!!!"
     ]
    }
   ],
   "source": [
    "with Resource() as r:\n",
    "    print(\"Using resource:\", r)\n",
    "    raise ValueError(\"Pb!!!\")\n",
    "    print(\"Still using resource ??\")\n",
    "print(\"I'm done with this resource:\", r)"
   ]
  },
  {
   "cell_type": "code",
   "execution_count": 38,
   "id": "8ae5b001-1689-4f4a-ba4c-68f5b4c854d1",
   "metadata": {},
   "outputs": [],
   "source": [
    "r = Resource()"
   ]
  },
  {
   "cell_type": "code",
   "execution_count": 39,
   "id": "239973b5-6cea-44be-bd9f-a422ab847df0",
   "metadata": {},
   "outputs": [
    {
     "data": {
      "text/plain": [
       "NotImplemented"
      ]
     },
     "execution_count": 39,
     "metadata": {},
     "output_type": "execute_result"
    }
   ],
   "source": [
    "r.__le__(r)"
   ]
  },
  {
   "cell_type": "markdown",
   "id": "63ab5699-a3d4-469c-9341-e76d6a9802c1",
   "metadata": {},
   "source": [
    "## Operator as a function"
   ]
  },
  {
   "cell_type": "code",
   "execution_count": 40,
   "id": "995cd459-0f86-48a6-a57d-c0e673b3783b",
   "metadata": {},
   "outputs": [],
   "source": [
    "import operator as op"
   ]
  },
  {
   "cell_type": "code",
   "execution_count": 41,
   "id": "89b64781-e75f-4fd2-99b4-8831d31ac40f",
   "metadata": {},
   "outputs": [],
   "source": [
    "data1 = [11, 22, 33]\n",
    "data2 = range(3)"
   ]
  },
  {
   "cell_type": "code",
   "execution_count": 43,
   "id": "fe023dd0-4ac0-42ac-8654-e058407dca32",
   "metadata": {},
   "outputs": [],
   "source": [
    "def compute(f, source1, source2):\n",
    "    for a, b in zip(source1, source2):\n",
    "        r = f(a, b)\n",
    "        print(r)"
   ]
  },
  {
   "cell_type": "code",
   "execution_count": 45,
   "id": "857b381f-6ae4-4b58-8483-3e36b3ffc256",
   "metadata": {},
   "outputs": [
    {
     "name": "stdout",
     "output_type": "stream",
     "text": [
      "121\n",
      "529\n",
      "1225\n"
     ]
    }
   ],
   "source": [
    "compute(lambda x,y: (x + y)**2, data1, data2) "
   ]
  },
  {
   "cell_type": "code",
   "execution_count": 48,
   "id": "99eb8f21-bb71-4eaf-b9d1-fca0dad07a63",
   "metadata": {},
   "outputs": [
    {
     "name": "stdout",
     "output_type": "stream",
     "text": [
      "11\n",
      "23\n",
      "35\n"
     ]
    }
   ],
   "source": [
    "compute(op.add, data1, data2)"
   ]
  },
  {
   "cell_type": "code",
   "execution_count": 49,
   "id": "86438ff9-5e1b-4bb8-a717-ed243ecc6ba1",
   "metadata": {},
   "outputs": [
    {
     "data": {
      "text/plain": [
       "36"
      ]
     },
     "execution_count": 49,
     "metadata": {},
     "output_type": "execute_result"
    }
   ],
   "source": [
    "12 + 24"
   ]
  },
  {
   "cell_type": "code",
   "execution_count": 50,
   "id": "cdc7f8e1-7b1f-4dff-a04d-07dd76180653",
   "metadata": {},
   "outputs": [
    {
     "data": {
      "text/plain": [
       "3"
      ]
     },
     "execution_count": 50,
     "metadata": {},
     "output_type": "execute_result"
    }
   ],
   "source": [
    "op.add(1, 2)"
   ]
  },
  {
   "cell_type": "code",
   "execution_count": 54,
   "id": "10c0b97c-82a7-4126-b5e0-37b1cf9863c9",
   "metadata": {},
   "outputs": [
    {
     "name": "stdout",
     "output_type": "stream",
     "text": [
      "I'm a function !\n"
     ]
    }
   ],
   "source": [
    "class MyFunction:\n",
    "    def __call__(self):\n",
    "        print(\"I'm a function !\")\n",
    "\n",
    "f = MyFunction()\n",
    "f()"
   ]
  },
  {
   "cell_type": "code",
   "execution_count": 56,
   "id": "25258c55-a230-4f30-bb93-ac40f2b911d3",
   "metadata": {},
   "outputs": [
    {
     "name": "stdout",
     "output_type": "stream",
     "text": [
      "I'm a function !\n"
     ]
    }
   ],
   "source": [
    "MyFunction()()"
   ]
  }
 ],
 "metadata": {
  "kernelspec": {
   "display_name": "Python 3 (ipykernel)",
   "language": "python",
   "name": "python3"
  },
  "language_info": {
   "codemirror_mode": {
    "name": "ipython",
    "version": 3
   },
   "file_extension": ".py",
   "mimetype": "text/x-python",
   "name": "python",
   "nbconvert_exporter": "python",
   "pygments_lexer": "ipython3",
   "version": "3.13.2"
  }
 },
 "nbformat": 4,
 "nbformat_minor": 5
}
