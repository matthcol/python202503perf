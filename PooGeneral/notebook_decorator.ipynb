{
 "cells": [
  {
   "cell_type": "markdown",
   "id": "f875e757-b55c-4c47-a28f-d269a58cff53",
   "metadata": {},
   "source": [
    "# Decorators\n",
    "Article: https://realpython.com/primer-on-python-decorators/"
   ]
  },
  {
   "cell_type": "code",
   "execution_count": 78,
   "id": "ee2cae72-39bd-439d-b600-17e6383b5525",
   "metadata": {},
   "outputs": [],
   "source": [
    "import numpy as np\n",
    "from functools import lru_cache, wraps\n",
    "from datetime import datetime\n",
    "import pandas as pd"
   ]
  },
  {
   "cell_type": "markdown",
   "id": "f0d81e01-63a1-4f62-aee8-aacd40e830c1",
   "metadata": {},
   "source": [
    "## Decorators provided by Python\n",
    "- dataclass\n",
    "- staticmethod, classmethod\n",
    "- override"
   ]
  },
  {
   "cell_type": "code",
   "execution_count": 2,
   "id": "a99c03eb-b32e-4957-9b25-3c6313bed7a0",
   "metadata": {},
   "outputs": [],
   "source": [
    "def fibo(n):\n",
    "    assert n >= 0\n",
    "    n1 = 0\n",
    "    n2 = 1\n",
    "    match n:\n",
    "        case 1:\n",
    "            return n1\n",
    "        case 2:\n",
    "            return n2\n",
    "        case _:\n",
    "            for _ in range(n-2):\n",
    "                n1, n2 = n2, n1 + n2\n",
    "            return n2"
   ]
  },
  {
   "cell_type": "code",
   "execution_count": 3,
   "id": "73d382b2-5a74-4027-894b-cf8e1fb60dca",
   "metadata": {},
   "outputs": [
    {
     "data": {
      "text/plain": [
       "(0, 1, 34)"
      ]
     },
     "execution_count": 3,
     "metadata": {},
     "output_type": "execute_result"
    }
   ],
   "source": [
    "fibo(1), fibo(2), fibo(10)"
   ]
  },
  {
   "cell_type": "code",
   "execution_count": 4,
   "id": "c38ae9b9-4e6b-4029-a00a-369dd1b64a84",
   "metadata": {},
   "outputs": [
    {
     "data": {
      "text/plain": [
       "[0, 1, 1, 2, 3, 5, 8, 13, 21, 34]"
      ]
     },
     "execution_count": 4,
     "metadata": {},
     "output_type": "execute_result"
    }
   ],
   "source": [
    "[fibo(n) for n in range(1, 11)]"
   ]
  },
  {
   "cell_type": "code",
   "execution_count": 5,
   "id": "b4fc2010-731a-4988-a9de-6cba01117740",
   "metadata": {},
   "outputs": [
    {
     "data": {
      "text/plain": [
       "218922995834555169026"
      ]
     },
     "execution_count": 5,
     "metadata": {},
     "output_type": "execute_result"
    }
   ],
   "source": [
    "fibo(100)"
   ]
  },
  {
   "cell_type": "code",
   "execution_count": 6,
   "id": "5d7287b5-e261-4906-a83e-3f6eeefcf7b2",
   "metadata": {},
   "outputs": [
    {
     "name": "stdout",
     "output_type": "stream",
     "text": [
      "217 μs ± 23.5 μs per loop (mean ± std. dev. of 7 runs, 1,000 loops each)\n"
     ]
    }
   ],
   "source": [
    "%timeit -n 1000 [fibo(n) for n in range(1, 100)]"
   ]
  },
  {
   "cell_type": "code",
   "execution_count": 7,
   "id": "08d8d06b-6679-4554-bf53-5432288491a1",
   "metadata": {},
   "outputs": [],
   "source": [
    "@lru_cache\n",
    "def fibo2(n):\n",
    "    assert n >= 0\n",
    "    n1 = 0\n",
    "    n2 = 1\n",
    "    match n:\n",
    "        case 1:\n",
    "            return n1\n",
    "        case 2:\n",
    "            return n2\n",
    "        case _:\n",
    "            for _ in range(n-2):\n",
    "                n1, n2 = n2, n1 + n2\n",
    "            return n2"
   ]
  },
  {
   "cell_type": "code",
   "execution_count": 8,
   "id": "3de2fe82-2fac-4a62-a6f0-a673996b92ec",
   "metadata": {},
   "outputs": [
    {
     "name": "stdout",
     "output_type": "stream",
     "text": [
      "215 μs ± 0 ns per loop (mean ± std. dev. of 1 run, 1 loop each)\n"
     ]
    }
   ],
   "source": [
    "%timeit -n 1  -r 1 [fibo2(n) for n in range(1, 100)]"
   ]
  },
  {
   "cell_type": "code",
   "execution_count": 9,
   "id": "19937279-a787-41f7-ad2d-40ad66dd4b74",
   "metadata": {},
   "outputs": [
    {
     "name": "stdout",
     "output_type": "stream",
     "text": [
      "20.8 μs ± 0 ns per loop (mean ± std. dev. of 1 run, 1 loop each)\n"
     ]
    }
   ],
   "source": [
    "%timeit -n 1 -r 1 [fibo2(n) for n in range(1, 100)]"
   ]
  },
  {
   "cell_type": "code",
   "execution_count": 10,
   "id": "faf1d2e9-3eac-4b6e-a39b-ae61476b3d61",
   "metadata": {},
   "outputs": [],
   "source": [
    "def fibo_rec(n):\n",
    "    assert n >= 0\n",
    "    n1 = 0\n",
    "    n2 = 1\n",
    "    match n:\n",
    "        case 1:\n",
    "            return n1\n",
    "        case 2:\n",
    "            return n2\n",
    "        case _:\n",
    "            return fibo_rec(n-2) + fibo_rec(n-1)"
   ]
  },
  {
   "cell_type": "code",
   "execution_count": 11,
   "id": "b481ded1-eeb1-4158-9828-8681f600741b",
   "metadata": {},
   "outputs": [
    {
     "data": {
      "text/plain": [
       "[0, 1, 1, 2, 3, 5, 8, 13, 21, 34]"
      ]
     },
     "execution_count": 11,
     "metadata": {},
     "output_type": "execute_result"
    }
   ],
   "source": [
    "[fibo_rec(n) for n in range(1, 11)]"
   ]
  },
  {
   "cell_type": "code",
   "execution_count": 16,
   "id": "0cec12dd-2171-419a-8d8c-7a3bc36a2860",
   "metadata": {},
   "outputs": [
    {
     "name": "stdout",
     "output_type": "stream",
     "text": [
      "2.72 s ± 67 ms per loop (mean ± std. dev. of 2 runs, 10 loops each)\n"
     ]
    }
   ],
   "source": [
    "%timeit -n 10 -r 2 fibo_rec(35)"
   ]
  },
  {
   "cell_type": "code",
   "execution_count": 24,
   "id": "7b572dd2-23a4-46b0-a52d-9a897dda2e61",
   "metadata": {},
   "outputs": [],
   "source": [
    "@lru_cache(1000)\n",
    "def fibo_rec2(n):\n",
    "    \"\"\"Compute the nth term of the Fibonacci series\"\"\"\n",
    "    assert n >= 0\n",
    "    n1 = 0\n",
    "    n2 = 1\n",
    "    match n:\n",
    "        case 1:\n",
    "            return n1\n",
    "        case 2:\n",
    "            return n2\n",
    "        case _:\n",
    "            return fibo_rec2(n-2) + fibo_rec2(n-1)"
   ]
  },
  {
   "cell_type": "code",
   "execution_count": 25,
   "id": "17d577e8-4363-4b3b-a08c-f9a4dc409c53",
   "metadata": {},
   "outputs": [
    {
     "name": "stdout",
     "output_type": "stream",
     "text": [
      "The slowest run took 17.06 times longer than the fastest. This could mean that an intermediate result is being cached.\n",
      "3.07 μs ± 2.73 μs per loop (mean ± std. dev. of 2 runs, 10 loops each)\n"
     ]
    }
   ],
   "source": [
    "%timeit -n 10 -r 2 fibo_rec2(35)"
   ]
  },
  {
   "cell_type": "code",
   "execution_count": 26,
   "id": "de5f5943-afc0-4ffe-927b-a2a23b4c4d83",
   "metadata": {},
   "outputs": [
    {
     "name": "stdout",
     "output_type": "stream",
     "text": [
      "300 ns ± 130 ns per loop (mean ± std. dev. of 2 runs, 10 loops each)\n"
     ]
    }
   ],
   "source": [
    "%timeit -n 10 -r 2 fibo_rec2(35)"
   ]
  },
  {
   "cell_type": "code",
   "execution_count": 27,
   "id": "632d2c54-278a-43c1-b414-9f2e8bedd220",
   "metadata": {},
   "outputs": [
    {
     "data": {
      "text/plain": [
       "218922995834555169026"
      ]
     },
     "execution_count": 27,
     "metadata": {},
     "output_type": "execute_result"
    }
   ],
   "source": [
    "fibo_rec2(100)"
   ]
  },
  {
   "cell_type": "code",
   "execution_count": 28,
   "id": "a9890852-8865-4849-bd59-dd26c64b3af1",
   "metadata": {},
   "outputs": [
    {
     "data": {
      "text/plain": [
       "\u001b[31mSignature:\u001b[39m       fibo_rec2(n)\n",
       "\u001b[31mCall signature:\u001b[39m  fibo_rec2(*args, **kwargs)\n",
       "\u001b[31mType:\u001b[39m            _lru_cache_wrapper\n",
       "\u001b[31mString form:\u001b[39m     <functools._lru_cache_wrapper object at 0x000001E1944B6770>\n",
       "\u001b[31mFile:\u001b[39m            c:\\users\\matth\\appdata\\local\\temp\\ipykernel_35640\\2719094636.py\n",
       "\u001b[31mDocstring:\u001b[39m       Compute the nth term of the Fibonacci series\n",
       "\u001b[31mClass docstring:\u001b[39m\n",
       "Create a cached callable that wraps another function.\n",
       "\n",
       "user_function:      the function being cached\n",
       "\n",
       "maxsize:  0         for no caching\n",
       "          None      for unlimited cache size\n",
       "          n         for a bounded cache\n",
       "\n",
       "typed:    False     cache f(3) and f(3.0) as identical calls\n",
       "          True      cache f(3) and f(3.0) as distinct calls\n",
       "\n",
       "cache_info_type:    namedtuple class with the fields:\n",
       "                        hits misses currsize maxsize"
      ]
     },
     "metadata": {},
     "output_type": "display_data"
    }
   ],
   "source": [
    "fibo_rec2?"
   ]
  },
  {
   "cell_type": "code",
   "execution_count": 29,
   "id": "92765db5-e0a7-4821-a90b-ab69a413e2f0",
   "metadata": {},
   "outputs": [
    {
     "data": {
      "text/plain": [
       "\u001b[31mSignature:\u001b[39m       fibo3(n)\n",
       "\u001b[31mCall signature:\u001b[39m  fibo3(*args, **kwargs)\n",
       "\u001b[31mType:\u001b[39m            _lru_cache_wrapper\n",
       "\u001b[31mString form:\u001b[39m     <functools._lru_cache_wrapper object at 0x000001E1944B4A90>\n",
       "\u001b[31mFile:\u001b[39m            c:\\users\\matth\\appdata\\local\\temp\\ipykernel_35640\\3863838992.py\n",
       "\u001b[31mDocstring:\u001b[39m       <no docstring>\n",
       "\u001b[31mClass docstring:\u001b[39m\n",
       "Create a cached callable that wraps another function.\n",
       "\n",
       "user_function:      the function being cached\n",
       "\n",
       "maxsize:  0         for no caching\n",
       "          None      for unlimited cache size\n",
       "          n         for a bounded cache\n",
       "\n",
       "typed:    False     cache f(3) and f(3.0) as identical calls\n",
       "          True      cache f(3) and f(3.0) as distinct calls\n",
       "\n",
       "cache_info_type:    namedtuple class with the fields:\n",
       "                        hits misses currsize maxsize"
      ]
     },
     "metadata": {},
     "output_type": "display_data"
    }
   ],
   "source": [
    "# a Python decorator is a function\n",
    "fibo3 = lru_cache(fibo)\n",
    "fibo3?"
   ]
  },
  {
   "cell_type": "code",
   "execution_count": 30,
   "id": "c3fac4ed-a5bd-4a0a-a650-551dda4a2a0b",
   "metadata": {},
   "outputs": [
    {
     "data": {
      "text/plain": [
       "218922995834555169026"
      ]
     },
     "execution_count": 30,
     "metadata": {},
     "output_type": "execute_result"
    }
   ],
   "source": [
    "fibo3(100)"
   ]
  },
  {
   "cell_type": "markdown",
   "id": "065ca979-8b1f-4d4c-a2c1-f17d5b00f81c",
   "metadata": {},
   "source": [
    "## Faisons nos propes décorations"
   ]
  },
  {
   "cell_type": "code",
   "execution_count": 79,
   "id": "50b4d0c7-b197-4d5e-8661-67345628b694",
   "metadata": {},
   "outputs": [],
   "source": [
    "def logger(f):\n",
    "    @wraps(f)\n",
    "    def logger_wrapper(*args, **kwargs):\n",
    "        dt1 = datetime.now()\n",
    "        print(f'LOG [{dt1}]: positional args = {args}')\n",
    "        print(f'LOG [{dt1}]: keyword args = {kwargs}')\n",
    "        r = f(*args, **kwargs)\n",
    "        dt2 = datetime.now()\n",
    "        print(f'LOG [{dt2}]: results = {r}')\n",
    "        return r\n",
    "    return logger_wrapper"
   ]
  },
  {
   "cell_type": "code",
   "execution_count": null,
   "id": "7f2671ed-f486-495b-930e-0bdf0347a8b4",
   "metadata": {},
   "outputs": [],
   "source": []
  },
  {
   "cell_type": "code",
   "execution_count": 80,
   "id": "3efdeac7-7d2d-44b9-bfdb-44b938409a24",
   "metadata": {},
   "outputs": [],
   "source": [
    "@logger\n",
    "def compute(x: int) -> int:\n",
    "    \"\"\"apply formula x**2 + 1\"\"\"\n",
    "    return x**2+1"
   ]
  },
  {
   "cell_type": "code",
   "execution_count": 81,
   "id": "fff016cd-66d1-4dc0-88c4-b598299bf3dd",
   "metadata": {},
   "outputs": [
    {
     "name": "stdout",
     "output_type": "stream",
     "text": [
      "LOG [2025-03-20 15:37:27.619627]: positional args = (12,)\n",
      "LOG [2025-03-20 15:37:27.619627]: keyword args = {}\n",
      "LOG [2025-03-20 15:37:27.619769]: results = 145\n"
     ]
    },
    {
     "data": {
      "text/plain": [
       "145"
      ]
     },
     "execution_count": 81,
     "metadata": {},
     "output_type": "execute_result"
    }
   ],
   "source": [
    "res = compute(12)\n",
    "res"
   ]
  },
  {
   "cell_type": "code",
   "execution_count": 82,
   "id": "fe19fdcf-cee4-4985-99b5-1b73774a5793",
   "metadata": {},
   "outputs": [],
   "source": [
    "@logger\n",
    "def do_anything() -> None:\n",
    "    print(\"I'm doing what I want !\")"
   ]
  },
  {
   "cell_type": "code",
   "execution_count": 83,
   "id": "3c79dd17-c800-4028-a2ea-dfe6d28962b9",
   "metadata": {},
   "outputs": [
    {
     "name": "stdout",
     "output_type": "stream",
     "text": [
      "LOG [2025-03-20 15:37:29.710347]: positional args = ()\n",
      "LOG [2025-03-20 15:37:29.710347]: keyword args = {}\n",
      "I'm doing what I want !\n",
      "LOG [2025-03-20 15:37:29.710890]: results = None\n"
     ]
    }
   ],
   "source": [
    "do_anything()"
   ]
  },
  {
   "cell_type": "code",
   "execution_count": 84,
   "id": "559df3c3-dd8c-4380-ab50-a80bcdc6aae3",
   "metadata": {},
   "outputs": [],
   "source": [
    "normal = logger(np.random.normal)"
   ]
  },
  {
   "cell_type": "code",
   "execution_count": 85,
   "id": "eab113d1-a26f-46d6-9e26-48d1b2330bc1",
   "metadata": {},
   "outputs": [
    {
     "name": "stdout",
     "output_type": "stream",
     "text": [
      "LOG [2025-03-20 15:37:33.967117]: positional args = (10.0, 2.5, 100000)\n",
      "LOG [2025-03-20 15:37:33.967117]: keyword args = {}\n",
      "LOG [2025-03-20 15:37:33.972054]: results = [10.15404023  9.99536777 11.52993061 ... 10.46398437 11.70760173\n",
      "  8.77421078]\n"
     ]
    },
    {
     "data": {
      "text/plain": [
       "array([10.15404023,  9.99536777, 11.52993061, ..., 10.46398437,\n",
       "       11.70760173,  8.77421078], shape=(100000,))"
      ]
     },
     "execution_count": 85,
     "metadata": {},
     "output_type": "execute_result"
    }
   ],
   "source": [
    "x = normal(10.0, 2.5, 100_000)\n",
    "x"
   ]
  },
  {
   "cell_type": "code",
   "execution_count": 86,
   "id": "8c0c9246-16f1-47f5-863d-4678a05c6d03",
   "metadata": {},
   "outputs": [
    {
     "name": "stdout",
     "output_type": "stream",
     "text": [
      "LOG [2025-03-20 15:37:34.578369]: positional args = ()\n",
      "LOG [2025-03-20 15:37:34.578369]: keyword args = {'n': 100}\n",
      "LOG [2025-03-20 15:37:34.578502]: results = 218922995834555169026\n"
     ]
    },
    {
     "data": {
      "text/plain": [
       "218922995834555169026"
      ]
     },
     "execution_count": 86,
     "metadata": {},
     "output_type": "execute_result"
    }
   ],
   "source": [
    "fibo_log = logger(fibo_rec2)\n",
    "fibo_log(n=100)"
   ]
  },
  {
   "cell_type": "code",
   "execution_count": 87,
   "id": "345135f5-76df-4fb8-bb98-51e42fe99fa4",
   "metadata": {},
   "outputs": [],
   "source": [
    "read_csv = logger(pd.read_csv)"
   ]
  },
  {
   "cell_type": "code",
   "execution_count": 88,
   "id": "785e9899-6218-4033-ac71-775c498cc8e9",
   "metadata": {},
   "outputs": [
    {
     "name": "stdout",
     "output_type": "stream",
     "text": [
      "LOG [2025-03-20 15:37:35.646531]: positional args = ('data/cities100k.csv',)\n",
      "LOG [2025-03-20 15:37:35.646531]: keyword args = {'sep': ';', 'encoding': 'cp1252'}\n",
      "LOG [2025-03-20 15:37:35.652127]: results =     code_insee          nom_standard       nom_sans_pronom  \\\n",
      "0        75056                 Paris                 Paris   \n",
      "1        13055             Marseille             Marseille   \n",
      "2        69123                  Lyon                  Lyon   \n",
      "3        31555              Toulouse              Toulouse   \n",
      "4         6088                  Nice                  Nice   \n",
      "5        44109                Nantes                Nantes   \n",
      "6        34172           Montpellier           Montpellier   \n",
      "7        67482            Strasbourg            Strasbourg   \n",
      "8        33063              Bordeaux              Bordeaux   \n",
      "9        59350                 Lille                 Lille   \n",
      "10       35238                Rennes                Rennes   \n",
      "11       83137                Toulon                Toulon   \n",
      "12       51454                 Reims                 Reims   \n",
      "13       42218         Saint-Étienne         Saint-Étienne   \n",
      "14       76351              Le Havre                 Havre   \n",
      "15       21231                 Dijon                 Dijon   \n",
      "16       38185              Grenoble              Grenoble   \n",
      "17       49007                Angers                Angers   \n",
      "18       69266          Villeurbanne          Villeurbanne   \n",
      "19       97411           Saint-Denis           Saint-Denis   \n",
      "20       30189                 Nîmes                 Nîmes   \n",
      "21       13001       Aix-en-Provence       Aix-en-Provence   \n",
      "22       63113      Clermont-Ferrand      Clermont-Ferrand   \n",
      "23       72181               Le Mans                  Mans   \n",
      "24       29019                 Brest                 Brest   \n",
      "25       37261                 Tours                 Tours   \n",
      "26       80021                Amiens                Amiens   \n",
      "27       74010                Annecy                Annecy   \n",
      "28       87085               Limoges               Limoges   \n",
      "29       57463                  Metz                  Metz   \n",
      "30       92012  Boulogne-Billancourt  Boulogne-Billancourt   \n",
      "31       66136             Perpignan             Perpignan   \n",
      "32       25056              Besançon              Besançon   \n",
      "33       45234               Orléans               Orléans   \n",
      "34       76540                 Rouen                 Rouen   \n",
      "35       93066           Saint-Denis           Saint-Denis   \n",
      "36       93048             Montreuil             Montreuil   \n",
      "37       14118                  Caen                  Caen   \n",
      "38       95018            Argenteuil            Argenteuil   \n",
      "39       68224              Mulhouse              Mulhouse   \n",
      "40       97415            Saint-Paul            Saint-Paul   \n",
      "41       54395                 Nancy                 Nancy   \n",
      "\n",
      "                     nom_a                   nom_de       nom_sans_accent  \\\n",
      "0                  à Paris                 de Paris                 paris   \n",
      "1              à Marseille             de Marseille             marseille   \n",
      "2                   à Lyon                  de Lyon                  lyon   \n",
      "3               à Toulouse              de Toulouse              toulouse   \n",
      "4                   à Nice                  de Nice                  nice   \n",
      "5                 à Nantes                de Nantes                nantes   \n",
      "6            à Montpellier           de Montpellier           montpellier   \n",
      "7             à Strasbourg            de Strasbourg            strasbourg   \n",
      "8               à Bordeaux              de Bordeaux              bordeaux   \n",
      "9                  à Lille                 de Lille                 lille   \n",
      "10                à Rennes                de Rennes                rennes   \n",
      "11                à Toulon                de Toulon                toulon   \n",
      "12                 à Reims                 de Reims                 reims   \n",
      "13         à Saint-Étienne         de Saint-Étienne         saint-etienne   \n",
      "14                au Havre                 du Havre              le-havre   \n",
      "15                 à Dijon                 de Dijon                 dijon   \n",
      "16              à Grenoble              de Grenoble              grenoble   \n",
      "17                à Angers                 d'Angers                angers   \n",
      "18          à Villeurbanne          de Villeurbanne          villeurbanne   \n",
      "19           à Saint-Denis           de Saint-Denis           saint-denis   \n",
      "20                 à Nîmes                 de Nîmes                 nimes   \n",
      "21       à Aix-en-Provence        d'Aix-en-Provence       aix-en-provence   \n",
      "22      à Clermont-Ferrand      de Clermont-Ferrand      clermont-ferrand   \n",
      "23                 au Mans                  du Mans               le-mans   \n",
      "24                 à Brest                 de Brest                 brest   \n",
      "25                 à Tours                 de Tours                 tours   \n",
      "26                à Amiens                 d'Amiens                amiens   \n",
      "27                à Annecy                 d'Annecy                annecy   \n",
      "28               à Limoges               de Limoges               limoges   \n",
      "29                  à Metz                  de Metz                  metz   \n",
      "30  à Boulogne-Billancourt  de Boulogne-Billancourt  boulogne-billancourt   \n",
      "31             à Perpignan             de Perpignan             perpignan   \n",
      "32              à Besançon              de Besançon              besancon   \n",
      "33               à Orléans                d'Orléans               orleans   \n",
      "34                 à Rouen                 de Rouen                 rouen   \n",
      "35           à Saint-Denis           de Saint-Denis           saint-denis   \n",
      "36             à Montreuil             de Montreuil             montreuil   \n",
      "37                  à Caen                  de Caen                  caen   \n",
      "38            à Argenteuil             d'Argenteuil            argenteuil   \n",
      "39              à Mulhouse              de Mulhouse              mulhouse   \n",
      "40            à Saint-Paul            de Saint-Paul            saint-paul   \n",
      "41                 à Nancy                 de Nancy                 nancy   \n",
      "\n",
      "   nom_standard_majuscule typecom typecom_texte  reg_code  ...  \\\n",
      "0                   PARIS     COM       commune        11  ...   \n",
      "1               MARSEILLE     COM       commune        93  ...   \n",
      "2                    LYON     COM       commune        84  ...   \n",
      "3                TOULOUSE     COM       commune        76  ...   \n",
      "4                    NICE     COM       commune        93  ...   \n",
      "5                  NANTES     COM       commune        52  ...   \n",
      "6             MONTPELLIER     COM       commune        76  ...   \n",
      "7              STRASBOURG     COM       commune        44  ...   \n",
      "8                BORDEAUX     COM       commune        75  ...   \n",
      "9                   LILLE     COM       commune        32  ...   \n",
      "10                 RENNES     COM       commune        53  ...   \n",
      "11                 TOULON     COM       commune        93  ...   \n",
      "12                  REIMS     COM       commune        44  ...   \n",
      "13          SAINT-ÉTIENNE     COM       commune        84  ...   \n",
      "14               LE HAVRE     COM       commune        28  ...   \n",
      "15                  DIJON     COM       commune        27  ...   \n",
      "16               GRENOBLE     COM       commune        84  ...   \n",
      "17                 ANGERS     COM       commune        52  ...   \n",
      "18           VILLEURBANNE     COM       commune        84  ...   \n",
      "19            SAINT-DENIS     COM       commune         4  ...   \n",
      "20                  NÎMES     COM       commune        76  ...   \n",
      "21        AIX-EN-PROVENCE     COM       commune        93  ...   \n",
      "22       CLERMONT-FERRAND     COM       commune        84  ...   \n",
      "23                LE MANS     COM       commune        52  ...   \n",
      "24                  BREST     COM       commune        53  ...   \n",
      "25                  TOURS     COM       commune        24  ...   \n",
      "26                 AMIENS     COM       commune        32  ...   \n",
      "27                 ANNECY     COM       commune        84  ...   \n",
      "28                LIMOGES     COM       commune        75  ...   \n",
      "29                   METZ     COM       commune        44  ...   \n",
      "30   BOULOGNE-BILLANCOURT     COM       commune        11  ...   \n",
      "31              PERPIGNAN     COM       commune        76  ...   \n",
      "32               BESANÇON     COM       commune        27  ...   \n",
      "33                ORLÉANS     COM       commune        24  ...   \n",
      "34                  ROUEN     COM       commune        28  ...   \n",
      "35            SAINT-DENIS     COM       commune        11  ...   \n",
      "36              MONTREUIL     COM       commune        11  ...   \n",
      "37                   CAEN     COM       commune        28  ...   \n",
      "38             ARGENTEUIL     COM       commune        11  ...   \n",
      "39               MULHOUSE     COM       commune        44  ...   \n",
      "40             SAINT-PAUL     COM       commune         4  ...   \n",
      "41                  NANCY     COM       commune        44  ...   \n",
      "\n",
      "   longitude_mairie  latitude_centre longitude_centre  grille_densite  \\\n",
      "0             2.352              NaN              NaN               1   \n",
      "1             5.370              NaN              NaN               1   \n",
      "2             4.836              NaN              NaN               1   \n",
      "3             1.444           43.596            1.432               1   \n",
      "4             7.272           43.712            7.238               1   \n",
      "5            -1.554           47.232           -1.548               1   \n",
      "6             3.897           43.613            3.868               1   \n",
      "7             7.752           48.571            7.768               1   \n",
      "8            -0.579           44.857           -0.574               1   \n",
      "9             3.071           50.632            3.048               1   \n",
      "10           -1.680           48.112           -1.682               1   \n",
      "11            5.932           43.136            5.932               1   \n",
      "12            4.031           49.252            4.040               1   \n",
      "13            4.387           45.430            4.379               1   \n",
      "14            0.108           49.498            0.140               1   \n",
      "15            5.042           47.323            5.038               1   \n",
      "16            5.736           45.182            5.721               1   \n",
      "17           -0.548           47.477           -0.556               1   \n",
      "18            4.880           45.771            4.888               1   \n",
      "19           55.448          -20.933           55.447               1   \n",
      "20            4.360           43.845            4.348               1   \n",
      "21            5.447           43.536            5.399               1   \n",
      "22            3.086           45.786            3.116               1   \n",
      "23            0.197           47.988            0.200               1   \n",
      "24           -4.485           48.400           -4.503               1   \n",
      "25            0.690           47.399            0.696               1   \n",
      "26            2.296           49.901            2.290               1   \n",
      "27            6.129           45.891            6.126               1   \n",
      "28            1.260           45.854            1.249               1   \n",
      "29            6.176           49.108            6.196               1   \n",
      "30            2.241           48.837            2.239               1   \n",
      "31            2.894           42.697            2.899               1   \n",
      "32            6.024           47.255            6.020               1   \n",
      "33            1.909           47.883            1.916               1   \n",
      "34            1.100           49.441            1.093               1   \n",
      "35            2.358           48.930            2.359               1   \n",
      "36            2.441           48.863            2.448               1   \n",
      "37           -0.373           49.185           -0.370               1   \n",
      "38            2.249           48.951            2.241               1   \n",
      "39            7.336           47.749            7.326               1   \n",
      "40           55.270          -21.044           55.322               2   \n",
      "41            6.184           48.690            6.176               1   \n",
      "\n",
      "              grille_densite_texte  niveau_equipements_services  \\\n",
      "0           Grands centres urbains                          4.0   \n",
      "1           Grands centres urbains                          4.0   \n",
      "2           Grands centres urbains                          4.0   \n",
      "3           Grands centres urbains                          4.0   \n",
      "4           Grands centres urbains                          4.0   \n",
      "5           Grands centres urbains                          4.0   \n",
      "6           Grands centres urbains                          4.0   \n",
      "7           Grands centres urbains                          4.0   \n",
      "8           Grands centres urbains                          4.0   \n",
      "9           Grands centres urbains                          4.0   \n",
      "10          Grands centres urbains                          4.0   \n",
      "11          Grands centres urbains                          4.0   \n",
      "12          Grands centres urbains                          4.0   \n",
      "13          Grands centres urbains                          4.0   \n",
      "14          Grands centres urbains                          4.0   \n",
      "15          Grands centres urbains                          4.0   \n",
      "16          Grands centres urbains                          4.0   \n",
      "17          Grands centres urbains                          4.0   \n",
      "18          Grands centres urbains                          4.0   \n",
      "19          Grands centres urbains                          NaN   \n",
      "20          Grands centres urbains                          4.0   \n",
      "21          Grands centres urbains                          4.0   \n",
      "22          Grands centres urbains                          4.0   \n",
      "23          Grands centres urbains                          4.0   \n",
      "24          Grands centres urbains                          4.0   \n",
      "25          Grands centres urbains                          4.0   \n",
      "26          Grands centres urbains                          4.0   \n",
      "27          Grands centres urbains                          4.0   \n",
      "28          Grands centres urbains                          4.0   \n",
      "29          Grands centres urbains                          4.0   \n",
      "30          Grands centres urbains                          3.0   \n",
      "31          Grands centres urbains                          4.0   \n",
      "32          Grands centres urbains                          4.0   \n",
      "33          Grands centres urbains                          4.0   \n",
      "34          Grands centres urbains                          4.0   \n",
      "35          Grands centres urbains                          4.0   \n",
      "36          Grands centres urbains                          3.0   \n",
      "37          Grands centres urbains                          4.0   \n",
      "38          Grands centres urbains                          3.0   \n",
      "39          Grands centres urbains                          4.0   \n",
      "40  Centres urbains intermédiaires                          NaN   \n",
      "41          Grands centres urbains                          4.0   \n",
      "\n",
      "                    niveau_equipements_services_texte  \\\n",
      "0        centres majeurs d'équipements et de services   \n",
      "1        centres majeurs d'équipements et de services   \n",
      "2        centres majeurs d'équipements et de services   \n",
      "3        centres majeurs d'équipements et de services   \n",
      "4        centres majeurs d'équipements et de services   \n",
      "5        centres majeurs d'équipements et de services   \n",
      "6        centres majeurs d'équipements et de services   \n",
      "7        centres majeurs d'équipements et de services   \n",
      "8        centres majeurs d'équipements et de services   \n",
      "9        centres majeurs d'équipements et de services   \n",
      "10       centres majeurs d'équipements et de services   \n",
      "11       centres majeurs d'équipements et de services   \n",
      "12       centres majeurs d'équipements et de services   \n",
      "13       centres majeurs d'équipements et de services   \n",
      "14       centres majeurs d'équipements et de services   \n",
      "15       centres majeurs d'équipements et de services   \n",
      "16       centres majeurs d'équipements et de services   \n",
      "17       centres majeurs d'équipements et de services   \n",
      "18       centres majeurs d'équipements et de services   \n",
      "19                                                NaN   \n",
      "20       centres majeurs d'équipements et de services   \n",
      "21       centres majeurs d'équipements et de services   \n",
      "22       centres majeurs d'équipements et de services   \n",
      "23       centres majeurs d'équipements et de services   \n",
      "24       centres majeurs d'équipements et de services   \n",
      "25       centres majeurs d'équipements et de services   \n",
      "26       centres majeurs d'équipements et de services   \n",
      "27       centres majeurs d'équipements et de services   \n",
      "28       centres majeurs d'équipements et de services   \n",
      "29       centres majeurs d'équipements et de services   \n",
      "30  centres structurants d'équipements et de services   \n",
      "31       centres majeurs d'équipements et de services   \n",
      "32       centres majeurs d'équipements et de services   \n",
      "33       centres majeurs d'équipements et de services   \n",
      "34       centres majeurs d'équipements et de services   \n",
      "35       centres majeurs d'équipements et de services   \n",
      "36  centres structurants d'équipements et de services   \n",
      "37       centres majeurs d'équipements et de services   \n",
      "38  centres structurants d'équipements et de services   \n",
      "39       centres majeurs d'équipements et de services   \n",
      "40                                                NaN   \n",
      "41       centres majeurs d'équipements et de services   \n",
      "\n",
      "                                           gentile  \\\n",
      "0                                         Parisien   \n",
      "1                                      Marseillais   \n",
      "2                              Lyonnais, Lyonnaise   \n",
      "3                                      Toulousains   \n",
      "4                                           Niçois   \n",
      "5                                       Nantais(e)   \n",
      "6                  Montpelliérain, Montpelliéraine   \n",
      "7                 Strasbourgeoises, Strasbourgeois   \n",
      "8                                        Bordelais   \n",
      "9                                Lillois, Lilloise   \n",
      "10                                         Rennais   \n",
      "11                                      Toulonnais   \n",
      "12                                       Rémois(e)   \n",
      "13                                      Stéphanois   \n",
      "14                                         Havrais   \n",
      "15                                       Dijonnais   \n",
      "16                         Grenoblois, Grenobloise   \n",
      "17                                        Angevins   \n",
      "18                                  Villeurbannais   \n",
      "19                          Dionysien, Dionysienne   \n",
      "20                              Nîmois et Nîmoises   \n",
      "21  Aixois(e), Aquisextain(e)s, ou Aquisestain(e)s   \n",
      "22                                     Clermontois   \n",
      "23                               Manceau, Mancelle   \n",
      "24                                        Brestois   \n",
      "25                       Tourangeaux, Tourangelles   \n",
      "26                                        Amiénois   \n",
      "27                          Annéciens, Annéciennes   \n",
      "28                                     Limougeauds   \n",
      "29                                         Messins   \n",
      "30                                      Boulonnais   \n",
      "31                                    Perpignanais   \n",
      "32                                       Bisontins   \n",
      "33                           Orléanais, Orléanaise   \n",
      "34                                       Rouennais   \n",
      "35                                      Dionysiens   \n",
      "36                                   Montreuillois   \n",
      "37                                        Caennais   \n",
      "38                                  Argenteuillais   \n",
      "39                         Mulhousien/Mulhousienne   \n",
      "40                                   Saint-Paulois   \n",
      "41                     Nancéien ou Nancéen[Note 1]   \n",
      "\n",
      "                                        url_wikipedia  \\\n",
      "0              https://fr.wikipedia.org/wiki/fr:Paris   \n",
      "1          https://fr.wikipedia.org/wiki/fr:Marseille   \n",
      "2               https://fr.wikipedia.org/wiki/fr:Lyon   \n",
      "3           https://fr.wikipedia.org/wiki/fr:Toulouse   \n",
      "4               https://fr.wikipedia.org/wiki/fr:Nice   \n",
      "5             https://fr.wikipedia.org/wiki/fr:Nantes   \n",
      "6        https://fr.wikipedia.org/wiki/fr:Montpellier   \n",
      "7         https://fr.wikipedia.org/wiki/fr:Strasbourg   \n",
      "8           https://fr.wikipedia.org/wiki/fr:Bordeaux   \n",
      "9              https://fr.wikipedia.org/wiki/fr:Lille   \n",
      "10            https://fr.wikipedia.org/wiki/fr:Rennes   \n",
      "11            https://fr.wikipedia.org/wiki/fr:Toulon   \n",
      "12             https://fr.wikipedia.org/wiki/fr:Reims   \n",
      "13     https://fr.wikipedia.org/wiki/fr:Saint-Étienne   \n",
      "14          https://fr.wikipedia.org/wiki/fr:Le Havre   \n",
      "15             https://fr.wikipedia.org/wiki/fr:Dijon   \n",
      "16          https://fr.wikipedia.org/wiki/fr:Grenoble   \n",
      "17            https://fr.wikipedia.org/wiki/fr:Angers   \n",
      "18      https://fr.wikipedia.org/wiki/fr:Villeurbanne   \n",
      "19  https://fr.wikipedia.org/wiki/fr:Saint-Denis (...   \n",
      "20             https://fr.wikipedia.org/wiki/fr:Nîmes   \n",
      "21   https://fr.wikipedia.org/wiki/fr:Aix-en-Provence   \n",
      "22  https://fr.wikipedia.org/wiki/fr:Clermont-Ferrand   \n",
      "23           https://fr.wikipedia.org/wiki/fr:Le Mans   \n",
      "24             https://fr.wikipedia.org/wiki/fr:Brest   \n",
      "25             https://fr.wikipedia.org/wiki/fr:Tours   \n",
      "26            https://fr.wikipedia.org/wiki/fr:Amiens   \n",
      "27            https://fr.wikipedia.org/wiki/fr:Annecy   \n",
      "28           https://fr.wikipedia.org/wiki/fr:Limoges   \n",
      "29              https://fr.wikipedia.org/wiki/fr:Metz   \n",
      "30  https://fr.wikipedia.org/wiki/fr:Boulogne-Bill...   \n",
      "31         https://fr.wikipedia.org/wiki/fr:Perpignan   \n",
      "32          https://fr.wikipedia.org/wiki/fr:Besançon   \n",
      "33           https://fr.wikipedia.org/wiki/fr:Orléans   \n",
      "34             https://fr.wikipedia.org/wiki/fr:Rouen   \n",
      "35  https://fr.wikipedia.org/wiki/fr:Saint-Denis (...   \n",
      "36  https://fr.wikipedia.org/wiki/fr:Montreuil (Se...   \n",
      "37              https://fr.wikipedia.org/wiki/fr:Caen   \n",
      "38  https://fr.wikipedia.org/wiki/fr:Argenteuil (V...   \n",
      "39          https://fr.wikipedia.org/wiki/fr:Mulhouse   \n",
      "40  https://fr.wikipedia.org/wiki/fr:Saint-Paul (L...   \n",
      "41             https://fr.wikipedia.org/wiki/fr:Nancy   \n",
      "\n",
      "                                      url_villedereve  \n",
      "0            https://villedereve.fr/ville/75056-paris  \n",
      "1        https://villedereve.fr/ville/13055-marseille  \n",
      "2             https://villedereve.fr/ville/69123-lyon  \n",
      "3         https://villedereve.fr/ville/31555-toulouse  \n",
      "4             https://villedereve.fr/ville/06088-nice  \n",
      "5           https://villedereve.fr/ville/44109-nantes  \n",
      "6      https://villedereve.fr/ville/34172-montpellier  \n",
      "7       https://villedereve.fr/ville/67482-strasbourg  \n",
      "8         https://villedereve.fr/ville/33063-bordeaux  \n",
      "9            https://villedereve.fr/ville/59350-lille  \n",
      "10          https://villedereve.fr/ville/35238-rennes  \n",
      "11          https://villedereve.fr/ville/83137-toulon  \n",
      "12           https://villedereve.fr/ville/51454-reims  \n",
      "13   https://villedereve.fr/ville/42218-saint-etienne  \n",
      "14        https://villedereve.fr/ville/76351-le-havre  \n",
      "15           https://villedereve.fr/ville/21231-dijon  \n",
      "16        https://villedereve.fr/ville/38185-grenoble  \n",
      "17          https://villedereve.fr/ville/49007-angers  \n",
      "18    https://villedereve.fr/ville/69266-villeurbanne  \n",
      "19     https://villedereve.fr/ville/97411-saint-denis  \n",
      "20           https://villedereve.fr/ville/30189-nimes  \n",
      "21  https://villedereve.fr/ville/13001-aix-en-prov...  \n",
      "22  https://villedereve.fr/ville/63113-clermont-fe...  \n",
      "23         https://villedereve.fr/ville/72181-le-mans  \n",
      "24           https://villedereve.fr/ville/29019-brest  \n",
      "25           https://villedereve.fr/ville/37261-tours  \n",
      "26          https://villedereve.fr/ville/80021-amiens  \n",
      "27          https://villedereve.fr/ville/74010-annecy  \n",
      "28         https://villedereve.fr/ville/87085-limoges  \n",
      "29            https://villedereve.fr/ville/57463-metz  \n",
      "30  https://villedereve.fr/ville/92012-boulogne-bi...  \n",
      "31       https://villedereve.fr/ville/66136-perpignan  \n",
      "32        https://villedereve.fr/ville/25056-besancon  \n",
      "33         https://villedereve.fr/ville/45234-orleans  \n",
      "34           https://villedereve.fr/ville/76540-rouen  \n",
      "35     https://villedereve.fr/ville/93066-saint-denis  \n",
      "36       https://villedereve.fr/ville/93048-montreuil  \n",
      "37            https://villedereve.fr/ville/14118-caen  \n",
      "38      https://villedereve.fr/ville/95018-argenteuil  \n",
      "39        https://villedereve.fr/ville/68224-mulhouse  \n",
      "40      https://villedereve.fr/ville/97415-saint-paul  \n",
      "41           https://villedereve.fr/ville/54395-nancy  \n",
      "\n",
      "[42 rows x 46 columns]\n"
     ]
    },
    {
     "data": {
      "text/html": [
       "<div>\n",
       "<style scoped>\n",
       "    .dataframe tbody tr th:only-of-type {\n",
       "        vertical-align: middle;\n",
       "    }\n",
       "\n",
       "    .dataframe tbody tr th {\n",
       "        vertical-align: top;\n",
       "    }\n",
       "\n",
       "    .dataframe thead th {\n",
       "        text-align: right;\n",
       "    }\n",
       "</style>\n",
       "<table border=\"1\" class=\"dataframe\">\n",
       "  <thead>\n",
       "    <tr style=\"text-align: right;\">\n",
       "      <th></th>\n",
       "      <th>code_insee</th>\n",
       "      <th>nom_standard</th>\n",
       "      <th>nom_sans_pronom</th>\n",
       "      <th>nom_a</th>\n",
       "      <th>nom_de</th>\n",
       "      <th>nom_sans_accent</th>\n",
       "      <th>nom_standard_majuscule</th>\n",
       "      <th>typecom</th>\n",
       "      <th>typecom_texte</th>\n",
       "      <th>reg_code</th>\n",
       "      <th>...</th>\n",
       "      <th>longitude_mairie</th>\n",
       "      <th>latitude_centre</th>\n",
       "      <th>longitude_centre</th>\n",
       "      <th>grille_densite</th>\n",
       "      <th>grille_densite_texte</th>\n",
       "      <th>niveau_equipements_services</th>\n",
       "      <th>niveau_equipements_services_texte</th>\n",
       "      <th>gentile</th>\n",
       "      <th>url_wikipedia</th>\n",
       "      <th>url_villedereve</th>\n",
       "    </tr>\n",
       "  </thead>\n",
       "  <tbody>\n",
       "    <tr>\n",
       "      <th>0</th>\n",
       "      <td>75056</td>\n",
       "      <td>Paris</td>\n",
       "      <td>Paris</td>\n",
       "      <td>à Paris</td>\n",
       "      <td>de Paris</td>\n",
       "      <td>paris</td>\n",
       "      <td>PARIS</td>\n",
       "      <td>COM</td>\n",
       "      <td>commune</td>\n",
       "      <td>11</td>\n",
       "      <td>...</td>\n",
       "      <td>2.352</td>\n",
       "      <td>NaN</td>\n",
       "      <td>NaN</td>\n",
       "      <td>1</td>\n",
       "      <td>Grands centres urbains</td>\n",
       "      <td>4.0</td>\n",
       "      <td>centres majeurs d'équipements et de services</td>\n",
       "      <td>Parisien</td>\n",
       "      <td>https://fr.wikipedia.org/wiki/fr:Paris</td>\n",
       "      <td>https://villedereve.fr/ville/75056-paris</td>\n",
       "    </tr>\n",
       "    <tr>\n",
       "      <th>1</th>\n",
       "      <td>13055</td>\n",
       "      <td>Marseille</td>\n",
       "      <td>Marseille</td>\n",
       "      <td>à Marseille</td>\n",
       "      <td>de Marseille</td>\n",
       "      <td>marseille</td>\n",
       "      <td>MARSEILLE</td>\n",
       "      <td>COM</td>\n",
       "      <td>commune</td>\n",
       "      <td>93</td>\n",
       "      <td>...</td>\n",
       "      <td>5.370</td>\n",
       "      <td>NaN</td>\n",
       "      <td>NaN</td>\n",
       "      <td>1</td>\n",
       "      <td>Grands centres urbains</td>\n",
       "      <td>4.0</td>\n",
       "      <td>centres majeurs d'équipements et de services</td>\n",
       "      <td>Marseillais</td>\n",
       "      <td>https://fr.wikipedia.org/wiki/fr:Marseille</td>\n",
       "      <td>https://villedereve.fr/ville/13055-marseille</td>\n",
       "    </tr>\n",
       "  </tbody>\n",
       "</table>\n",
       "<p>2 rows × 46 columns</p>\n",
       "</div>"
      ],
      "text/plain": [
       "   code_insee nom_standard nom_sans_pronom        nom_a        nom_de  \\\n",
       "0       75056        Paris           Paris      à Paris      de Paris   \n",
       "1       13055    Marseille       Marseille  à Marseille  de Marseille   \n",
       "\n",
       "  nom_sans_accent nom_standard_majuscule typecom typecom_texte  reg_code  ...  \\\n",
       "0           paris                  PARIS     COM       commune        11  ...   \n",
       "1       marseille              MARSEILLE     COM       commune        93  ...   \n",
       "\n",
       "  longitude_mairie  latitude_centre longitude_centre  grille_densite  \\\n",
       "0            2.352              NaN              NaN               1   \n",
       "1            5.370              NaN              NaN               1   \n",
       "\n",
       "     grille_densite_texte  niveau_equipements_services  \\\n",
       "0  Grands centres urbains                          4.0   \n",
       "1  Grands centres urbains                          4.0   \n",
       "\n",
       "              niveau_equipements_services_texte      gentile  \\\n",
       "0  centres majeurs d'équipements et de services     Parisien   \n",
       "1  centres majeurs d'équipements et de services  Marseillais   \n",
       "\n",
       "                                url_wikipedia  \\\n",
       "0      https://fr.wikipedia.org/wiki/fr:Paris   \n",
       "1  https://fr.wikipedia.org/wiki/fr:Marseille   \n",
       "\n",
       "                                url_villedereve  \n",
       "0      https://villedereve.fr/ville/75056-paris  \n",
       "1  https://villedereve.fr/ville/13055-marseille  \n",
       "\n",
       "[2 rows x 46 columns]"
      ]
     },
     "execution_count": 88,
     "metadata": {},
     "output_type": "execute_result"
    }
   ],
   "source": [
    "df = read_csv('data/cities100k.csv', sep=';', encoding='cp1252')\n",
    "df.head(2)"
   ]
  },
  {
   "cell_type": "code",
   "execution_count": 89,
   "id": "20aebf64-ef1f-45f6-8f63-b1e4ff431da9",
   "metadata": {
    "collapsed": true,
    "jupyter": {
     "outputs_hidden": true
    },
    "scrolled": true
   },
   "outputs": [
    {
     "data": {
      "text/plain": [
       "\u001b[31mSignature:\u001b[39m\n",
       "read_csv(\n",
       "    filepath_or_buffer: \u001b[33m'FilePath | ReadCsvBuffer[bytes] | ReadCsvBuffer[str]'\u001b[39m,\n",
       "    *,\n",
       "    sep: \u001b[33m'str | None | lib.NoDefault'\u001b[39m = <no_default>,\n",
       "    delimiter: \u001b[33m'str | None | lib.NoDefault'\u001b[39m = \u001b[38;5;28;01mNone\u001b[39;00m,\n",
       "    header: \u001b[33m\"int | Sequence[int] | None | Literal['infer']\"\u001b[39m = \u001b[33m'infer'\u001b[39m,\n",
       "    names: \u001b[33m'Sequence[Hashable] | None | lib.NoDefault'\u001b[39m = <no_default>,\n",
       "    index_col: \u001b[33m'IndexLabel | Literal[False] | None'\u001b[39m = \u001b[38;5;28;01mNone\u001b[39;00m,\n",
       "    usecols: \u001b[33m'UsecolsArgType'\u001b[39m = \u001b[38;5;28;01mNone\u001b[39;00m,\n",
       "    dtype: \u001b[33m'DtypeArg | None'\u001b[39m = \u001b[38;5;28;01mNone\u001b[39;00m,\n",
       "    engine: \u001b[33m'CSVEngine | None'\u001b[39m = \u001b[38;5;28;01mNone\u001b[39;00m,\n",
       "    converters: \u001b[33m'Mapping[Hashable, Callable] | None'\u001b[39m = \u001b[38;5;28;01mNone\u001b[39;00m,\n",
       "    true_values: \u001b[33m'list | None'\u001b[39m = \u001b[38;5;28;01mNone\u001b[39;00m,\n",
       "    false_values: \u001b[33m'list | None'\u001b[39m = \u001b[38;5;28;01mNone\u001b[39;00m,\n",
       "    skipinitialspace: \u001b[33m'bool'\u001b[39m = \u001b[38;5;28;01mFalse\u001b[39;00m,\n",
       "    skiprows: \u001b[33m'list[int] | int | Callable[[Hashable], bool] | None'\u001b[39m = \u001b[38;5;28;01mNone\u001b[39;00m,\n",
       "    skipfooter: \u001b[33m'int'\u001b[39m = \u001b[32m0\u001b[39m,\n",
       "    nrows: \u001b[33m'int | None'\u001b[39m = \u001b[38;5;28;01mNone\u001b[39;00m,\n",
       "    na_values: \u001b[33m'Hashable | Iterable[Hashable] | Mapping[Hashable, Iterable[Hashable]] | None'\u001b[39m = \u001b[38;5;28;01mNone\u001b[39;00m,\n",
       "    keep_default_na: \u001b[33m'bool'\u001b[39m = \u001b[38;5;28;01mTrue\u001b[39;00m,\n",
       "    na_filter: \u001b[33m'bool'\u001b[39m = \u001b[38;5;28;01mTrue\u001b[39;00m,\n",
       "    verbose: \u001b[33m'bool | lib.NoDefault'\u001b[39m = <no_default>,\n",
       "    skip_blank_lines: \u001b[33m'bool'\u001b[39m = \u001b[38;5;28;01mTrue\u001b[39;00m,\n",
       "    parse_dates: \u001b[33m'bool | Sequence[Hashable] | None'\u001b[39m = \u001b[38;5;28;01mNone\u001b[39;00m,\n",
       "    infer_datetime_format: \u001b[33m'bool | lib.NoDefault'\u001b[39m = <no_default>,\n",
       "    keep_date_col: \u001b[33m'bool | lib.NoDefault'\u001b[39m = <no_default>,\n",
       "    date_parser: \u001b[33m'Callable | lib.NoDefault'\u001b[39m = <no_default>,\n",
       "    date_format: \u001b[33m'str | dict[Hashable, str] | None'\u001b[39m = \u001b[38;5;28;01mNone\u001b[39;00m,\n",
       "    dayfirst: \u001b[33m'bool'\u001b[39m = \u001b[38;5;28;01mFalse\u001b[39;00m,\n",
       "    cache_dates: \u001b[33m'bool'\u001b[39m = \u001b[38;5;28;01mTrue\u001b[39;00m,\n",
       "    iterator: \u001b[33m'bool'\u001b[39m = \u001b[38;5;28;01mFalse\u001b[39;00m,\n",
       "    chunksize: \u001b[33m'int | None'\u001b[39m = \u001b[38;5;28;01mNone\u001b[39;00m,\n",
       "    compression: \u001b[33m'CompressionOptions'\u001b[39m = \u001b[33m'infer'\u001b[39m,\n",
       "    thousands: \u001b[33m'str | None'\u001b[39m = \u001b[38;5;28;01mNone\u001b[39;00m,\n",
       "    decimal: \u001b[33m'str'\u001b[39m = \u001b[33m'.'\u001b[39m,\n",
       "    lineterminator: \u001b[33m'str | None'\u001b[39m = \u001b[38;5;28;01mNone\u001b[39;00m,\n",
       "    quotechar: \u001b[33m'str'\u001b[39m = \u001b[33m'\"'\u001b[39m,\n",
       "    quoting: \u001b[33m'int'\u001b[39m = \u001b[32m0\u001b[39m,\n",
       "    doublequote: \u001b[33m'bool'\u001b[39m = \u001b[38;5;28;01mTrue\u001b[39;00m,\n",
       "    escapechar: \u001b[33m'str | None'\u001b[39m = \u001b[38;5;28;01mNone\u001b[39;00m,\n",
       "    comment: \u001b[33m'str | None'\u001b[39m = \u001b[38;5;28;01mNone\u001b[39;00m,\n",
       "    encoding: \u001b[33m'str | None'\u001b[39m = \u001b[38;5;28;01mNone\u001b[39;00m,\n",
       "    encoding_errors: \u001b[33m'str | None'\u001b[39m = \u001b[33m'strict'\u001b[39m,\n",
       "    dialect: \u001b[33m'str | csv.Dialect | None'\u001b[39m = \u001b[38;5;28;01mNone\u001b[39;00m,\n",
       "    on_bad_lines: \u001b[33m'str'\u001b[39m = \u001b[33m'error'\u001b[39m,\n",
       "    delim_whitespace: \u001b[33m'bool | lib.NoDefault'\u001b[39m = <no_default>,\n",
       "    low_memory: \u001b[33m'bool'\u001b[39m = \u001b[38;5;28;01mTrue\u001b[39;00m,\n",
       "    memory_map: \u001b[33m'bool'\u001b[39m = \u001b[38;5;28;01mFalse\u001b[39;00m,\n",
       "    float_precision: \u001b[33m\"Literal['high', 'legacy'] | None\"\u001b[39m = \u001b[38;5;28;01mNone\u001b[39;00m,\n",
       "    storage_options: \u001b[33m'StorageOptions | None'\u001b[39m = \u001b[38;5;28;01mNone\u001b[39;00m,\n",
       "    dtype_backend: \u001b[33m'DtypeBackend | lib.NoDefault'\u001b[39m = <no_default>,\n",
       ") -> \u001b[33m'DataFrame | TextFileReader'\u001b[39m\n",
       "\u001b[31mDocstring:\u001b[39m\n",
       "Read a comma-separated values (csv) file into DataFrame.\n",
       "\n",
       "Also supports optionally iterating or breaking of the file\n",
       "into chunks.\n",
       "\n",
       "Additional help can be found in the online docs for\n",
       "`IO Tools <https://pandas.pydata.org/pandas-docs/stable/user_guide/io.html>`_.\n",
       "\n",
       "Parameters\n",
       "----------\n",
       "filepath_or_buffer : str, path object or file-like object\n",
       "    Any valid string path is acceptable. The string could be a URL. Valid\n",
       "    URL schemes include http, ftp, s3, gs, and file. For file URLs, a host is\n",
       "    expected. A local file could be: file://localhost/path/to/table.csv.\n",
       "\n",
       "    If you want to pass in a path object, pandas accepts any ``os.PathLike``.\n",
       "\n",
       "    By file-like object, we refer to objects with a ``read()`` method, such as\n",
       "    a file handle (e.g. via builtin ``open`` function) or ``StringIO``.\n",
       "sep : str, default ','\n",
       "    Character or regex pattern to treat as the delimiter. If ``sep=None``, the\n",
       "    C engine cannot automatically detect\n",
       "    the separator, but the Python parsing engine can, meaning the latter will\n",
       "    be used and automatically detect the separator from only the first valid\n",
       "    row of the file by Python's builtin sniffer tool, ``csv.Sniffer``.\n",
       "    In addition, separators longer than 1 character and different from\n",
       "    ``'\\s+'`` will be interpreted as regular expressions and will also force\n",
       "    the use of the Python parsing engine. Note that regex delimiters are prone\n",
       "    to ignoring quoted data. Regex example: ``'\\r\\t'``.\n",
       "delimiter : str, optional\n",
       "    Alias for ``sep``.\n",
       "header : int, Sequence of int, 'infer' or None, default 'infer'\n",
       "    Row number(s) containing column labels and marking the start of the\n",
       "    data (zero-indexed). Default behavior is to infer the column names: if no ``names``\n",
       "    are passed the behavior is identical to ``header=0`` and column\n",
       "    names are inferred from the first line of the file, if column\n",
       "    names are passed explicitly to ``names`` then the behavior is identical to\n",
       "    ``header=None``. Explicitly pass ``header=0`` to be able to\n",
       "    replace existing names. The header can be a list of integers that\n",
       "    specify row locations for a :class:`~pandas.MultiIndex` on the columns\n",
       "    e.g. ``[0, 1, 3]``. Intervening rows that are not specified will be\n",
       "    skipped (e.g. 2 in this example is skipped). Note that this\n",
       "    parameter ignores commented lines and empty lines if\n",
       "    ``skip_blank_lines=True``, so ``header=0`` denotes the first line of\n",
       "    data rather than the first line of the file.\n",
       "names : Sequence of Hashable, optional\n",
       "    Sequence of column labels to apply. If the file contains a header row,\n",
       "    then you should explicitly pass ``header=0`` to override the column names.\n",
       "    Duplicates in this list are not allowed.\n",
       "index_col : Hashable, Sequence of Hashable or False, optional\n",
       "  Column(s) to use as row label(s), denoted either by column labels or column\n",
       "  indices.  If a sequence of labels or indices is given, :class:`~pandas.MultiIndex`\n",
       "  will be formed for the row labels.\n",
       "\n",
       "  Note: ``index_col=False`` can be used to force pandas to *not* use the first\n",
       "  column as the index, e.g., when you have a malformed file with delimiters at\n",
       "  the end of each line.\n",
       "usecols : Sequence of Hashable or Callable, optional\n",
       "    Subset of columns to select, denoted either by column labels or column indices.\n",
       "    If list-like, all elements must either\n",
       "    be positional (i.e. integer indices into the document columns) or strings\n",
       "    that correspond to column names provided either by the user in ``names`` or\n",
       "    inferred from the document header row(s). If ``names`` are given, the document\n",
       "    header row(s) are not taken into account. For example, a valid list-like\n",
       "    ``usecols`` parameter would be ``[0, 1, 2]`` or ``['foo', 'bar', 'baz']``.\n",
       "    Element order is ignored, so ``usecols=[0, 1]`` is the same as ``[1, 0]``.\n",
       "    To instantiate a :class:`~pandas.DataFrame` from ``data`` with element order\n",
       "    preserved use ``pd.read_csv(data, usecols=['foo', 'bar'])[['foo', 'bar']]``\n",
       "    for columns in ``['foo', 'bar']`` order or\n",
       "    ``pd.read_csv(data, usecols=['foo', 'bar'])[['bar', 'foo']]``\n",
       "    for ``['bar', 'foo']`` order.\n",
       "\n",
       "    If callable, the callable function will be evaluated against the column\n",
       "    names, returning names where the callable function evaluates to ``True``. An\n",
       "    example of a valid callable argument would be ``lambda x: x.upper() in\n",
       "    ['AAA', 'BBB', 'DDD']``. Using this parameter results in much faster\n",
       "    parsing time and lower memory usage.\n",
       "dtype : dtype or dict of {Hashable : dtype}, optional\n",
       "    Data type(s) to apply to either the whole dataset or individual columns.\n",
       "    E.g., ``{'a': np.float64, 'b': np.int32, 'c': 'Int64'}``\n",
       "    Use ``str`` or ``object`` together with suitable ``na_values`` settings\n",
       "    to preserve and not interpret ``dtype``.\n",
       "    If ``converters`` are specified, they will be applied INSTEAD\n",
       "    of ``dtype`` conversion.\n",
       "\n",
       "    .. versionadded:: 1.5.0\n",
       "\n",
       "        Support for ``defaultdict`` was added. Specify a ``defaultdict`` as input where\n",
       "        the default determines the ``dtype`` of the columns which are not explicitly\n",
       "        listed.\n",
       "engine : {'c', 'python', 'pyarrow'}, optional\n",
       "    Parser engine to use. The C and pyarrow engines are faster, while the python engine\n",
       "    is currently more feature-complete. Multithreading is currently only supported by\n",
       "    the pyarrow engine.\n",
       "\n",
       "    .. versionadded:: 1.4.0\n",
       "\n",
       "        The 'pyarrow' engine was added as an *experimental* engine, and some features\n",
       "        are unsupported, or may not work correctly, with this engine.\n",
       "converters : dict of {Hashable : Callable}, optional\n",
       "    Functions for converting values in specified columns. Keys can either\n",
       "    be column labels or column indices.\n",
       "true_values : list, optional\n",
       "    Values to consider as ``True`` in addition to case-insensitive variants of 'True'.\n",
       "false_values : list, optional\n",
       "    Values to consider as ``False`` in addition to case-insensitive variants of 'False'.\n",
       "skipinitialspace : bool, default False\n",
       "    Skip spaces after delimiter.\n",
       "skiprows : int, list of int or Callable, optional\n",
       "    Line numbers to skip (0-indexed) or number of lines to skip (``int``)\n",
       "    at the start of the file.\n",
       "\n",
       "    If callable, the callable function will be evaluated against the row\n",
       "    indices, returning ``True`` if the row should be skipped and ``False`` otherwise.\n",
       "    An example of a valid callable argument would be ``lambda x: x in [0, 2]``.\n",
       "skipfooter : int, default 0\n",
       "    Number of lines at bottom of file to skip (Unsupported with ``engine='c'``).\n",
       "nrows : int, optional\n",
       "    Number of rows of file to read. Useful for reading pieces of large files.\n",
       "na_values : Hashable, Iterable of Hashable or dict of {Hashable : Iterable}, optional\n",
       "    Additional strings to recognize as ``NA``/``NaN``. If ``dict`` passed, specific\n",
       "    per-column ``NA`` values.  By default the following values are interpreted as\n",
       "    ``NaN``: \" \", \"#N/A\", \"#N/A N/A\", \"#NA\", \"-1.#IND\", \"-1.#QNAN\", \"-NaN\", \"-nan\",\n",
       "    \"1.#IND\", \"1.#QNAN\", \"<NA>\", \"N/A\", \"NA\", \"NULL\", \"NaN\", \"None\",\n",
       "    \"n/a\", \"nan\", \"null \".\n",
       "\n",
       "keep_default_na : bool, default True\n",
       "    Whether or not to include the default ``NaN`` values when parsing the data.\n",
       "    Depending on whether ``na_values`` is passed in, the behavior is as follows:\n",
       "\n",
       "    * If ``keep_default_na`` is ``True``, and ``na_values`` are specified, ``na_values``\n",
       "      is appended to the default ``NaN`` values used for parsing.\n",
       "    * If ``keep_default_na`` is ``True``, and ``na_values`` are not specified, only\n",
       "      the default ``NaN`` values are used for parsing.\n",
       "    * If ``keep_default_na`` is ``False``, and ``na_values`` are specified, only\n",
       "      the ``NaN`` values specified ``na_values`` are used for parsing.\n",
       "    * If ``keep_default_na`` is ``False``, and ``na_values`` are not specified, no\n",
       "      strings will be parsed as ``NaN``.\n",
       "\n",
       "    Note that if ``na_filter`` is passed in as ``False``, the ``keep_default_na`` and\n",
       "    ``na_values`` parameters will be ignored.\n",
       "na_filter : bool, default True\n",
       "    Detect missing value markers (empty strings and the value of ``na_values``). In\n",
       "    data without any ``NA`` values, passing ``na_filter=False`` can improve the\n",
       "    performance of reading a large file.\n",
       "verbose : bool, default False\n",
       "    Indicate number of ``NA`` values placed in non-numeric columns.\n",
       "\n",
       "    .. deprecated:: 2.2.0\n",
       "skip_blank_lines : bool, default True\n",
       "    If ``True``, skip over blank lines rather than interpreting as ``NaN`` values.\n",
       "parse_dates : bool, list of Hashable, list of lists or dict of {Hashable : list}, default False\n",
       "    The behavior is as follows:\n",
       "\n",
       "    * ``bool``. If ``True`` -> try parsing the index. Note: Automatically set to\n",
       "      ``True`` if ``date_format`` or ``date_parser`` arguments have been passed.\n",
       "    * ``list`` of ``int`` or names. e.g. If ``[1, 2, 3]`` -> try parsing columns 1, 2, 3\n",
       "      each as a separate date column.\n",
       "    * ``list`` of ``list``. e.g.  If ``[[1, 3]]`` -> combine columns 1 and 3 and parse\n",
       "      as a single date column. Values are joined with a space before parsing.\n",
       "    * ``dict``, e.g. ``{'foo' : [1, 3]}`` -> parse columns 1, 3 as date and call\n",
       "      result 'foo'. Values are joined with a space before parsing.\n",
       "\n",
       "    If a column or index cannot be represented as an array of ``datetime``,\n",
       "    say because of an unparsable value or a mixture of timezones, the column\n",
       "    or index will be returned unaltered as an ``object`` data type. For\n",
       "    non-standard ``datetime`` parsing, use :func:`~pandas.to_datetime` after\n",
       "    :func:`~pandas.read_csv`.\n",
       "\n",
       "    Note: A fast-path exists for iso8601-formatted dates.\n",
       "infer_datetime_format : bool, default False\n",
       "    If ``True`` and ``parse_dates`` is enabled, pandas will attempt to infer the\n",
       "    format of the ``datetime`` strings in the columns, and if it can be inferred,\n",
       "    switch to a faster method of parsing them. In some cases this can increase\n",
       "    the parsing speed by 5-10x.\n",
       "\n",
       "    .. deprecated:: 2.0.0\n",
       "        A strict version of this argument is now the default, passing it has no effect.\n",
       "\n",
       "keep_date_col : bool, default False\n",
       "    If ``True`` and ``parse_dates`` specifies combining multiple columns then\n",
       "    keep the original columns.\n",
       "date_parser : Callable, optional\n",
       "    Function to use for converting a sequence of string columns to an array of\n",
       "    ``datetime`` instances. The default uses ``dateutil.parser.parser`` to do the\n",
       "    conversion. pandas will try to call ``date_parser`` in three different ways,\n",
       "    advancing to the next if an exception occurs: 1) Pass one or more arrays\n",
       "    (as defined by ``parse_dates``) as arguments; 2) concatenate (row-wise) the\n",
       "    string values from the columns defined by ``parse_dates`` into a single array\n",
       "    and pass that; and 3) call ``date_parser`` once for each row using one or\n",
       "    more strings (corresponding to the columns defined by ``parse_dates``) as\n",
       "    arguments.\n",
       "\n",
       "    .. deprecated:: 2.0.0\n",
       "       Use ``date_format`` instead, or read in as ``object`` and then apply\n",
       "       :func:`~pandas.to_datetime` as-needed.\n",
       "date_format : str or dict of column -> format, optional\n",
       "    Format to use for parsing dates when used in conjunction with ``parse_dates``.\n",
       "    The strftime to parse time, e.g. :const:`\"%d/%m/%Y\"`. See\n",
       "    `strftime documentation\n",
       "    <https://docs.python.org/3/library/datetime.html\n",
       "    #strftime-and-strptime-behavior>`_ for more information on choices, though\n",
       "    note that :const:`\"%f\"` will parse all the way up to nanoseconds.\n",
       "    You can also pass:\n",
       "\n",
       "    - \"ISO8601\", to parse any `ISO8601 <https://en.wikipedia.org/wiki/ISO_8601>`_\n",
       "        time string (not necessarily in exactly the same format);\n",
       "    - \"mixed\", to infer the format for each element individually. This is risky,\n",
       "        and you should probably use it along with `dayfirst`.\n",
       "\n",
       "    .. versionadded:: 2.0.0\n",
       "dayfirst : bool, default False\n",
       "    DD/MM format dates, international and European format.\n",
       "cache_dates : bool, default True\n",
       "    If ``True``, use a cache of unique, converted dates to apply the ``datetime``\n",
       "    conversion. May produce significant speed-up when parsing duplicate\n",
       "    date strings, especially ones with timezone offsets.\n",
       "\n",
       "iterator : bool, default False\n",
       "    Return ``TextFileReader`` object for iteration or getting chunks with\n",
       "    ``get_chunk()``.\n",
       "chunksize : int, optional\n",
       "    Number of lines to read from the file per chunk. Passing a value will cause the\n",
       "    function to return a ``TextFileReader`` object for iteration.\n",
       "    See the `IO Tools docs\n",
       "    <https://pandas.pydata.org/pandas-docs/stable/io.html#io-chunking>`_\n",
       "    for more information on ``iterator`` and ``chunksize``.\n",
       "\n",
       "compression : str or dict, default 'infer'\n",
       "    For on-the-fly decompression of on-disk data. If 'infer' and 'filepath_or_buffer' is\n",
       "    path-like, then detect compression from the following extensions: '.gz',\n",
       "    '.bz2', '.zip', '.xz', '.zst', '.tar', '.tar.gz', '.tar.xz' or '.tar.bz2'\n",
       "    (otherwise no compression).\n",
       "    If using 'zip' or 'tar', the ZIP file must contain only one data file to be read in.\n",
       "    Set to ``None`` for no decompression.\n",
       "    Can also be a dict with key ``'method'`` set\n",
       "    to one of {``'zip'``, ``'gzip'``, ``'bz2'``, ``'zstd'``, ``'xz'``, ``'tar'``} and\n",
       "    other key-value pairs are forwarded to\n",
       "    ``zipfile.ZipFile``, ``gzip.GzipFile``,\n",
       "    ``bz2.BZ2File``, ``zstandard.ZstdDecompressor``, ``lzma.LZMAFile`` or\n",
       "    ``tarfile.TarFile``, respectively.\n",
       "    As an example, the following could be passed for Zstandard decompression using a\n",
       "    custom compression dictionary:\n",
       "    ``compression={'method': 'zstd', 'dict_data': my_compression_dict}``.\n",
       "\n",
       "    .. versionadded:: 1.5.0\n",
       "        Added support for `.tar` files.\n",
       "\n",
       "    .. versionchanged:: 1.4.0 Zstandard support.\n",
       "\n",
       "thousands : str (length 1), optional\n",
       "    Character acting as the thousands separator in numerical values.\n",
       "decimal : str (length 1), default '.'\n",
       "    Character to recognize as decimal point (e.g., use ',' for European data).\n",
       "lineterminator : str (length 1), optional\n",
       "    Character used to denote a line break. Only valid with C parser.\n",
       "quotechar : str (length 1), optional\n",
       "    Character used to denote the start and end of a quoted item. Quoted\n",
       "    items can include the ``delimiter`` and it will be ignored.\n",
       "quoting : {0 or csv.QUOTE_MINIMAL, 1 or csv.QUOTE_ALL, 2 or csv.QUOTE_NONNUMERIC, 3 or csv.QUOTE_NONE}, default csv.QUOTE_MINIMAL\n",
       "    Control field quoting behavior per ``csv.QUOTE_*`` constants. Default is\n",
       "    ``csv.QUOTE_MINIMAL`` (i.e., 0) which implies that only fields containing special\n",
       "    characters are quoted (e.g., characters defined in ``quotechar``, ``delimiter``,\n",
       "    or ``lineterminator``.\n",
       "doublequote : bool, default True\n",
       "   When ``quotechar`` is specified and ``quoting`` is not ``QUOTE_NONE``, indicate\n",
       "   whether or not to interpret two consecutive ``quotechar`` elements INSIDE a\n",
       "   field as a single ``quotechar`` element.\n",
       "escapechar : str (length 1), optional\n",
       "    Character used to escape other characters.\n",
       "comment : str (length 1), optional\n",
       "    Character indicating that the remainder of line should not be parsed.\n",
       "    If found at the beginning\n",
       "    of a line, the line will be ignored altogether. This parameter must be a\n",
       "    single character. Like empty lines (as long as ``skip_blank_lines=True``),\n",
       "    fully commented lines are ignored by the parameter ``header`` but not by\n",
       "    ``skiprows``. For example, if ``comment='#'``, parsing\n",
       "    ``#empty\\na,b,c\\n1,2,3`` with ``header=0`` will result in ``'a,b,c'`` being\n",
       "    treated as the header.\n",
       "encoding : str, optional, default 'utf-8'\n",
       "    Encoding to use for UTF when reading/writing (ex. ``'utf-8'``). `List of Python\n",
       "    standard encodings\n",
       "    <https://docs.python.org/3/library/codecs.html#standard-encodings>`_ .\n",
       "\n",
       "encoding_errors : str, optional, default 'strict'\n",
       "    How encoding errors are treated. `List of possible values\n",
       "    <https://docs.python.org/3/library/codecs.html#error-handlers>`_ .\n",
       "\n",
       "    .. versionadded:: 1.3.0\n",
       "\n",
       "dialect : str or csv.Dialect, optional\n",
       "    If provided, this parameter will override values (default or not) for the\n",
       "    following parameters: ``delimiter``, ``doublequote``, ``escapechar``,\n",
       "    ``skipinitialspace``, ``quotechar``, and ``quoting``. If it is necessary to\n",
       "    override values, a ``ParserWarning`` will be issued. See ``csv.Dialect``\n",
       "    documentation for more details.\n",
       "on_bad_lines : {'error', 'warn', 'skip'} or Callable, default 'error'\n",
       "    Specifies what to do upon encountering a bad line (a line with too many fields).\n",
       "    Allowed values are :\n",
       "\n",
       "    - ``'error'``, raise an Exception when a bad line is encountered.\n",
       "    - ``'warn'``, raise a warning when a bad line is encountered and skip that line.\n",
       "    - ``'skip'``, skip bad lines without raising or warning when they are encountered.\n",
       "\n",
       "    .. versionadded:: 1.3.0\n",
       "\n",
       "    .. versionadded:: 1.4.0\n",
       "\n",
       "        - Callable, function with signature\n",
       "          ``(bad_line: list[str]) -> list[str] | None`` that will process a single\n",
       "          bad line. ``bad_line`` is a list of strings split by the ``sep``.\n",
       "          If the function returns ``None``, the bad line will be ignored.\n",
       "          If the function returns a new ``list`` of strings with more elements than\n",
       "          expected, a ``ParserWarning`` will be emitted while dropping extra elements.\n",
       "          Only supported when ``engine='python'``\n",
       "\n",
       "    .. versionchanged:: 2.2.0\n",
       "\n",
       "        - Callable, function with signature\n",
       "          as described in `pyarrow documentation\n",
       "          <https://arrow.apache.org/docs/python/generated/pyarrow.csv.ParseOptions.html\n",
       "          #pyarrow.csv.ParseOptions.invalid_row_handler>`_ when ``engine='pyarrow'``\n",
       "\n",
       "delim_whitespace : bool, default False\n",
       "    Specifies whether or not whitespace (e.g. ``' '`` or ``'\\t'``) will be\n",
       "    used as the ``sep`` delimiter. Equivalent to setting ``sep='\\s+'``. If this option\n",
       "    is set to ``True``, nothing should be passed in for the ``delimiter``\n",
       "    parameter.\n",
       "\n",
       "    .. deprecated:: 2.2.0\n",
       "        Use ``sep=\"\\s+\"`` instead.\n",
       "low_memory : bool, default True\n",
       "    Internally process the file in chunks, resulting in lower memory use\n",
       "    while parsing, but possibly mixed type inference.  To ensure no mixed\n",
       "    types either set ``False``, or specify the type with the ``dtype`` parameter.\n",
       "    Note that the entire file is read into a single :class:`~pandas.DataFrame`\n",
       "    regardless, use the ``chunksize`` or ``iterator`` parameter to return the data in\n",
       "    chunks. (Only valid with C parser).\n",
       "memory_map : bool, default False\n",
       "    If a filepath is provided for ``filepath_or_buffer``, map the file object\n",
       "    directly onto memory and access the data directly from there. Using this\n",
       "    option can improve performance because there is no longer any I/O overhead.\n",
       "float_precision : {'high', 'legacy', 'round_trip'}, optional\n",
       "    Specifies which converter the C engine should use for floating-point\n",
       "    values. The options are ``None`` or ``'high'`` for the ordinary converter,\n",
       "    ``'legacy'`` for the original lower precision pandas converter, and\n",
       "    ``'round_trip'`` for the round-trip converter.\n",
       "\n",
       "storage_options : dict, optional\n",
       "    Extra options that make sense for a particular storage connection, e.g.\n",
       "    host, port, username, password, etc. For HTTP(S) URLs the key-value pairs\n",
       "    are forwarded to ``urllib.request.Request`` as header options. For other\n",
       "    URLs (e.g. starting with \"s3://\", and \"gcs://\") the key-value pairs are\n",
       "    forwarded to ``fsspec.open``. Please see ``fsspec`` and ``urllib`` for more\n",
       "    details, and for more examples on storage options refer `here\n",
       "    <https://pandas.pydata.org/docs/user_guide/io.html?\n",
       "    highlight=storage_options#reading-writing-remote-files>`_.\n",
       "\n",
       "dtype_backend : {'numpy_nullable', 'pyarrow'}, default 'numpy_nullable'\n",
       "    Back-end data type applied to the resultant :class:`DataFrame`\n",
       "    (still experimental). Behaviour is as follows:\n",
       "\n",
       "    * ``\"numpy_nullable\"``: returns nullable-dtype-backed :class:`DataFrame`\n",
       "      (default).\n",
       "    * ``\"pyarrow\"``: returns pyarrow-backed nullable :class:`ArrowDtype`\n",
       "      DataFrame.\n",
       "\n",
       "    .. versionadded:: 2.0\n",
       "\n",
       "Returns\n",
       "-------\n",
       "DataFrame or TextFileReader\n",
       "    A comma-separated values (csv) file is returned as two-dimensional\n",
       "    data structure with labeled axes.\n",
       "\n",
       "See Also\n",
       "--------\n",
       "DataFrame.to_csv : Write DataFrame to a comma-separated values (csv) file.\n",
       "read_table : Read general delimited file into DataFrame.\n",
       "read_fwf : Read a table of fixed-width formatted lines into DataFrame.\n",
       "\n",
       "Examples\n",
       "--------\n",
       ">>> pd.read_csv('data.csv')  # doctest: +SKIP\n",
       "\u001b[31mFile:\u001b[39m      c:\\users\\matth\\miniforge3\\envs\\envformation313\\lib\\site-packages\\pandas\\io\\parsers\\readers.py\n",
       "\u001b[31mType:\u001b[39m      function"
      ]
     },
     "metadata": {},
     "output_type": "display_data"
    }
   ],
   "source": [
    "read_csv?"
   ]
  },
  {
   "cell_type": "code",
   "execution_count": 90,
   "id": "893c4ea7-e5ce-4952-a53f-6848314e3c12",
   "metadata": {},
   "outputs": [
    {
     "data": {
      "text/plain": [
       "'read_csv'"
      ]
     },
     "execution_count": 90,
     "metadata": {},
     "output_type": "execute_result"
    }
   ],
   "source": [
    "read_csv.__name__"
   ]
  },
  {
   "cell_type": "markdown",
   "id": "ed9ec641-e831-4d8c-a538-c45ba62da5d1",
   "metadata": {},
   "source": [
    "## Plusieurs décorations"
   ]
  },
  {
   "cell_type": "code",
   "execution_count": 91,
   "id": "871b0bd4-9fe8-40a4-87f8-81555cad1747",
   "metadata": {},
   "outputs": [],
   "source": [
    "@logger\n",
    "@lru_cache\n",
    "def fibo_rec4(n):\n",
    "    assert n >= 0\n",
    "    n1 = 0\n",
    "    n2 = 1\n",
    "    match n:\n",
    "        case 1:\n",
    "            return n1\n",
    "        case 2:\n",
    "            return n2\n",
    "        case _:\n",
    "            return fibo_rec4(n-2) + fibo_rec4(n-1)"
   ]
  },
  {
   "cell_type": "code",
   "execution_count": 93,
   "id": "6060af02-3f02-4b8b-a9c2-7cffe3b28e7a",
   "metadata": {},
   "outputs": [
    {
     "name": "stdout",
     "output_type": "stream",
     "text": [
      "LOG [2025-03-20 15:41:33.699876]: positional args = (10,)\n",
      "LOG [2025-03-20 15:41:33.699876]: keyword args = {}\n",
      "LOG [2025-03-20 15:41:33.700028]: positional args = (8,)\n",
      "LOG [2025-03-20 15:41:33.700028]: keyword args = {}\n",
      "LOG [2025-03-20 15:41:33.700069]: positional args = (6,)\n",
      "LOG [2025-03-20 15:41:33.700069]: keyword args = {}\n",
      "LOG [2025-03-20 15:41:33.700107]: positional args = (4,)\n",
      "LOG [2025-03-20 15:41:33.700107]: keyword args = {}\n",
      "LOG [2025-03-20 15:41:33.700144]: results = 2\n",
      "LOG [2025-03-20 15:41:33.700164]: positional args = (5,)\n",
      "LOG [2025-03-20 15:41:33.700164]: keyword args = {}\n",
      "LOG [2025-03-20 15:41:33.700198]: results = 3\n",
      "LOG [2025-03-20 15:41:33.700218]: results = 5\n",
      "LOG [2025-03-20 15:41:33.700238]: positional args = (7,)\n",
      "LOG [2025-03-20 15:41:33.700238]: keyword args = {}\n",
      "LOG [2025-03-20 15:41:33.700273]: positional args = (5,)\n",
      "LOG [2025-03-20 15:41:33.700273]: keyword args = {}\n",
      "LOG [2025-03-20 15:41:33.700308]: results = 3\n",
      "LOG [2025-03-20 15:41:33.700326]: positional args = (6,)\n",
      "LOG [2025-03-20 15:41:33.700326]: keyword args = {}\n",
      "LOG [2025-03-20 15:41:33.700362]: results = 5\n",
      "LOG [2025-03-20 15:41:33.700397]: results = 8\n",
      "LOG [2025-03-20 15:41:33.700449]: results = 13\n",
      "LOG [2025-03-20 15:41:33.700491]: positional args = (9,)\n",
      "LOG [2025-03-20 15:41:33.700491]: keyword args = {}\n",
      "LOG [2025-03-20 15:41:33.700533]: positional args = (7,)\n",
      "LOG [2025-03-20 15:41:33.700533]: keyword args = {}\n",
      "LOG [2025-03-20 15:41:33.700569]: results = 8\n",
      "LOG [2025-03-20 15:41:33.700587]: positional args = (8,)\n",
      "LOG [2025-03-20 15:41:33.700587]: keyword args = {}\n",
      "LOG [2025-03-20 15:41:33.700643]: results = 13\n",
      "LOG [2025-03-20 15:41:33.700665]: results = 21\n",
      "LOG [2025-03-20 15:41:33.700683]: results = 34\n"
     ]
    },
    {
     "data": {
      "text/plain": [
       "34"
      ]
     },
     "execution_count": 93,
     "metadata": {},
     "output_type": "execute_result"
    }
   ],
   "source": [
    "fibo_rec4(10)"
   ]
  },
  {
   "cell_type": "code",
   "execution_count": 94,
   "id": "1360c7c4-9ca6-42cb-89fc-8e9870721ae5",
   "metadata": {},
   "outputs": [],
   "source": [
    "@lru_cache\n",
    "@logger\n",
    "@lru_cache\n",
    "@logger\n",
    "def fibo_rec5(n):\n",
    "    assert n >= 0\n",
    "    n1 = 0\n",
    "    n2 = 1\n",
    "    match n:\n",
    "        case 1:\n",
    "            return n1\n",
    "        case 2:\n",
    "            return n2\n",
    "        case _:\n",
    "            return fibo_rec5(n-2) + fibo_rec5(n-1)"
   ]
  },
  {
   "cell_type": "code",
   "execution_count": 95,
   "id": "9ba55f96-9a6f-4387-9586-230c13e901d8",
   "metadata": {},
   "outputs": [
    {
     "name": "stdout",
     "output_type": "stream",
     "text": [
      "LOG [2025-03-20 15:42:53.101848]: positional args = (10,)\n",
      "LOG [2025-03-20 15:42:53.101848]: keyword args = {}\n",
      "LOG [2025-03-20 15:42:53.102282]: positional args = (10,)\n",
      "LOG [2025-03-20 15:42:53.102282]: keyword args = {}\n",
      "LOG [2025-03-20 15:42:53.102331]: positional args = (8,)\n",
      "LOG [2025-03-20 15:42:53.102331]: keyword args = {}\n",
      "LOG [2025-03-20 15:42:53.102370]: positional args = (8,)\n",
      "LOG [2025-03-20 15:42:53.102370]: keyword args = {}\n",
      "LOG [2025-03-20 15:42:53.102411]: positional args = (6,)\n",
      "LOG [2025-03-20 15:42:53.102411]: keyword args = {}\n",
      "LOG [2025-03-20 15:42:53.102447]: positional args = (6,)\n",
      "LOG [2025-03-20 15:42:53.102447]: keyword args = {}\n",
      "LOG [2025-03-20 15:42:53.102486]: positional args = (4,)\n",
      "LOG [2025-03-20 15:42:53.102486]: keyword args = {}\n",
      "LOG [2025-03-20 15:42:53.102522]: positional args = (4,)\n",
      "LOG [2025-03-20 15:42:53.102522]: keyword args = {}\n",
      "LOG [2025-03-20 15:42:53.102559]: positional args = (2,)\n",
      "LOG [2025-03-20 15:42:53.102559]: keyword args = {}\n",
      "LOG [2025-03-20 15:42:53.102594]: positional args = (2,)\n",
      "LOG [2025-03-20 15:42:53.102594]: keyword args = {}\n",
      "LOG [2025-03-20 15:42:53.102631]: results = 1\n",
      "LOG [2025-03-20 15:42:53.102651]: results = 1\n",
      "LOG [2025-03-20 15:42:53.102671]: positional args = (3,)\n",
      "LOG [2025-03-20 15:42:53.102671]: keyword args = {}\n",
      "LOG [2025-03-20 15:42:53.102707]: positional args = (3,)\n",
      "LOG [2025-03-20 15:42:53.102707]: keyword args = {}\n",
      "LOG [2025-03-20 15:42:53.102742]: positional args = (1,)\n",
      "LOG [2025-03-20 15:42:53.102742]: keyword args = {}\n",
      "LOG [2025-03-20 15:42:53.102778]: positional args = (1,)\n",
      "LOG [2025-03-20 15:42:53.102778]: keyword args = {}\n",
      "LOG [2025-03-20 15:42:53.102817]: results = 0\n",
      "LOG [2025-03-20 15:42:53.102835]: results = 0\n",
      "LOG [2025-03-20 15:42:53.102855]: results = 1\n",
      "LOG [2025-03-20 15:42:53.102872]: results = 1\n",
      "LOG [2025-03-20 15:42:53.102890]: results = 2\n",
      "LOG [2025-03-20 15:42:53.102907]: results = 2\n",
      "LOG [2025-03-20 15:42:53.102924]: positional args = (5,)\n",
      "LOG [2025-03-20 15:42:53.102924]: keyword args = {}\n",
      "LOG [2025-03-20 15:42:53.102958]: positional args = (5,)\n",
      "LOG [2025-03-20 15:42:53.102958]: keyword args = {}\n",
      "LOG [2025-03-20 15:42:53.102992]: results = 3\n",
      "LOG [2025-03-20 15:42:53.103009]: results = 3\n",
      "LOG [2025-03-20 15:42:53.103026]: results = 5\n",
      "LOG [2025-03-20 15:42:53.103044]: results = 5\n",
      "LOG [2025-03-20 15:42:53.103062]: positional args = (7,)\n",
      "LOG [2025-03-20 15:42:53.103062]: keyword args = {}\n",
      "LOG [2025-03-20 15:42:53.103102]: positional args = (7,)\n",
      "LOG [2025-03-20 15:42:53.103102]: keyword args = {}\n",
      "LOG [2025-03-20 15:42:53.103136]: results = 8\n",
      "LOG [2025-03-20 15:42:53.103154]: results = 8\n",
      "LOG [2025-03-20 15:42:53.103172]: results = 13\n",
      "LOG [2025-03-20 15:42:53.103190]: results = 13\n",
      "LOG [2025-03-20 15:42:53.103208]: positional args = (9,)\n",
      "LOG [2025-03-20 15:42:53.103208]: keyword args = {}\n",
      "LOG [2025-03-20 15:42:53.103242]: positional args = (9,)\n",
      "LOG [2025-03-20 15:42:53.103242]: keyword args = {}\n",
      "LOG [2025-03-20 15:42:53.103323]: results = 21\n",
      "LOG [2025-03-20 15:42:53.103336]: results = 21\n",
      "LOG [2025-03-20 15:42:53.103345]: results = 34\n",
      "LOG [2025-03-20 15:42:53.103353]: results = 34\n"
     ]
    },
    {
     "data": {
      "text/plain": [
       "34"
      ]
     },
     "execution_count": 95,
     "metadata": {},
     "output_type": "execute_result"
    }
   ],
   "source": [
    "fibo_rec5(10)"
   ]
  },
  {
   "cell_type": "code",
   "execution_count": 98,
   "id": "4cbbbcf0-3585-4991-8a0f-dba3736f8cdf",
   "metadata": {},
   "outputs": [],
   "source": [
    "@logger\n",
    "def fibo6(n):\n",
    "    @lru_cache\n",
    "    def fibo_rec6(n):\n",
    "        assert n >= 0\n",
    "        n1 = 0\n",
    "        n2 = 1\n",
    "        match n:\n",
    "            case 1:\n",
    "                return n1\n",
    "            case 2:\n",
    "                return n2\n",
    "            case _:\n",
    "                return fibo_rec6(n-2) + fibo_rec6(n-1)\n",
    "    return fibo_rec6(n)"
   ]
  },
  {
   "cell_type": "code",
   "execution_count": 99,
   "id": "a3965650-3dcb-461c-94a2-716a7f22a6cc",
   "metadata": {},
   "outputs": [
    {
     "name": "stdout",
     "output_type": "stream",
     "text": [
      "LOG [2025-03-20 15:45:55.391994]: positional args = (100,)\n",
      "LOG [2025-03-20 15:45:55.391994]: keyword args = {}\n",
      "LOG [2025-03-20 15:45:55.393012]: results = 218922995834555169026\n"
     ]
    },
    {
     "data": {
      "text/plain": [
       "218922995834555169026"
      ]
     },
     "execution_count": 99,
     "metadata": {},
     "output_type": "execute_result"
    }
   ],
   "source": [
    "fibo6(100)"
   ]
  },
  {
   "cell_type": "code",
   "execution_count": null,
   "id": "813d0868-9534-48c8-a857-575f3578c492",
   "metadata": {},
   "outputs": [],
   "source": []
  }
 ],
 "metadata": {
  "kernelspec": {
   "display_name": "Python 3 (ipykernel)",
   "language": "python",
   "name": "python3"
  },
  "language_info": {
   "codemirror_mode": {
    "name": "ipython",
    "version": 3
   },
   "file_extension": ".py",
   "mimetype": "text/x-python",
   "name": "python",
   "nbconvert_exporter": "python",
   "pygments_lexer": "ipython3",
   "version": "3.13.2"
  }
 },
 "nbformat": 4,
 "nbformat_minor": 5
}
