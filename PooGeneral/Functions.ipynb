{
 "cells": [
  {
   "cell_type": "code",
   "execution_count": 1,
   "id": "815e0e56-d56b-455b-a436-4b157b0d890c",
   "metadata": {},
   "outputs": [],
   "source": [
    "def f1(a, b, c=0):\n",
    "    print(f\"a={a} ; b={b} ; c={c}\")"
   ]
  },
  {
   "cell_type": "code",
   "execution_count": 3,
   "id": "409570db-5872-4ca7-aef8-4b162fc1d132",
   "metadata": {},
   "outputs": [
    {
     "name": "stdout",
     "output_type": "stream",
     "text": [
      "a=1 ; b=2 ; c=3\n",
      "a=1 ; b=2 ; c=4\n",
      "a=12 ; b=13 ; c=0\n"
     ]
    }
   ],
   "source": [
    "f1(1, 2, 3)\n",
    "f1(1, 2, c=4)\n",
    "f1(a=12, b=13)"
   ]
  },
  {
   "cell_type": "code",
   "execution_count": 10,
   "id": "89bb2665-bef3-466b-8cf8-de8b11a0461f",
   "metadata": {},
   "outputs": [],
   "source": [
    "# tous les paramètres à droite du * doivent être fournis par keyword\n",
    "def f2(a, b, *, c=0): \n",
    "    print(f\"a={a} ; b={b} ; c={c}\")"
   ]
  },
  {
   "cell_type": "code",
   "execution_count": 9,
   "id": "6fd2ffae-0825-48ae-ad38-73e8ac3433a5",
   "metadata": {},
   "outputs": [
    {
     "name": "stdout",
     "output_type": "stream",
     "text": [
      "a=1 ; b=2 ; c=4\n",
      "a=12 ; b=13 ; c=0\n",
      "a=12 ; b=13 ; c=55\n",
      "a=55 ; b=13 ; c=12\n"
     ]
    }
   ],
   "source": [
    "# f2(1, 2, 3) # forbidden\n",
    "f2(1, 2, c=4)\n",
    "f2(a=12, b=13)\n",
    "f2(a=12, b=13, c=55)\n",
    "f2(c=12, b=13, a=55)"
   ]
  },
  {
   "cell_type": "code",
   "execution_count": 11,
   "id": "6ddec680-248f-4295-bde3-ad168770694b",
   "metadata": {},
   "outputs": [],
   "source": [
    "def f3(a, b, /, c=0): \n",
    "    print(f\"a={a} ; b={b} ; c={c}\")"
   ]
  },
  {
   "cell_type": "code",
   "execution_count": 13,
   "id": "85b835b8-0bec-4717-a965-c1e97d2552ce",
   "metadata": {},
   "outputs": [
    {
     "name": "stdout",
     "output_type": "stream",
     "text": [
      "a=1 ; b=2 ; c=3\n",
      "a=1 ; b=2 ; c=4\n"
     ]
    }
   ],
   "source": [
    "f3(1, 2, 3)\n",
    "f3(1, 2, c=4)\n",
    "\n",
    "# forbidden: a,b by keyword\n",
    "# f3(a=12, b=13)\n",
    "# f3(a=12, b=13, c=55)\n",
    "# f3(c=12, b=13, a=55)"
   ]
  },
  {
   "cell_type": "code",
   "execution_count": 14,
   "id": "92b9fa85-cdf4-4bf8-ac71-f61c9aad3458",
   "metadata": {},
   "outputs": [],
   "source": [
    "def f4(a, b, /, *, c=0): \n",
    "    print(f\"a={a} ; b={b} ; c={c}\")"
   ]
  },
  {
   "cell_type": "code",
   "execution_count": 19,
   "id": "d9feac0e-4b26-4e2d-a1c4-6b61eb0d84c0",
   "metadata": {},
   "outputs": [
    {
     "name": "stdout",
     "output_type": "stream",
     "text": [
      "a=1 ; b=2 ; c=4\n",
      "a=1 ; b=2 ; c=0\n"
     ]
    }
   ],
   "source": [
    "# f4(1, 2, 3) # c by position forbidden\n",
    "f4(1, 2, c=4)\n",
    "f4(1, 2)\n",
    "\n",
    "# forbidden: a,b by keyword\n",
    "# f4(a=12, b=13)\n",
    "# f4(a=12, b=13, c=55)\n",
    "# f4(c=12, b=13, a=55)"
   ]
  },
  {
   "cell_type": "code",
   "execution_count": 20,
   "id": "f773d116-fafd-463e-a196-091c84d2eca8",
   "metadata": {},
   "outputs": [
    {
     "data": {
      "text/plain": [
       "\u001b[1;31mSignature:\u001b[0m \u001b[0msum\u001b[0m\u001b[1;33m(\u001b[0m\u001b[0miterable\u001b[0m\u001b[1;33m,\u001b[0m \u001b[1;33m/\u001b[0m\u001b[1;33m,\u001b[0m \u001b[0mstart\u001b[0m\u001b[1;33m=\u001b[0m\u001b[1;36m0\u001b[0m\u001b[1;33m)\u001b[0m\u001b[1;33m\u001b[0m\u001b[1;33m\u001b[0m\u001b[0m\n",
       "\u001b[1;31mDocstring:\u001b[0m\n",
       "Return the sum of a 'start' value (default: 0) plus an iterable of numbers\n",
       "\n",
       "When the iterable is empty, return the start value.\n",
       "This function is intended specifically for use with numeric values and may\n",
       "reject non-numeric types.\n",
       "\u001b[1;31mType:\u001b[0m      builtin_function_or_method"
      ]
     },
     "metadata": {},
     "output_type": "display_data"
    }
   ],
   "source": [
    "sum?"
   ]
  },
  {
   "cell_type": "code",
   "execution_count": 21,
   "id": "c6a33c7b-a321-4958-8382-880f01693802",
   "metadata": {},
   "outputs": [
    {
     "data": {
      "text/plain": [
       "1045"
      ]
     },
     "execution_count": 21,
     "metadata": {},
     "output_type": "execute_result"
    }
   ],
   "source": [
    "sum(range(10), 1000)"
   ]
  },
  {
   "cell_type": "code",
   "execution_count": 22,
   "id": "77dbaa7c-b079-4215-b1a9-3fff7ce18cdf",
   "metadata": {},
   "outputs": [
    {
     "data": {
      "text/plain": [
       "1045"
      ]
     },
     "execution_count": 22,
     "metadata": {},
     "output_type": "execute_result"
    }
   ],
   "source": [
    "sum(range(10), start=1000)"
   ]
  },
  {
   "cell_type": "code",
   "execution_count": 27,
   "id": "cf34cc1e-fbe4-421b-bc58-b5eea1c65be8",
   "metadata": {},
   "outputs": [],
   "source": [
    "# TypeError: sum() takes at least 1 positional argument (0 given)\n",
    "# sum(iterable=range(10), start=1000)"
   ]
  }
 ],
 "metadata": {
  "kernelspec": {
   "display_name": "Python 3 (ipykernel)",
   "language": "python",
   "name": "python3"
  },
  "language_info": {
   "codemirror_mode": {
    "name": "ipython",
    "version": 3
   },
   "file_extension": ".py",
   "mimetype": "text/x-python",
   "name": "python",
   "nbconvert_exporter": "python",
   "pygments_lexer": "ipython3",
   "version": "3.9.21"
  }
 },
 "nbformat": 4,
 "nbformat_minor": 5
}
