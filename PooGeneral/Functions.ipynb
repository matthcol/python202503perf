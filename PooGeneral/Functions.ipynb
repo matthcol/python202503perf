{
 "cells": [
  {
   "cell_type": "code",
   "execution_count": 1,
   "id": "815e0e56-d56b-455b-a436-4b157b0d890c",
   "metadata": {},
   "outputs": [],
   "source": [
    "def f1(a, b, c=0):\n",
    "    print(f\"a={a} ; b={b} ; c={c}\")"
   ]
  },
  {
   "cell_type": "code",
   "execution_count": 2,
   "id": "409570db-5872-4ca7-aef8-4b162fc1d132",
   "metadata": {},
   "outputs": [
    {
     "name": "stdout",
     "output_type": "stream",
     "text": [
      "a=1 ; b=2 ; c=3\n",
      "a=1 ; b=2 ; c=4\n",
      "a=12 ; b=13 ; c=0\n"
     ]
    }
   ],
   "source": [
    "f1(1, 2, 3)\n",
    "f1(1, 2, c=4)\n",
    "f1(a=12, b=13)"
   ]
  },
  {
   "cell_type": "code",
   "execution_count": 3,
   "id": "89bb2665-bef3-466b-8cf8-de8b11a0461f",
   "metadata": {},
   "outputs": [],
   "source": [
    "# tous les paramètres à droite du * doivent être fournis par keyword\n",
    "def f2(a, b, *, c=0): \n",
    "    print(f\"a={a} ; b={b} ; c={c}\")"
   ]
  },
  {
   "cell_type": "code",
   "execution_count": 4,
   "id": "6fd2ffae-0825-48ae-ad38-73e8ac3433a5",
   "metadata": {},
   "outputs": [
    {
     "name": "stdout",
     "output_type": "stream",
     "text": [
      "a=1 ; b=2 ; c=4\n",
      "a=12 ; b=13 ; c=0\n",
      "a=12 ; b=13 ; c=55\n",
      "a=55 ; b=13 ; c=12\n"
     ]
    }
   ],
   "source": [
    "# f2(1, 2, 3) # forbidden\n",
    "f2(1, 2, c=4)\n",
    "f2(a=12, b=13)\n",
    "f2(a=12, b=13, c=55)\n",
    "f2(c=12, b=13, a=55)"
   ]
  },
  {
   "cell_type": "code",
   "execution_count": 5,
   "id": "6ddec680-248f-4295-bde3-ad168770694b",
   "metadata": {},
   "outputs": [],
   "source": [
    "def f3(a, b, /, c=0): \n",
    "    print(f\"a={a} ; b={b} ; c={c}\")"
   ]
  },
  {
   "cell_type": "code",
   "execution_count": 6,
   "id": "85b835b8-0bec-4717-a965-c1e97d2552ce",
   "metadata": {},
   "outputs": [
    {
     "name": "stdout",
     "output_type": "stream",
     "text": [
      "a=1 ; b=2 ; c=3\n",
      "a=1 ; b=2 ; c=4\n"
     ]
    }
   ],
   "source": [
    "f3(1, 2, 3)\n",
    "f3(1, 2, c=4)\n",
    "\n",
    "# forbidden: a,b by keyword\n",
    "# f3(a=12, b=13)\n",
    "# f3(a=12, b=13, c=55)\n",
    "# f3(c=12, b=13, a=55)"
   ]
  },
  {
   "cell_type": "code",
   "execution_count": 7,
   "id": "92b9fa85-cdf4-4bf8-ac71-f61c9aad3458",
   "metadata": {},
   "outputs": [],
   "source": [
    "def f4(a, b, /, *, c=0): \n",
    "    print(f\"a={a} ; b={b} ; c={c}\")"
   ]
  },
  {
   "cell_type": "code",
   "execution_count": 8,
   "id": "d9feac0e-4b26-4e2d-a1c4-6b61eb0d84c0",
   "metadata": {},
   "outputs": [
    {
     "name": "stdout",
     "output_type": "stream",
     "text": [
      "a=1 ; b=2 ; c=4\n",
      "a=1 ; b=2 ; c=0\n"
     ]
    }
   ],
   "source": [
    "# f4(1, 2, 3) # c by position forbidden\n",
    "f4(1, 2, c=4)\n",
    "f4(1, 2)\n",
    "\n",
    "# forbidden: a,b by keyword\n",
    "# f4(a=12, b=13)\n",
    "# f4(a=12, b=13, c=55)\n",
    "# f4(c=12, b=13, a=55)"
   ]
  },
  {
   "cell_type": "code",
   "execution_count": 9,
   "id": "f773d116-fafd-463e-a196-091c84d2eca8",
   "metadata": {},
   "outputs": [
    {
     "data": {
      "text/plain": [
       "\u001b[31mSignature:\u001b[39m sum(iterable, /, start=\u001b[32m0\u001b[39m)\n",
       "\u001b[31mDocstring:\u001b[39m\n",
       "Return the sum of a 'start' value (default: 0) plus an iterable of numbers\n",
       "\n",
       "When the iterable is empty, return the start value.\n",
       "This function is intended specifically for use with numeric values and may\n",
       "reject non-numeric types.\n",
       "\u001b[31mType:\u001b[39m      builtin_function_or_method"
      ]
     },
     "metadata": {},
     "output_type": "display_data"
    }
   ],
   "source": [
    "sum?"
   ]
  },
  {
   "cell_type": "code",
   "execution_count": 10,
   "id": "c6a33c7b-a321-4958-8382-880f01693802",
   "metadata": {},
   "outputs": [
    {
     "data": {
      "text/plain": [
       "1045"
      ]
     },
     "execution_count": 10,
     "metadata": {},
     "output_type": "execute_result"
    }
   ],
   "source": [
    "sum(range(10), 1000)"
   ]
  },
  {
   "cell_type": "code",
   "execution_count": 11,
   "id": "77dbaa7c-b079-4215-b1a9-3fff7ce18cdf",
   "metadata": {},
   "outputs": [
    {
     "data": {
      "text/plain": [
       "1045"
      ]
     },
     "execution_count": 11,
     "metadata": {},
     "output_type": "execute_result"
    }
   ],
   "source": [
    "sum(range(10), start=1000)"
   ]
  },
  {
   "cell_type": "code",
   "execution_count": 12,
   "id": "cf34cc1e-fbe4-421b-bc58-b5eea1c65be8",
   "metadata": {},
   "outputs": [],
   "source": [
    "# TypeError: sum() takes at least 1 positional argument (0 given)\n",
    "# sum(iterable=range(10), start=1000)"
   ]
  },
  {
   "cell_type": "markdown",
   "id": "f4db807f-0513-4216-a8f5-c1b6121244e4",
   "metadata": {},
   "source": [
    "## valeur par défaut mutable"
   ]
  },
  {
   "cell_type": "markdown",
   "id": "e5ec6a43-1d20-4cef-a75c-44250c466c82",
   "metadata": {},
   "source": [
    "### bad pratice\n",
    "init a paramater with a mutable object (same object for all calls)"
   ]
  },
  {
   "cell_type": "code",
   "execution_count": 13,
   "id": "bf480076-43ca-4eea-9019-310d7bf00a3a",
   "metadata": {},
   "outputs": [],
   "source": [
    "def play_with_list(a, b, l = []):\n",
    "    l.extend((a,b))\n",
    "    print('debug intern:', l)\n",
    "    return l"
   ]
  },
  {
   "cell_type": "code",
   "execution_count": 14,
   "id": "55ed70f1-0321-4782-aa7b-475ea2f37c24",
   "metadata": {},
   "outputs": [],
   "source": [
    "data = [1, 2, 3]"
   ]
  },
  {
   "cell_type": "code",
   "execution_count": 15,
   "id": "f0e1e170-e8dd-4702-9999-0807749a1d65",
   "metadata": {},
   "outputs": [
    {
     "name": "stdout",
     "output_type": "stream",
     "text": [
      "debug intern: [1, 2, 3, 4, 5]\n"
     ]
    },
    {
     "data": {
      "text/plain": [
       "[1, 2, 3, 4, 5]"
      ]
     },
     "execution_count": 15,
     "metadata": {},
     "output_type": "execute_result"
    }
   ],
   "source": [
    "play_with_list(4, 5, data)\n",
    "data"
   ]
  },
  {
   "cell_type": "code",
   "execution_count": 16,
   "id": "7f687950-74da-4ec4-90dc-3e8d40c8f572",
   "metadata": {},
   "outputs": [
    {
     "name": "stdout",
     "output_type": "stream",
     "text": [
      "debug intern: [6, 7]\n"
     ]
    },
    {
     "data": {
      "text/plain": [
       "[6, 7]"
      ]
     },
     "execution_count": 16,
     "metadata": {},
     "output_type": "execute_result"
    }
   ],
   "source": [
    "data2 = play_with_list(6, 7)\n",
    "data2"
   ]
  },
  {
   "cell_type": "code",
   "execution_count": 17,
   "id": "4705f3b6-08b3-4e93-a464-cb6820d907f0",
   "metadata": {},
   "outputs": [
    {
     "name": "stdout",
     "output_type": "stream",
     "text": [
      "debug intern: [6, 7, 8, 9]\n"
     ]
    },
    {
     "data": {
      "text/plain": [
       "[6, 7, 8, 9]"
      ]
     },
     "execution_count": 17,
     "metadata": {},
     "output_type": "execute_result"
    }
   ],
   "source": [
    "play_with_list(8, 9, data2)\n",
    "data2"
   ]
  },
  {
   "cell_type": "code",
   "execution_count": 18,
   "id": "4873ed34-b633-4f65-8015-df38a2fdc381",
   "metadata": {},
   "outputs": [
    {
     "name": "stdout",
     "output_type": "stream",
     "text": [
      "debug intern: [6, 7, 8, 9, 10, 11]\n"
     ]
    },
    {
     "data": {
      "text/plain": [
       "[6, 7, 8, 9, 10, 11]"
      ]
     },
     "execution_count": 18,
     "metadata": {},
     "output_type": "execute_result"
    }
   ],
   "source": [
    "data3 = play_with_list(10, 11)\n",
    "data3"
   ]
  },
  {
   "cell_type": "markdown",
   "id": "6bbee776-d5c5-466e-85d8-6220148503d1",
   "metadata": {},
   "source": [
    "### solution 1: init with None"
   ]
  },
  {
   "cell_type": "code",
   "execution_count": 19,
   "id": "62d2d57a-781b-4fe1-8cb0-208745d80148",
   "metadata": {},
   "outputs": [],
   "source": [
    "def play_with_list1(a, b, l = None):\n",
    "    if l is None:\n",
    "        l = []\n",
    "    l.extend((a,b))\n",
    "    print('debug intern:', l)\n",
    "    return l"
   ]
  },
  {
   "cell_type": "code",
   "execution_count": 20,
   "id": "fc34c8ce-06d5-42dd-a806-f395504cb4bd",
   "metadata": {},
   "outputs": [
    {
     "name": "stdout",
     "output_type": "stream",
     "text": [
      "debug intern: [1, 2]\n",
      "debug intern: [3, 4]\n",
      "[1, 2]\n",
      "[3, 4]\n"
     ]
    }
   ],
   "source": [
    "data2 = play_with_list1(1, 2)\n",
    "data3 = play_with_list1(3, 4)\n",
    "print(data2)\n",
    "print(data3)"
   ]
  },
  {
   "cell_type": "markdown",
   "id": "ebbcb260-fe1f-4e5e-948f-89ebafc36eac",
   "metadata": {},
   "source": [
    "## solution 2: factory"
   ]
  },
  {
   "cell_type": "code",
   "execution_count": 21,
   "id": "5e0313d3-a892-407f-902d-9112066d266f",
   "metadata": {},
   "outputs": [],
   "source": [
    "def play_with_list2(a, b, l = None, list_factory = None):\n",
    "    if l is None:\n",
    "        if list_factory is not None:\n",
    "            l = list_factory()\n",
    "        else:\n",
    "            l = []\n",
    "    l.extend((a,b))\n",
    "    print('debug intern:', l)\n",
    "    return l"
   ]
  },
  {
   "cell_type": "code",
   "execution_count": 22,
   "id": "a59fd509-b98e-4bb4-aeca-605a7c56a5be",
   "metadata": {},
   "outputs": [
    {
     "name": "stdout",
     "output_type": "stream",
     "text": [
      "debug intern: [1, 2, 3, 4, 5, 12, 13]\n"
     ]
    },
    {
     "data": {
      "text/plain": [
       "[1, 2, 3, 4, 5, 12, 13]"
      ]
     },
     "execution_count": 22,
     "metadata": {},
     "output_type": "execute_result"
    }
   ],
   "source": [
    "play_with_list2(12, 13, data)\n",
    "data"
   ]
  },
  {
   "cell_type": "code",
   "execution_count": 23,
   "id": "b94241fe-2522-443b-9a0a-cd58e49219d2",
   "metadata": {},
   "outputs": [
    {
     "name": "stdout",
     "output_type": "stream",
     "text": [
      "debug intern: [14, 15]\n"
     ]
    },
    {
     "data": {
      "text/plain": [
       "[14, 15]"
      ]
     },
     "execution_count": 23,
     "metadata": {},
     "output_type": "execute_result"
    }
   ],
   "source": [
    "data5 = play_with_list2(14, 15, list_factory=list)\n",
    "data5"
   ]
  },
  {
   "cell_type": "code",
   "execution_count": 24,
   "id": "04b05812-2d4f-414f-862d-2fe662637172",
   "metadata": {},
   "outputs": [
    {
     "name": "stdout",
     "output_type": "stream",
     "text": [
      "debug intern: [1, 2, 3, 16, 17]\n",
      "debug intern: [1, 2, 3, 16, 17]\n",
      "debug intern: [1, 2, 3, 16, 17]\n",
      "debug intern: [1, 2, 3, 16, 17]\n",
      "debug intern: [1, 2, 3, 16, 17]\n",
      "debug intern: [1, 2, 3, 16, 17]\n",
      "debug intern: [1, 2, 3, 16, 17]\n",
      "debug intern: [1, 2, 3, 16, 17]\n",
      "debug intern: [1, 2, 3, 16, 17]\n",
      "debug intern: [1, 2, 3, 16, 17]\n"
     ]
    }
   ],
   "source": [
    "for _ in range(10):\n",
    "    _ = play_with_list2(16, 17, list_factory=lambda: [1, 2, 3])"
   ]
  }
 ],
 "metadata": {
  "kernelspec": {
   "display_name": "Python 3 (ipykernel)",
   "language": "python",
   "name": "python3"
  },
  "language_info": {
   "codemirror_mode": {
    "name": "ipython",
    "version": 3
   },
   "file_extension": ".py",
   "mimetype": "text/x-python",
   "name": "python",
   "nbconvert_exporter": "python",
   "pygments_lexer": "ipython3",
   "version": "3.13.2"
  }
 },
 "nbformat": 4,
 "nbformat_minor": 5
}
